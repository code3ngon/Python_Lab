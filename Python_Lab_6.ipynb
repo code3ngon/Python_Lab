{
  "nbformat": 4,
  "nbformat_minor": 0,
  "metadata": {
    "colab": {
      "provenance": [],
      "authorship_tag": "ABX9TyNXXc4XOUiRIT8Locd6xPIB",
      "include_colab_link": true
    },
    "kernelspec": {
      "name": "python3",
      "display_name": "Python 3"
    },
    "language_info": {
      "name": "python"
    }
  },
  "cells": [
    {
      "cell_type": "markdown",
      "metadata": {
        "id": "view-in-github",
        "colab_type": "text"
      },
      "source": [
        "<a href=\"https://colab.research.google.com/github/code3ngon/Python_Lab/blob/main/Python_Lab_6.ipynb\" target=\"_parent\"><img src=\"https://colab.research.google.com/assets/colab-badge.svg\" alt=\"Open In Colab\"/></a>"
      ]
    },
    {
      "cell_type": "markdown",
      "source": [
        "Tuple\n",
        "1. to create a tuple of numbers and print one item.\n",
        "2. to unpack a tuple into several variables.\n",
        "3. to add an item to a tuple.\n",
        "4. to find the index of an item in a tuple.\n",
        "5. to find the repeated items of a tuple"
      ],
      "metadata": {
        "id": "92YNzFNQt5GR"
      }
    },
    {
      "cell_type": "markdown",
      "source": [
        "1."
      ],
      "metadata": {
        "id": "7TFkYTZmvJwO"
      }
    },
    {
      "cell_type": "code",
      "source": [
        "so_tuple = (10, 20, 30, 40, 50)\n",
        "print(\"Tuple đã tạo:\", so_tuple)"
      ],
      "metadata": {
        "colab": {
          "base_uri": "https://localhost:8080/"
        },
        "id": "cVmbev2tuChe",
        "outputId": "c2035b1f-9509-41c1-821f-d627d668f848"
      },
      "execution_count": 1,
      "outputs": [
        {
          "output_type": "stream",
          "name": "stdout",
          "text": [
            "Tuple đã tạo: (10, 20, 30, 40, 50)\n"
          ]
        }
      ]
    },
    {
      "cell_type": "code",
      "source": [
        "print(\"Phần tử đầu tiên:\", so_tuple[0])"
      ],
      "metadata": {
        "colab": {
          "base_uri": "https://localhost:8080/"
        },
        "id": "wgS8Ahg5u2za",
        "outputId": "5e92bf20-6e89-425e-c9d0-b2c4a2c52de1"
      },
      "execution_count": 2,
      "outputs": [
        {
          "output_type": "stream",
          "name": "stdout",
          "text": [
            "Phần tử đầu tiên: 10\n"
          ]
        }
      ]
    },
    {
      "cell_type": "markdown",
      "source": [
        "2."
      ],
      "metadata": {
        "id": "IaTblSKEvLyp"
      }
    },
    {
      "cell_type": "code",
      "source": [
        "sv = (\"Huynh Tran Bao Viet\", 19, \"CS0001\", 4.0)\n",
        "print(\"Thông tin sinh vien:\", sv)\n",
        "\n",
        "ten, tuoi, lop, gpa = sv\n",
        "\n",
        "print(\"Tên:\", ten)\n",
        "print(\"Tuổi:\", tuoi)\n",
        "print(\"Lớp:\", lop)\n",
        "print(\"GPA:\", gpa)"
      ],
      "metadata": {
        "colab": {
          "base_uri": "https://localhost:8080/"
        },
        "id": "4zDJ701wvMbj",
        "outputId": "00d17cf8-d26a-462b-a97f-d5270a2cc337"
      },
      "execution_count": 4,
      "outputs": [
        {
          "output_type": "stream",
          "name": "stdout",
          "text": [
            "Thông tin sinh vien: ('Huynh Tran Bao Viet', 19, 'CS0001', 4.0)\n",
            "Tên: Huynh Tran Bao Viet\n",
            "Tuổi: 19\n",
            "Lớp: CS0001\n",
            "GPA: 4.0\n"
          ]
        }
      ]
    },
    {
      "cell_type": "markdown",
      "source": [
        "3.\n"
      ],
      "metadata": {
        "id": "86xo191ov-ti"
      }
    },
    {
      "cell_type": "code",
      "source": [
        "mau_sac = (\"đỏ\", \"xanh\", \"vàng\")\n",
        "print(\"Tuple ban đầu:\", mau_sac)\n",
        "\n",
        "mau_sac_moi = mau_sac + (\"tím\",)\n",
        "print(\"Tuple sau khi thêm 'tím':\", mau_sac_moi)"
      ],
      "metadata": {
        "colab": {
          "base_uri": "https://localhost:8080/"
        },
        "id": "Ia-oPz7av_Zv",
        "outputId": "ce686ddc-de76-43eb-b819-42a620db033d"
      },
      "execution_count": 5,
      "outputs": [
        {
          "output_type": "stream",
          "name": "stdout",
          "text": [
            "Tuple ban đầu: ('đỏ', 'xanh', 'vàng')\n",
            "Tuple sau khi thêm 'tím': ('đỏ', 'xanh', 'vàng', 'tím')\n"
          ]
        }
      ]
    },
    {
      "cell_type": "markdown",
      "source": [
        "4."
      ],
      "metadata": {
        "id": "5ypSyFQWwWev"
      }
    },
    {
      "cell_type": "code",
      "source": [
        "trai_cay = (\"táo\", \"cam\", \"chuối\", \"dâu\", \"cam\", \"xoài\")\n",
        "print(\"Tuple trái cây:\", trai_cay)\n",
        "\n",
        "vi_tri_cam = trai_cay.index(\"cam\")\n",
        "print(\"Vị trí đầu tiên của 'cam':\", vi_tri_cam)"
      ],
      "metadata": {
        "colab": {
          "base_uri": "https://localhost:8080/"
        },
        "id": "LzLC83PgwPJJ",
        "outputId": "3c898adc-059d-484b-b481-e8e1a6e69876"
      },
      "execution_count": 6,
      "outputs": [
        {
          "output_type": "stream",
          "name": "stdout",
          "text": [
            "Tuple trái cây: ('táo', 'cam', 'chuối', 'dâu', 'cam', 'xoài')\n",
            "Vị trí đầu tiên của 'cam': 1\n"
          ]
        }
      ]
    },
    {
      "cell_type": "markdown",
      "source": [
        "5."
      ],
      "metadata": {
        "id": "dJExRmKEwdAC"
      }
    },
    {
      "cell_type": "code",
      "source": [
        "so_ngau_nhien = (3, 7, 1, 3, 5, 7, 9, 3, 5, 2)\n",
        "print(\"Tuple số ngẫu nhiên:\", so_ngau_nhien)\n",
        "\n",
        "phan_tu_lap = []\n",
        "for i in so_ngau_nhien:\n",
        "    if so_ngau_nhien.count(i) > 1 and i not in phan_tu_lap:\n",
        "        phan_tu_lap.append(i)\n",
        "print(\"Các phần tử lặp lại:\", phan_tu_lap)"
      ],
      "metadata": {
        "colab": {
          "base_uri": "https://localhost:8080/"
        },
        "id": "wFncemvdwZTb",
        "outputId": "23fb23bd-cd2c-41b1-8ab9-af96aac287d3"
      },
      "execution_count": 9,
      "outputs": [
        {
          "output_type": "stream",
          "name": "stdout",
          "text": [
            "Tuple số ngẫu nhiên: (3, 7, 1, 3, 5, 7, 9, 3, 5, 2)\n",
            "Các phần tử lặp lại: [3, 7, 5]\n"
          ]
        }
      ]
    },
    {
      "cell_type": "markdown",
      "source": [
        "Set\n",
        "\n",
        "1. Write a Python program to find the maximum and minimum values in a set.\n",
        "2. Write a Python program to check if a given value is present in a set or not.\n",
        "3. Write a Python program to check if two given sets have no elements in common.\n",
        "4. Write a Python program to find all the unique words and count the frequency of occurrence from a given list of strings. Use Python set data type.\n",
        "5. Given two sets of numbers, write a Python program to find the missing numbers in the second set as compared to the first and vice versa. Use the Python set."
      ],
      "metadata": {
        "id": "AfrPfglHwzN8"
      }
    },
    {
      "cell_type": "markdown",
      "source": [
        "1."
      ],
      "metadata": {
        "id": "Cc2lnU94xEJL"
      }
    },
    {
      "cell_type": "code",
      "source": [
        "so_set = {45, 12, 78, 34, 56, 23, 90, 5}\n",
        "print(\"Set đã tạo:\", so_set)"
      ],
      "metadata": {
        "colab": {
          "base_uri": "https://localhost:8080/"
        },
        "id": "wl5azetsw_WI",
        "outputId": "3b4eea4f-c66a-4e79-bf40-afee9e2bd621"
      },
      "execution_count": 10,
      "outputs": [
        {
          "output_type": "stream",
          "name": "stdout",
          "text": [
            "Set đã tạo: {34, 5, 12, 45, 78, 23, 56, 90}\n"
          ]
        }
      ]
    },
    {
      "cell_type": "code",
      "source": [
        "gia_tri_lon_nhat = max(so_set)\n",
        "print(\"Giá trị lớn nhất:\", gia_tri_lon_nhat)"
      ],
      "metadata": {
        "colab": {
          "base_uri": "https://localhost:8080/"
        },
        "id": "LnTwPoxpyTB3",
        "outputId": "d1b421dc-ec84-408a-be46-64f825146b0b"
      },
      "execution_count": 11,
      "outputs": [
        {
          "output_type": "stream",
          "name": "stdout",
          "text": [
            "Giá trị lớn nhất: 90\n"
          ]
        }
      ]
    },
    {
      "cell_type": "code",
      "source": [
        "gia_tri_nho_nhat = min(so_set)\n",
        "print(\"Giá trị nhỏ nhất:\", gia_tri_nho_nhat)"
      ],
      "metadata": {
        "colab": {
          "base_uri": "https://localhost:8080/"
        },
        "id": "F_jtNCx8yWUS",
        "outputId": "8a83d087-2b80-4b12-bacb-4401e62f76ac"
      },
      "execution_count": 12,
      "outputs": [
        {
          "output_type": "stream",
          "name": "stdout",
          "text": [
            "Giá trị nhỏ nhất: 5\n"
          ]
        }
      ]
    },
    {
      "cell_type": "markdown",
      "source": [
        "2."
      ],
      "metadata": {
        "id": "-Z2oTgeqytyg"
      }
    },
    {
      "cell_type": "code",
      "source": [
        "mau_sac = {\"đỏ\", \"xanh lá\", \"vàng\", \"cam\", \"tím\", \"xanh dương\"}\n",
        "print(\"Set màu sắc:\", mau_sac)\n",
        "kiem_tra = [\"đỏ\", \"đen\", \"vàng\", \"trắng\"]\n",
        "\n",
        "for mau in kiem_tra:\n",
        "    if mau in mau_sac:\n",
        "        print(f\"'{mau}' có trong set màu sắc\")\n",
        "    else:\n",
        "        print(f\"'{mau}' không có trong set màu sắc\")"
      ],
      "metadata": {
        "colab": {
          "base_uri": "https://localhost:8080/"
        },
        "id": "QFcUtCkSyZW5",
        "outputId": "fe3733e4-2f92-4902-f45d-47dbf5434419"
      },
      "execution_count": 15,
      "outputs": [
        {
          "output_type": "stream",
          "name": "stdout",
          "text": [
            "Set màu sắc: {'vàng', 'cam', 'xanh lá', 'tím', 'đỏ', 'xanh dương'}\n",
            "'đỏ' có trong set màu sắc\n",
            "'đen' không có trong set màu sắc\n",
            "'vàng' có trong set màu sắc\n",
            "'trắng' không có trong set màu sắc\n"
          ]
        }
      ]
    },
    {
      "cell_type": "markdown",
      "source": [
        "3."
      ],
      "metadata": {
        "id": "Ezt_eXtN0POL"
      }
    },
    {
      "cell_type": "code",
      "source": [
        "set_a = {1, 2, 3, 4, 5}\n",
        "set_b = {5, 6, 7, 8, 9}\n",
        "if set_a.isdisjoint(set_b):\n",
        "    print(\"Set A và Set B không có phần tử chung\")\n",
        "else:\n",
        "    print(\"Set A và Set B có ít nhất một phần tử chung\")\n",
        "    print(\"Các phần tử chung:\", set_a.intersection(set_b))"
      ],
      "metadata": {
        "colab": {
          "base_uri": "https://localhost:8080/"
        },
        "id": "9mcJDv-MyvFG",
        "outputId": "4be21cb7-3cac-4c9b-f5ee-2a6502dee798"
      },
      "execution_count": 18,
      "outputs": [
        {
          "output_type": "stream",
          "name": "stdout",
          "text": [
            "Set A và Set B có ít nhất một phần tử chung\n",
            "Các phần tử chung: {5}\n"
          ]
        }
      ]
    },
    {
      "cell_type": "markdown",
      "source": [
        "4."
      ],
      "metadata": {
        "id": "Xx_CnuUC02hA"
      }
    },
    {
      "cell_type": "code",
      "source": [
        "danh_sach_chuoi = [\n",
        "    \"hello cac ban\",\n",
        "    \"Tung tung tung sahur\",\n",
        "    \"Dark bruh lmao\",\n",
        "    \"skibidi toilet\"\n",
        "]\n",
        "\n",
        "print(\"Danh sách chuỗi:\")\n",
        "for i, chuoi in enumerate(danh_sach_chuoi, 1):\n",
        "    print(f\"{i}. {chuoi}\")\n",
        "\n",
        "tat_ca_tu = []\n",
        "for chuoi in danh_sach_chuoi:\n",
        "    tu_trong_chuoi = chuoi.split()\n",
        "    tat_ca_tu.extend(tu_trong_chuoi)\n",
        "\n",
        "print(f\"\\nTổng số từ: {len(tat_ca_tu)}\")\n",
        "\n",
        "tu_duy_nhat = set(tat_ca_tu)\n",
        "print(f\"Số từ duy nhất: {len(tu_duy_nhat)}\")\n",
        "print(\"Các từ duy nhất:\", tu_duy_nhat)\n",
        "\n",
        "tan_suat = {}\n",
        "for tu in tat_ca_tu:\n",
        "    if tu in tan_suat:\n",
        "        tan_suat[tu] += 1\n",
        "    else:\n",
        "        tan_suat[tu] = 1\n",
        "\n",
        "print(\"\\nTần suất xuất hiện của từng từ:\")\n",
        "for tu, so_lan in sorted(tan_suat.items()):\n",
        "    print(f\"'{tu}': {so_lan} lần\")\n"
      ],
      "metadata": {
        "colab": {
          "base_uri": "https://localhost:8080/"
        },
        "id": "450kar3W0UjJ",
        "outputId": "27e1f34b-44ba-45e4-bdb0-8f598e87c00d"
      },
      "execution_count": 20,
      "outputs": [
        {
          "output_type": "stream",
          "name": "stdout",
          "text": [
            "Danh sách chuỗi:\n",
            "1. hello cac ban\n",
            "2. Tung tung tung sahur\n",
            "3. Dark bruh lmao\n",
            "4. skibidi toilet\n",
            "\n",
            "Tổng số từ: 12\n",
            "Số từ duy nhất: 11\n",
            "Các từ duy nhất: {'bruh', 'hello', 'skibidi', 'ban', 'tung', 'lmao', 'toilet', 'cac', 'sahur', 'Tung', 'Dark'}\n",
            "\n",
            "Tần suất xuất hiện của từng từ:\n",
            "'Dark': 1 lần\n",
            "'Tung': 1 lần\n",
            "'ban': 1 lần\n",
            "'bruh': 1 lần\n",
            "'cac': 1 lần\n",
            "'hello': 1 lần\n",
            "'lmao': 1 lần\n",
            "'sahur': 1 lần\n",
            "'skibidi': 1 lần\n",
            "'toilet': 1 lần\n",
            "'tung': 2 lần\n"
          ]
        }
      ]
    },
    {
      "cell_type": "markdown",
      "source": [
        "5."
      ],
      "metadata": {
        "id": "Kg-5vpDm2Geq"
      }
    },
    {
      "cell_type": "code",
      "source": [
        "set_1 = {1, 2, 3, 4, 5, 6, 7, 8, 9, 10}\n",
        "set_2 = {2, 4, 6, 8, 10, 12, 14}\n",
        "\n",
        "print(\"Set 1:\", set_1)\n",
        "print(\"Set 2:\", set_2)\n",
        "\n",
        "so_thieu_trong_set_2 = set_1 - set_2\n",
        "print(\"Các số có trong Set 1 nhưng không có trong Set 2:\", so_thieu_trong_set_2)"
      ],
      "metadata": {
        "colab": {
          "base_uri": "https://localhost:8080/"
        },
        "id": "QChoqLRQ1BJ0",
        "outputId": "12722b9c-2464-4b40-bce7-8e845fa27066"
      },
      "execution_count": 22,
      "outputs": [
        {
          "output_type": "stream",
          "name": "stdout",
          "text": [
            "Set 1: {1, 2, 3, 4, 5, 6, 7, 8, 9, 10}\n",
            "Set 2: {2, 4, 6, 8, 10, 12, 14}\n",
            "Các số có trong Set 1 nhưng không có trong Set 2: {1, 3, 5, 7, 9}\n"
          ]
        }
      ]
    },
    {
      "cell_type": "code",
      "source": [],
      "metadata": {
        "id": "qbKrPNxW2I8X"
      },
      "execution_count": null,
      "outputs": []
    }
  ]
}