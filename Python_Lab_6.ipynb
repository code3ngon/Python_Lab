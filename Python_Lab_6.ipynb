{
  "nbformat": 4,
  "nbformat_minor": 0,
  "metadata": {
    "colab": {
      "provenance": [],
      "authorship_tag": "ABX9TyNV8eX+2oS5zfTc63TeMOww",
      "include_colab_link": true
    },
    "kernelspec": {
      "name": "python3",
      "display_name": "Python 3"
    },
    "language_info": {
      "name": "python"
    }
  },
  "cells": [
    {
      "cell_type": "markdown",
      "metadata": {
        "id": "view-in-github",
        "colab_type": "text"
      },
      "source": [
        "<a href=\"https://colab.research.google.com/github/code3ngon/Python_Lab/blob/main/Python_Lab_6.ipynb\" target=\"_parent\"><img src=\"https://colab.research.google.com/assets/colab-badge.svg\" alt=\"Open In Colab\"/></a>"
      ]
    },
    {
      "cell_type": "markdown",
      "source": [
        "Tuple\n",
        "1. to create a tuple of numbers and print one item.\n",
        "2. to unpack a tuple into several variables.\n",
        "3. to add an item to a tuple.\n",
        "4. to find the index of an item in a tuple.\n",
        "5. to find the repeated items of a tuple"
      ],
      "metadata": {
        "id": "92YNzFNQt5GR"
      }
    },
    {
      "cell_type": "markdown",
      "source": [
        "1."
      ],
      "metadata": {
        "id": "7TFkYTZmvJwO"
      }
    },
    {
      "cell_type": "code",
      "source": [
        "so_tuple = (10, 20, 30, 40, 50)\n",
        "print(\"Tuple đã tạo:\", so_tuple)"
      ],
      "metadata": {
        "colab": {
          "base_uri": "https://localhost:8080/"
        },
        "id": "cVmbev2tuChe",
        "outputId": "b4f30415-3191-4c89-ca04-028f9d48ff67"
      },
      "execution_count": 1,
      "outputs": [
        {
          "output_type": "stream",
          "name": "stdout",
          "text": [
            "Tuple đã tạo: (10, 20, 30, 40, 50)\n"
          ]
        }
      ]
    },
    {
      "cell_type": "code",
      "source": [
        "print(\"Phần tử đầu tiên:\", so_tuple[0])"
      ],
      "metadata": {
        "colab": {
          "base_uri": "https://localhost:8080/"
        },
        "id": "wgS8Ahg5u2za",
        "outputId": "12829c6d-aa88-4996-aa26-a53b5020f0f2"
      },
      "execution_count": 2,
      "outputs": [
        {
          "output_type": "stream",
          "name": "stdout",
          "text": [
            "Phần tử đầu tiên: 10\n"
          ]
        }
      ]
    },
    {
      "cell_type": "markdown",
      "source": [
        "2."
      ],
      "metadata": {
        "id": "IaTblSKEvLyp"
      }
    },
    {
      "cell_type": "code",
      "source": [
        "sv = (\"Huynh Tran Bao Viet\", 19, \"CS0001\", 4.0)\n",
        "print(\"Thông tin sinh vien:\", sv)\n",
        "\n",
        "ten, tuoi, lop, gpa = sv\n",
        "\n",
        "print(\"Tên:\", ten)\n",
        "print(\"Tuổi:\", tuoi)\n",
        "print(\"Lớp:\", lop)\n",
        "print(\"GPA:\", gpa)"
      ],
      "metadata": {
        "colab": {
          "base_uri": "https://localhost:8080/"
        },
        "id": "4zDJ701wvMbj",
        "outputId": "6fb88ea7-dd55-4319-cad0-7feedb6402f6"
      },
      "execution_count": 3,
      "outputs": [
        {
          "output_type": "stream",
          "name": "stdout",
          "text": [
            "Thông tin sinh vien: ('Huynh Tran Bao Viet', 19, 'CS0001', 4.0)\n",
            "Tên: Huynh Tran Bao Viet\n",
            "Tuổi: 19\n",
            "Lớp: CS0001\n",
            "GPA: 4.0\n"
          ]
        }
      ]
    },
    {
      "cell_type": "markdown",
      "source": [
        "3.\n"
      ],
      "metadata": {
        "id": "86xo191ov-ti"
      }
    },
    {
      "cell_type": "code",
      "source": [
        "mau_sac = (\"đỏ\", \"xanh\", \"vàng\")\n",
        "print(\"Tuple ban đầu:\", mau_sac)\n",
        "\n",
        "mau_sac_moi = mau_sac + (\"tím\",)\n",
        "print(\"Tuple sau khi thêm 'tím':\", mau_sac_moi)"
      ],
      "metadata": {
        "colab": {
          "base_uri": "https://localhost:8080/"
        },
        "id": "Ia-oPz7av_Zv",
        "outputId": "e45be131-1ad8-42c5-ee0a-e4e0ca6fd210"
      },
      "execution_count": 4,
      "outputs": [
        {
          "output_type": "stream",
          "name": "stdout",
          "text": [
            "Tuple ban đầu: ('đỏ', 'xanh', 'vàng')\n",
            "Tuple sau khi thêm 'tím': ('đỏ', 'xanh', 'vàng', 'tím')\n"
          ]
        }
      ]
    },
    {
      "cell_type": "markdown",
      "source": [
        "4."
      ],
      "metadata": {
        "id": "5ypSyFQWwWev"
      }
    },
    {
      "cell_type": "code",
      "source": [
        "trai_cay = (\"táo\", \"cam\", \"chuối\", \"dâu\", \"cam\", \"xoài\")\n",
        "print(\"Tuple trái cây:\", trai_cay)\n",
        "\n",
        "vi_tri_cam = trai_cay.index(\"cam\")\n",
        "print(\"Vị trí đầu tiên của 'cam':\", vi_tri_cam)"
      ],
      "metadata": {
        "colab": {
          "base_uri": "https://localhost:8080/"
        },
        "id": "LzLC83PgwPJJ",
        "outputId": "91a91fec-0540-4557-e7cb-57b4235751e5"
      },
      "execution_count": 5,
      "outputs": [
        {
          "output_type": "stream",
          "name": "stdout",
          "text": [
            "Tuple trái cây: ('táo', 'cam', 'chuối', 'dâu', 'cam', 'xoài')\n",
            "Vị trí đầu tiên của 'cam': 1\n"
          ]
        }
      ]
    },
    {
      "cell_type": "markdown",
      "source": [
        "5."
      ],
      "metadata": {
        "id": "dJExRmKEwdAC"
      }
    },
    {
      "cell_type": "code",
      "source": [
        "so_ngau_nhien = (3, 7, 1, 3, 5, 7, 9, 3, 5, 2)\n",
        "print(\"Tuple số ngẫu nhiên:\", so_ngau_nhien)\n",
        "\n",
        "phan_tu_lap = []\n",
        "for i in so_ngau_nhien:\n",
        "    if so_ngau_nhien.count(i) > 1 and i not in phan_tu_lap:\n",
        "        phan_tu_lap.append(i)\n",
        "print(\"Các phần tử lặp lại:\", phan_tu_lap)"
      ],
      "metadata": {
        "colab": {
          "base_uri": "https://localhost:8080/"
        },
        "id": "wFncemvdwZTb",
        "outputId": "e0d5a7e0-d573-418b-979d-08700c139685"
      },
      "execution_count": 6,
      "outputs": [
        {
          "output_type": "stream",
          "name": "stdout",
          "text": [
            "Tuple số ngẫu nhiên: (3, 7, 1, 3, 5, 7, 9, 3, 5, 2)\n",
            "Các phần tử lặp lại: [3, 7, 5]\n"
          ]
        }
      ]
    },
    {
      "cell_type": "markdown",
      "source": [
        "Set\n",
        "\n",
        "1. Write a Python program to find the maximum and minimum values in a set.\n",
        "2. Write a Python program to check if a given value is present in a set or not.\n",
        "3. Write a Python program to check if two given sets have no elements in common.\n",
        "4. Write a Python program to find all the unique words and count the frequency of occurrence from a given list of strings. Use Python set data type.\n",
        "5. Given two sets of numbers, write a Python program to find the missing numbers in the second set as compared to the first and vice versa. Use the Python set."
      ],
      "metadata": {
        "id": "AfrPfglHwzN8"
      }
    },
    {
      "cell_type": "markdown",
      "source": [
        "1."
      ],
      "metadata": {
        "id": "Cc2lnU94xEJL"
      }
    },
    {
      "cell_type": "code",
      "source": [
        "so_set = {45, 12, 78, 34, 56, 23, 90, 5}\n",
        "print(\"Set đã tạo:\", so_set)"
      ],
      "metadata": {
        "colab": {
          "base_uri": "https://localhost:8080/"
        },
        "id": "wl5azetsw_WI",
        "outputId": "6c6edef7-3ad3-49bd-a819-eb457b43b824"
      },
      "execution_count": 7,
      "outputs": [
        {
          "output_type": "stream",
          "name": "stdout",
          "text": [
            "Set đã tạo: {34, 5, 12, 45, 78, 23, 56, 90}\n"
          ]
        }
      ]
    },
    {
      "cell_type": "code",
      "source": [
        "gia_tri_lon_nhat = max(so_set)\n",
        "print(\"Giá trị lớn nhất:\", gia_tri_lon_nhat)"
      ],
      "metadata": {
        "colab": {
          "base_uri": "https://localhost:8080/"
        },
        "id": "LnTwPoxpyTB3",
        "outputId": "8516ad1c-b132-4c0e-9452-994dad1446b8"
      },
      "execution_count": 8,
      "outputs": [
        {
          "output_type": "stream",
          "name": "stdout",
          "text": [
            "Giá trị lớn nhất: 90\n"
          ]
        }
      ]
    },
    {
      "cell_type": "code",
      "source": [
        "gia_tri_nho_nhat = min(so_set)\n",
        "print(\"Giá trị nhỏ nhất:\", gia_tri_nho_nhat)"
      ],
      "metadata": {
        "colab": {
          "base_uri": "https://localhost:8080/"
        },
        "id": "F_jtNCx8yWUS",
        "outputId": "eae23f0b-12ce-4a59-a9e0-b0a1f3bbf927"
      },
      "execution_count": 9,
      "outputs": [
        {
          "output_type": "stream",
          "name": "stdout",
          "text": [
            "Giá trị nhỏ nhất: 5\n"
          ]
        }
      ]
    },
    {
      "cell_type": "markdown",
      "source": [
        "2."
      ],
      "metadata": {
        "id": "-Z2oTgeqytyg"
      }
    },
    {
      "cell_type": "code",
      "source": [
        "mau_sac = {\"đỏ\", \"xanh lá\", \"vàng\", \"cam\", \"tím\", \"xanh dương\"}\n",
        "print(\"Set màu sắc:\", mau_sac)\n",
        "kiem_tra = [\"đỏ\", \"đen\", \"vàng\", \"trắng\"]\n",
        "\n",
        "for mau in kiem_tra:\n",
        "    if mau in mau_sac:\n",
        "        print(f\"'{mau}' có trong set màu sắc\")\n",
        "    else:\n",
        "        print(f\"'{mau}' không có trong set màu sắc\")"
      ],
      "metadata": {
        "colab": {
          "base_uri": "https://localhost:8080/"
        },
        "id": "QFcUtCkSyZW5",
        "outputId": "cefb8fd1-425c-4892-f9eb-11e89d59568d"
      },
      "execution_count": 10,
      "outputs": [
        {
          "output_type": "stream",
          "name": "stdout",
          "text": [
            "Set màu sắc: {'vàng', 'xanh lá', 'đỏ', 'cam', 'tím', 'xanh dương'}\n",
            "'đỏ' có trong set màu sắc\n",
            "'đen' không có trong set màu sắc\n",
            "'vàng' có trong set màu sắc\n",
            "'trắng' không có trong set màu sắc\n"
          ]
        }
      ]
    },
    {
      "cell_type": "markdown",
      "source": [
        "3."
      ],
      "metadata": {
        "id": "Ezt_eXtN0POL"
      }
    },
    {
      "cell_type": "code",
      "source": [
        "set_a = {1, 2, 3, 4, 5}\n",
        "set_b = {5, 6, 7, 8, 9}\n",
        "if set_a.isdisjoint(set_b):\n",
        "    print(\"Set A và Set B không có phần tử chung\")\n",
        "else:\n",
        "    print(\"Set A và Set B có ít nhất một phần tử chung\")\n",
        "    print(\"Các phần tử chung:\", set_a.intersection(set_b))"
      ],
      "metadata": {
        "colab": {
          "base_uri": "https://localhost:8080/"
        },
        "id": "9mcJDv-MyvFG",
        "outputId": "1755fe68-a41e-4dc4-a49b-6fdef6455013"
      },
      "execution_count": 11,
      "outputs": [
        {
          "output_type": "stream",
          "name": "stdout",
          "text": [
            "Set A và Set B có ít nhất một phần tử chung\n",
            "Các phần tử chung: {5}\n"
          ]
        }
      ]
    },
    {
      "cell_type": "markdown",
      "source": [
        "4."
      ],
      "metadata": {
        "id": "Xx_CnuUC02hA"
      }
    },
    {
      "cell_type": "code",
      "source": [
        "danh_sach_chuoi = [\n",
        "    \"hello cac ban\",\n",
        "    \"Tung tung tung sahur\",\n",
        "    \"Dark bruh lmao\",\n",
        "    \"skibidi toilet\"\n",
        "]\n",
        "\n",
        "print(\"Danh sách chuỗi:\")\n",
        "for i, chuoi in enumerate(danh_sach_chuoi, 1):\n",
        "    print(f\"{i}. {chuoi}\")\n",
        "\n",
        "tat_ca_tu = []\n",
        "for chuoi in danh_sach_chuoi:\n",
        "    tu_trong_chuoi = chuoi.split()\n",
        "    tat_ca_tu.extend(tu_trong_chuoi)\n",
        "\n",
        "print(f\"\\nTổng số từ: {len(tat_ca_tu)}\")\n",
        "\n",
        "tu_duy_nhat = set(tat_ca_tu)\n",
        "print(f\"Số từ duy nhất: {len(tu_duy_nhat)}\")\n",
        "print(\"Các từ duy nhất:\", tu_duy_nhat)\n",
        "\n",
        "tan_suat = {}\n",
        "for tu in tat_ca_tu:\n",
        "    if tu in tan_suat:\n",
        "        tan_suat[tu] += 1\n",
        "    else:\n",
        "        tan_suat[tu] = 1\n",
        "\n",
        "print(\"\\nTần suất xuất hiện của từng từ:\")\n",
        "for tu, so_lan in sorted(tan_suat.items()):\n",
        "    print(f\"'{tu}': {so_lan} lần\")\n"
      ],
      "metadata": {
        "colab": {
          "base_uri": "https://localhost:8080/"
        },
        "id": "450kar3W0UjJ",
        "outputId": "e8b84b30-5932-4788-bdb2-21d5ebe120d3"
      },
      "execution_count": 12,
      "outputs": [
        {
          "output_type": "stream",
          "name": "stdout",
          "text": [
            "Danh sách chuỗi:\n",
            "1. hello cac ban\n",
            "2. Tung tung tung sahur\n",
            "3. Dark bruh lmao\n",
            "4. skibidi toilet\n",
            "\n",
            "Tổng số từ: 12\n",
            "Số từ duy nhất: 11\n",
            "Các từ duy nhất: {'lmao', 'Dark', 'tung', 'skibidi', 'bruh', 'toilet', 'hello', 'Tung', 'sahur', 'ban', 'cac'}\n",
            "\n",
            "Tần suất xuất hiện của từng từ:\n",
            "'Dark': 1 lần\n",
            "'Tung': 1 lần\n",
            "'ban': 1 lần\n",
            "'bruh': 1 lần\n",
            "'cac': 1 lần\n",
            "'hello': 1 lần\n",
            "'lmao': 1 lần\n",
            "'sahur': 1 lần\n",
            "'skibidi': 1 lần\n",
            "'toilet': 1 lần\n",
            "'tung': 2 lần\n"
          ]
        }
      ]
    },
    {
      "cell_type": "markdown",
      "source": [
        "5."
      ],
      "metadata": {
        "id": "Kg-5vpDm2Geq"
      }
    },
    {
      "cell_type": "code",
      "source": [
        "set_1 = {1, 2, 3, 4, 5, 6, 7, 8, 9, 10}\n",
        "set_2 = {2, 4, 6, 8, 10, 12, 14}\n",
        "\n",
        "print(\"Set 1:\", set_1)\n",
        "print(\"Set 2:\", set_2)\n",
        "\n",
        "so_thieu_trong_set_2 = set_1 - set_2\n",
        "print(\"Các số có trong Set 1 nhưng không có trong Set 2:\", so_thieu_trong_set_2)"
      ],
      "metadata": {
        "colab": {
          "base_uri": "https://localhost:8080/"
        },
        "id": "QChoqLRQ1BJ0",
        "outputId": "913dc3ef-8d1f-433b-a79b-5fb560046702"
      },
      "execution_count": 13,
      "outputs": [
        {
          "output_type": "stream",
          "name": "stdout",
          "text": [
            "Set 1: {1, 2, 3, 4, 5, 6, 7, 8, 9, 10}\n",
            "Set 2: {2, 4, 6, 8, 10, 12, 14}\n",
            "Các số có trong Set 1 nhưng không có trong Set 2: {1, 3, 5, 7, 9}\n"
          ]
        }
      ]
    },
    {
      "cell_type": "markdown",
      "source": [
        "Dict\n",
        "\n",
        "Write python program:\n",
        "\n",
        "1. Convert two lists into a dictionary\n",
        "2. Merge two Python dictionaries into one\n",
        "3. Print the value of key ‘history’ from the below dict\n",
        "4. Initialize dictionary with default values\n",
        "5. Create a dictionary by extracting the keys from a given dictionary\n",
        "6. Delete a list of keys from a dictionary\n",
        "7. Check if a value exists in a dictionary\n",
        "8. Rename key of a dictionary\n",
        "9. Get the key of a minimum value from the following dictionary\n",
        "10. Change value of a key in a nested dictionary\n",
        "11. Counts the number of times characters appear in a text paragraph.\n",
        "12. Using a dictionary containing keys starting from 1 and values ​​containing prime numbers less than a value N.\n",
        "** Restructuring the company data:\n",
        "Suppose you have a dictionary that contains information about employees at a company. Each employee is identified by an ID number, and their information includes their name, department, and salary. You want to create a nested dictionary that groups employees by department so that you can easily see the names and salaries of all employees in each department.\n",
        "\n",
        "Write a Python program that when given a dictionary, employees, outputs a nested dictionary, dept_employees, which groups employees by department.\n",
        "\n",
        "![image.png](data:image/png;base64,iVBORw0KGgoAAAANSUhEUgAAArkAAAEACAIAAAA4EfnDAAAgAElEQVR4Ae19MW8jObes/ogi/Qzl1+nNlGzwpY71B5wKA4zCiSaZRA8YYXBTY17mwMACSudG3nD+Rr8nl7dcQ55usltquWWXsZil2IfkYTXJU314mj1r/GcEjIARMAJGwAgYgXYEZu2XfMUIGAEjYASMgBEwAo25ggeBETACb4/AzH9GwAhMBoF8RTBXyDFxjhEwApdGYDbzWnRpzN2eEQgRCCej52eIlTONgBG4KALh8nRRDdyYETACzwiEk9FcwaPDCBiBt0cgXJ7eXi1rYAQ+HgLhZDRX+HgDwT02AtNDIFyepqemNTIC7x+BcDKaK7z/G+8eGoHpIxAuT9NX2xoagfeHQDgZW7nCZOIxrYgRMALvAYHuJTVcnrqL+KoRMAJjIBBOxi6uMIYSrtMIGIEPiEC4+igORQEVdtoIGIHxEAgno7nCeIC7ZiNgBF4QCFcfRacooMLjpX/8+PHt27fx6v/nn3/u7u7Gq981G4HTEQgno7nC6cC6BiNgBAoIhKuPlukQoH39+++/P336pKWapvn06dPdv3+nm/kvX778+PGjaZqfP39qW58+fUJ+0nrfn6wWnfr777/DGj59+vTz509c+vHjh2oSyjvTCJwRgXAymiucEWFXZQSMQIxAuPqoaIfAj+e/pmm+fftGC4qysLj//PNP0zR///333d1dm/XVtjrSnz59Qg3fnv86JIddqvFbaKeGteJSRuAUBMLJaK5wCqQuawSMQBUC4eqjJdsE1G0A9wGYAcqCHyCtT+o/f/7819fw4vD/8eMHckAF8oJN09BIa6P//PMPhSHAyslLkH93d/fl+S8hNE3ToOlPnz7Rb/Hjx48vX75A82/fvkHg5/MfNYebRH0MX758wVUtC8cDWieklCQ7+fvvv798+YK2vn37xhrYayTYKVblxEdDIJyM5gofbRi4v0bgDRAIVx/Vo03gn3/+gQcepk6LNE2jFhd2GtsHjAmAbaaxh3MCMjSW3BfQPQ51Ufz8+RPCqAdp2mBQAZhYMBJlM7gK9gCSAclv375hU0PNNmumbiiOCmHpgcDd3R3qBCdAnXd3d5BUp8jd3R0agm4opT0lhuhdonwCuH9+BATCyWiu8BFuvftoBN4YgXD1UZ3aBDo2IGD4+RTOeAJ9EIdNVa6ARtWaMk3zjydsqqcCDB2gMBPYB6EAipNnqN8CYRY/f/7kMz3bQqfYF2pOQgPJL1++wOqTNJBVJMp/+fIFTIJcCjWQWChcqobTHxaBcDKaK3zY8eCOG4HLIRCuPtp8KKB7AeAEyVMv7RyfzmFcSSBgUMkq+LxOW9s0DdPcIEgMM1uhAErBorN44q5A77QIn+ZJEZRJEA02p44T8hWIQYZMguEaWgSSyglAGljD389/CbmhGk58WATCyTiEK5C3cugrpuq70/wB6TNWNaB1FzECRuBcCISrj1YeCnRvQPBJWi1luCixIS4pTMDcwogysFFdBdoKBeAYSEopgWCLyiSU0MBC0/9PeW1OfQzcs1D/hFINplV5vkNBdsKGoJiqx0tOfHAEwsk4hCt0eAWV554I9xmrOlETFzcCRuBEBMLVR+sMBX7+/In4Pq45WiRZIvAAnWSCRqAStZfkCvBAqAGGhebrl6xQi2uabgCEDdKTAVXpV0C4AEMH4OFQB0auJLcqoBKdInyBU50NTJN/QHNUm1Oob9++fXr+g57oUaK8ou30x0EgnIy9uUK3V5DcliMPU5G+LxBzZHJPjpON/kAGLTMwR+N6Ps49c0+NwPtAIFx9tGuhAF+S5Ka7FqFRRCaXEb5WwL18vhRAW8gcGlEmGB2JAEmuaSqgab4WgUSySwKDjXWMD/HqJOCKSt2Qg+WROwjwNyQrJyvkygkoIAaaQnZC9gMZDbSkY4YLteLs9EdDIJyMvblCt1eQ3BYzBESYPjEQCDjflFAn8wHjlVXhPpFKf7Tb5v4agXeAQLj6aL+KAio8zTTXxmmql2iVLLDJVf/8yAiEk7E3V6AzkJRfMSXP5T4ZYm1AaZV307PHBLktKmRVWr/TRsAIXCMC4eqjHSkKqPCk0owNvCLrq6vupMC0MlNAIJyM/bgC3WXwcak/AD3kLiB36TTehw4G0AI6GLgPR3cfHG52iE1h3FgHI3A6AuHqo9UWBVR4UmlumHIdm5R6oTLcnQmvOvODIxBOxn5cgU628FwUbDEA5TBgWAkEOTgTCOTRAJ8PfsPcfSPwbhAIVx/tXVFAhZ02AkZgPATCydiPK3SHJTMEAaQBMT6axhGnbSHHGkWcuMiSU0TGw8g1GwEjMAYC4eqjDRUFVNhpI2AExkMgnIz9uAJjFMKwZHoINEiYaZAGhihzf4FRxIhqZj62ORAb/OnTpySIdzyYXLMRMAJnRyBcfbSVooAKO20EjMB4CISTsR9XOEW5cNvilApd1ggYgWtBIFx9VPmiQNM0i8Xi4eFBS00tPZvNpqbh09PTbDa7ubmZGlbWZ7IIhJPxclyBL1BMFiArZgSMwEgIhKuPtlUUGMYVNpvNJc3kBLnCbre7vb1VqJ02At0IhJPxclzB70B23x5fNQLvGIFw9dH+FgXMFRSu+vRmszFXqIfLkv//JcRwMl6OK/geGAEj8GERCFcfRaNNYLfbzZ7/bm9vdQ8CmbPZbLfboR6kkQ9fwu3tLcU2m402p+mHhweKPT09NU3z8PCwWCw2mw3yHx4eNJ0LsHL1KywWCxSHqd7tdovFgu3e3NxAcyqp/o+bmxst2zQNcdBKWFtHwlyhAxxfChEIJ6O5QoiVM42AETgnAuHqow20CdD6wlojGgCGvGkabMbDwM9mM9rRxWIBS1zcg0ANqJbmHOwBNh7tMg2LrgKJDqjq5uaGBILasi8sstlsqDOL3N7ekjewI7PZDN1U0JqmIdVI6A7Fbm9vqQkznTACHQiEk9FcoQMxXzICRuA8CISrj1YdCtB4QxJ+BRhaluUDOi1x0zR8mC5yhd1uR8MM7+vT0xOoAJpI0jDtmtk0TaJDoiGbuH3+g5MAjbKgZqr7hB0haWDHaxK3t7f0u9TIW8YITHEPQuf2RO4QJrmuHRNRzGoYgatGIKQC2qNQgFYWkjCisNN8jOY2hK4nLFjkCtxcYIXdXAF6JlyBz+7QAVsY7B1/MkGKwH0KtI6Vh5ogAZcGliZ2lpUXE2yrKGkBIwAEwsn4ln4FndsTuUmOGZ7IjbAa7wyBcPXRPoYCNPmQDP0KrETXEz6OF7lC0gRqUyoQpjWz3q/A8ExuKISGXP0K7B0SYAy6GVHcgyAUSVX+aQTaEAgno7nCH3B5Xv0Bh38YgTMhEK4+WncoANOICAAYRcYr5K51jVfg83eyi6EtIp1bX4QuUh+lBUwjgSd+pBkzQQ0ZJaDbB+gFPZchlbl9/stVTeIzQoE802tajolzuhHg4Fex3lwBEwPOMUwPxwwroE4bASOQIxCuPirWJsD4f5hVWGJsqdJXTzvNDQVYcdQPMVpubRRpXdPycARcVUmSCTZH4qK+DaqnTaM2yifBiZTkexAgPaohZfKOhDn2lYawOLMDgXAy9uMKSvNJ2DGOGSc8m82YBn1WAWXxnFcMAIaPDpOBV1nEMcMdd9eXjMCUEQhXH1W4KKDCYZorRnj1vJlY0wbUydVsQNlhRcwVhuH2kUuFk7EfV0j29rDrptMmSeckvX5v7/b5T8ODdW+PmujeHr1t6vSrv+WOGa7HypJGoBcC4eqjNRQFVDhMXwVXCDcdwu6cKxPshLse56rW9bxjBMLJ2I8r0OdG95pjht/xiHHXjMC5EAhXH628KKDCYbqbK8BkcuFCgmcbhBV2ZOpDUYdYfkl9qPlV5xiBKSAQTsZ+XIFP89ofnTZhWjPr/QqOGVaQnTYCV41AuPpoj4oCKuy0ETAC4yEQTsZ+XCHcbFMqEKaR6Zjh8W6tazYCE0cgXH1U56KACjttBIzAeAiEk7EfV2AAsHrwQn5ASSa4f8EYYPUZ0jeoUb6omfKOGR5vcLhmIzAqAuHqoy0WBVTYaSNgBMZDIJyMvbnCAP2UTPQqHroxetXQV9gxw30Rs7wRqEEgXH20YFFAhZ02AkZgPATCyThpruCY4fFGg2s2ApdEIFx9VIGigAon6dndbH2/3j5uZ3ezw+9DcrXvT9Szvl/3LViUX35d9tVw/2s/u5vtf+1X31fzz/OOJvy+Qwc4vtQLgXAyTporOGa41w22sBGYLALh6qPaFgVUOEnnXAFWeXY3w3+9DP+VcgX7RJNR4Z+DEQgn4yW4wmCNXdAIGIH3gUC4+mjXigIqnKRnd7Pt4xY2HpcGPMEndU7kJ/wKh9+H1ffV8uuyQyueLtMh40tGoAaBcDKaK9RAZxkjYAROQiBcfbTGooAKJ+n55/n2cQuziks5Vzj8PoBS0NkASZRi5vLrEjlwRSy/Lpdfl6vvKwhsH7coBV6CTO56rO/XrAdiyMG/28ct6jn8PtQrA8nD78P6fk2ucHNzo4dYoy1zBeDgf09HIJyM5gqnA+sajIARKCAQrj5apiigwsV0G1eY3R1XPGUDs7vZ6vuqaRoY8uQq6gFFmH+eI2IAxZEJgaZpwB72v/ZN01ASLIFxBglXqFEm7GnIFfhd7LCIM41APQLhZDRXqAfQkkbACAxEIFx9tK6igAoX0zDh+pSPB3TQAk3XcAU0R1pAVtE0DdjA/td++XWZcwJ6FFBDwhVqlCn2FAI+n74SKIvVIBBOxqvnCovFAh2Dt5DOvRpETpTBQoDHCEz7sEIGMCMCK5RBpj7uzD/P8djRIa+XKlvJo8C0ktndjH5Ozb+WdCUI5x0qGHJj4JZYmsq70H2LKys5u1i4+mgrRQEVLqZh17k70DSN8gO9ZbDfYBXwCug0JD9omoZ1IkEigvcUMGE1ExsHuAqFO7gCxk+uTLGnFNDP5TDTCSMwAIFwMo7FFfb7ZjZrVkff3uvfbHbMnM2atbyONJ+/ZKrw4XDMXHaF8hyrfXp64onu5zUAr0q3p07kCiiuhEAXqffEFcYLLNdFH25kPNt107J8qOgazQfN9jv/x5VEhz+unfbDXGEwfrTrrCHkCshkFAKEdRqGXAGjhTUjoX4FXsIdBAXhNgfjFdSvsPy6DJVhVcWE4xWKEFmgEoHLcYXV6mjmV6s/uMJ8/kIRwAP2x329FzF0YDZrts+RQ+t1A+EiV3h4eFCusPq+wnzj5KyEZpjY+n4NyzT/PO94KYsBzAitYlvY1NRMXaQoVploayUpnkeMq8BIfoVLcgU8nymq2kGkEa2mQwWr/2WGTa7PeXO6b/F526qvLVx9tHhRQIWL6V5cgc4ATGedhiFXwHhOGEZCC6Bhkolh1s0VEmXCnobxCuYKIVbOHIBAOBnH8iscSbRwBfADKs1Ls1lz+PfolPX6D0dC8nO32+UdUK6w+r4CT6fTD4+PfGTk3MYExpyElxK+a+av79dMsxQWCC21fdxicVl+XZIrLBYLPaYaO5owYIjWBghYj/AvroZBVRBm02iOu6RQBjIMk9ZWCDgTecQ4dMDDtHIF4sZG2/CkekQe6OHf//4//83lDwfR5PWwLVpr5rD1/B7B2LPy7eM2BGE2m+kx4Xi8S4YKmmPrgAvOCfqW6dBmi8SfuOVKoipVlSOKyBM3IEn08BPyoTJa7exuBqzyW8y7/4aJfPImyhQFEvnun7DxvFPr+zWwSh7lMRgweXE71vdrJrjvgLaUf3B94Big2wA5uBcQ47jCMGvjCqEyYTdDruDzFUKsnDkAgXAyXogrbLdHVwH/wAOwT8HMUIZXQ64QfveSRTC3sdQyMhlvLnH/EnYacxjrCGwDlg+WwvKBqvRRg20xkXMFXtIEFhGuL7gULlLIhG44nA4mBAsQNdTKe6XVzjEN9WAdmYmOK0qH3wdEdaFFmisUp5mnCYQY6gHCWFhpDnE7wtZxj1CKtwAGgGQr7HjOFXKxNq4AcqNmhq5mvQuEKFSyaRrua6Br+1971InuoNTh9wF1clsKPwlOrsz88zxHLO/dFHLC1UcVKwqo8LnSmFyYSnqXz1V/r3pOVMZcoRfaFu5AIJyMV8MV8o4V5wYtSvJ8wKpo27hY03jDTLIGCKAgl3vWMyDBVV7tQcgV8uZorhJtB6ihLcKkwfZQPYWOaNCxATPGdhljAZ15FX2EXdQKkzR5T9h6eI9quALV60igcj6GJiRJkSH46BTMTMIVUJwKqyQBB0SQ5BhIgGK+KqBpAqW1dXTzDS+Fq4/qUxRQ4XOlFWFNn6v+XvWoApqurMRnPFcCZbEiAuFkvGKu0DRN9xad2jakaQNoFfDsy2U9sb4shQRL0WlcBD0UgMGAKVVrR0OiRlR1Q230ilMf9CtsqzszWZJo81gzE6pSwhUSfXiVrle0UsMV8EjNRplI7gsw4dN5t1+hGwFcZYUqTDRgnjFU0Bcoxh5RUm8W64QhZ1+wm4CrmsmTBxOOhZ9sQpXRmllKuzCddLj6qHpFARU+Y1qnNm/oGevvVdWklOmluYXfEwLhZLwQV0i2G1arY5wjghg0XkFfhUjiFcI7ofEKuQAmHvKRxlGp/HxLpV+BpfImhuXkdgIqhVwB9oB2Fzab7v1hCrCUthg+sFIy5Ar7X3tVL/ErUOe+XIGPy9p6aIaVaalw3zTtuhYMzfP88xy7MKFkqCS6TzRQELglJA+StPr6M1Sm+3UP1fDN0+Hqo1oVBVTYaSNgBMZDIJyMF+IKx0MIqt+DAAQJVwjjFQZwBRIImMlKv4Ku2t13qCZeIbGFMBttQVVqzvHoqea5Q5nKT4HTCMHO4RldbR6bAHQar6CP+zDbcAwkGmoXEs7B24FjKlA8bF0zkYb1pf7UM0mcEq9AjwVpZeJEoacqx41KApmEYSSYQOdkmOlP7SaVUbcEoxyS7jdNc/v8l+dfMidcfVSBooAKO20EjMB4CISTcRSusFy+HJmgpynAi4AcvBuJruaHLqxWfxSHsyHkCnq+Qg6c2iGkGYGMRZZ7z7kdgg1gKfrVuTrnzSGnyBVyI8GHY72kysP0qrWAwlCmzcdQyRVgkBB8hzcU0BEoQKBo49k0H5SJCXVOuALLwp5RjPlokW4J5mvr+T2CAgSH+iS3pp4rsCOw6wo4zfP2casEAmlKtimJO8v6oSqRRz5jG+v9Cuv7NVQN6QhxuH3+4883SYSrj2pSFFBhp42AERgPgXAyjsIVxutDUnM3V0iEP9rPsx/7qjb+o4HJ/qrbn8GYvHrJBPgBiQX5Sq5DOPNzsVFzijoUBUZVz5UbASNABMLJeN1coWkanvHMfjqRnGh5LkDMFfTxXdPnQrhXPeqF0nRSyeb5L8m8/M9w9VE1igIqPPH0ZrOBNwuuo8Pvg3rsRlWeDBL+tra2MGD2v/Y8Fr1NMv8UFulpRxFcqmyFOigRL1auO3RF4VCAEIVBSGGRUTNvbm5ms9nT09OordRUHk7Gq+cKNT23zFkQMFdItqK4GXEWeAdUwv0gnt8woJLLFAlXH226KKDCg9M4UV6Lc8dTD4AJM49bY8+7qwzH1no0fXNz8/DwwI9PXhFXANVIjj2l/wzG9aNxBe6SI4Fxsl7/sVHOIcH9dz10OBxOYeZEPhYaTkZzBZ3jThsBIzAKAuHqoy0VBVR4QBqvYm23xyWefzhOHj9xLP2RDj6fMZ9kItwKxWkYWE+SWCwWyhUQf5MEtyZFzvUTxh4vKLVFMvGIWLzhpZQXbCAJviZX6Ksk/Ap5K0k9lefTJ6XO4lcARN2H9Gu7eIMPg0TZAGTwcQOkGcsfDqcwE2HIybG/2vrF0uFklHnzpyKh9J8i/mUEjIARqEKguJ4UBaqaKQklL28vly/foDmaz+fP3cF5wOBrZqLi5DXv42vG2Qni2BgFV4CxxOtC4Aq0cBq3y2NkkYljHlAW8git5UO/WncGzPJwCJz+whPocQ4Nv5vz0pHfB7ynzWPRkQ9vvIbo6h4ElU8URiQ41aNbAjn43qbqnNwl6sDz6dF3BhST3KCzcGyoMnjfG1c12hfUBzHsfFEIleMMXHAFPaQ/vKH53U9e03tBb34cRfjjMcS9xpj9Ci/w+X9GwAh8TASKVKAocBbcEts/m70u7uQBYSZapwyVCU1Lx64zLBwMJywZXoqhJcNOH05Ph/HjzhcMm5aiAyAxnFQPic1mk3CFRAA/Ydq3j1vSFOTTr6Ct0JAj6AHWGnZaNQwbKmZqv7aP28PvA30kfFtKlZl/noOvgOXwlDYemgeVQDK61QtvKBRWfqB7EHhTLxkbHGnhcAozi6cLFnE7l0A4Ge1XOBe8rscIGIFWBMLVR6WLAio8OM0VHDWES3aYCfnEHoRqdHdELZymWRWtHR9/+VQNzwFLqUWHmT9xmwNGNDkyJPQrqG7QHFqB9+RX2bvKBAgBNEmKkEsRBxUgJwAgdGYoPqQ+WrAmrQND5Wez4GhBjjQtxfETZqLO7o8cabvjpcMx3I8rYBBURs9qTzpe6FKxtjQJL4ZCm9jF8nHYwxQ2li7WZTdkBE5BIFx9tMKigAoPTnMFRw3hkh1mQp5rfYcC+C5Dm4BaOKTBADRMFU/DanE1zVJIcA/i9PhWPs0jwILn29K4Unkm2E2szKoM90QoU59Af1EbGAMoAutPDiNJWocrIgGEJKPX2xbUmXsKzGFivT5+VDkZGxxp4XAKM5ummQJRwM4ae8fEu+IKjCxl5Op+/3ILmbNev/QdYUrIZ7ASbjAyufMUZnYfGUl8nTACRqBt9VFk3oQrzOd/xCsgxD3MhKqJPVD9Nc3YRs1EWq0s0smBrZV+BZaqfyshV0Zz1DzTJMPe51xBuYv2q+08NG2oPo1WVt9XChpNPjPVZ5D4FdTRAnl4LAboqaMi6cJqdeQKz4P8dUtruz2+NXP0yvQZY1N+w3kIVyjGtSZQYiuL7qD8ajEHo6EY3Kv17PcvX8EOpzfMPygCQ1IhCYrAeOkws2kacwVF22kj0I1AkQoUBbrrr7zKpz3Ic+4jpBErfpgJ+XwxCbe3+3IFmj04/Cv9CvXrak28Aqws3f5YcvmaABKqJ13FMAdqsLvvxWKx2O123TJojnVCNwZ2wOFBZZS4gEmEfgXUxjCLNgXCG5oMGzAAHRKwGud9D6IGqLZenJgfTsZ+XAFwJ3GtYGqMIuFw52BKxrR629AlHFSC2/zXj78YRouqMG5Qvwb33t7e3tzctIGyXB73kI7xuofjW1L0HEAeXiOWhUeITBD54INhprkCoXPCCNQgEK4+WrAooMID0upHnM1eHiRAEeBH1Ffg8rfk1bkIeegQmhaer5DrSQvH0xfw7I7VD2tmPVeg/YMnoM3HUMMV6DygznyC5yVVXv0QKKI5ag5YIRI1JpB7Clj8E5uScAV+lYbohVyBGyvqbEh0e/YNzHIqw/dpKa+xjXxrBhwCwwO8E/L5cGobePoeRA1Q1Oe8iXAy9uMKuULKRuE5WH5dggDiEoYvecP6fo25Qf9Scgsx+lEV0m23toMrKD9AGvePr1aTSaBHoAV0JSETMmEmDkYMAc0hco4RMALFyVIUuCIMO7jCFfViDFUfHh46HvDGaFHrVP+E5k8nzYP53xaocDKehyuEYSwgobhErsC7opyABBZX8ZNvCg3YW0oMPBtdrV6eJ07nCqiz4+UoNuqEETAC4eqjsBQFVHjiaZ7xPHE9L6/e27Iovm95+Y7XtKhnPL8tUOFkPJUrqHcItAAUIYmOIVdInGZ0RfD1Yrrm8EE/+qBqsKaMRpkyk/sR8P8wyBGOo+32GJ+SOI6wVZFnok4TBcXWaSPQgUC4+qh8UUCFnTYCfRGAJ/uUsLm+LV6vfDgZz8AVgAgpG2lB6FegzyD3KyiyiEBJXnpRgY60npiRiDFEJaEFCGhICs6fD+EKM0f6OFOirX8agXeDQLj6aO+KAirstBEwAuMhEE7GU7nC6vsKewTcR6CBRwxjsgeRhMmEfgVGMHQEyODo7HDrS99RwcHdjD1hiApIw7neg9hsNqEm491L12wErguBcPXRLhQFVNhpI2AExkMgnIyncgXdU9CQRngXeOoFnQ0aK8vvtNLZwM5zI4M5eSKMbeS7jpTX2EYNddZAVgprsDRfnQgz9Z1JcwUC6IQRCBEIVx+VLAqosNNGwAiMh0A4GU/lCiOpCwrS9gbESI32qlbjVBeLxRQ+Ot5LfwsbgUsiEK4+qkBRQIUnnmZsI555ruib1DmwfMzLL3Xn0IWsL8SFRfBISaxCGVSC8Lh6u3C6HaFWfLIN1btYJofWqC2Gk3GiXKE4vEZFqli5nvG82+1ub2+LRSxgBD4yAuHqo4AUBVR4cHo+/+Ob1MdX81fHHD1xoS0TZWezl/P4OnRgEPvlLQ2s4/ZxS+Ma6gn/bn5aP0ohMh1+YnMFHOdQ5AocSHqcT+i9rs8MXdoXOAc6nIwT5QqIlOQhYuFwd6YRMALXgkC4+qjyRQEVHpBGiFKyRxke0RhmbrcvZ7s9H9fzejJ0qAnPbQRXQABW/dNwWGdlJrhC8YhbcIXkBF4eL4228G7a6VyhqDkO3yNWofz6fo134uaf5+Er+mGpc/kVindQvxbBcHgdbDzSsT4zDKq7zDcjwsk4Ua4Q3nhnGgEjcKUIhKuP9qUooMKD03wTCjUsl69Wn5fCTG1RT2cJz20kV4BJxsGC4AqwiPhXzTCsGh7oYQtRlpL47DIE9MW/5O10HJK7/7XXI27zcxvRnJ7Ai+ZyQgMlEVLGr0lp+Dlfa9fjd/EVaVxil4FhrvD885wfwlacNc3uLL8ugY8iRklWjo4kXIG9oM7zz/PV9xUeTXOqhHMFwZlW31cEZ7FYJB8OJD84vvO/fTnFZ7V65Zc8HrA+Mzxc2FyB99oJI2AE3iECRSpQFDgLKCQEqE0PYuFqHmaydYr9W0NwJHDHySswnDD2cPjT1Y8K+UIZjDcMFSRh4bQUvwyZ2GNqi0TOFS5dx6UAACAASURBVBIBHnyXnxIN67v/tVe7i+858SwcGG9oToPKeAXVrVLhXL08Z/l1CUDgREEoA1zRtPpFncESlJxBf4CP/LzpnCvA28SvTeLzEMkbeRhX9ZlKSXkI0GU+LxBORvsV8pHgHCNgBM6MQLj6aBtFARUenD6FK/BUf76DHarR3RE1nJpmVbRzaq40zVLIhHVXo8iqeiVAQUKuQDeGOkJQOXSAfSXLwaWcK5xXYTQHppX0lH0JYVGdeSxQojPuQt9NcAS+8JS/eloQSrZxhQt8YSAcw1fPFRaLBToGDxgGRz7ik8F0lp8YkcXQXPi44BtsI6od+nBpSGRODx5uqzlpaMo/a0DA0pCHcdX0i+tdjTBvMYBtW2h4tRgtlTSar9SJQPfPU3Dorrnmarj6aMGigAoPTp/CFdjofP7HAa/MR+Lp6amjLzrpkMaaAONEF/r+1x73Sx95kWYpJFiEB9sk+lT+pH1N5HXU8SON0I1NK1dgcc4ddvm8CmOpp9uDrhFqlXxBKtSZSkJtgLD/taf/g93pTmgUwnL5sgcRMoD6zDau0D3AuvWsvBoO4LG4Auakno4ML03CvOBaQSaF9USEbgr/9PS0WCzQ/yviChiROqY7biFnWiJTYya72UxbzUlDA34mTxgDamgrwqcuCNSAENpIXbbajDpYILc221TS/Bp90PSA9+h01dZGK9MhDpVlTxcLVx+ttiigwoPTCVfQhZtfsQ8ztUVuSGumphmvoJlI66RDen2/xq1R0lDDFVDqXM9FqI07CNRcRx25Ak2slsKsZ0HKsMvnVRgNgTEsvy7VhUDeo5nUR3VmptamGxPsTndCY1xg6Q6H4/sy9DHAqB3jPKozw8OFsQcx9tF/4WQchSsg5jPp6nz+x0eisaPDgxSBL5jBcvnyCWlMbJ6JlN8tPRBp+XW5+r7C4AgdU3nxE3MqQ3NX31dw4vFb22SvDBHqMFecaYm2pwcPt9WcNDTg5yW5wvZxi4606YmlQUO+dQWBzW4rmywlbWLMr7kp1BYjlmWLCV21i8K5QI5DLjNeTrj6aHNFARUenE64QvjKQ5i5WjVYsrDc88GmO7Yx11MnHdLr+7VmwlDVcAX4sbhBkLfFnJp4BTBjPSoXLFlHHbkCM7GUVfoV6hW+ff6j/mGCJB7KYHiDb2H9SfwKoc75BAf+GsWZt57HK6gh4xhTZ4Pfg8hhfM1RrkBWhcu8lLyKqucqQpJxRjjS4LX255RyBcapcrjD00DnHgk4xjce62GksU3AfHw4GwIshfmspfLQ3KZp8mG0vl9jPiPcl74yEBrlDZyuSSt4WkUml4ZhwcP6rXcgww6ifrR1/M7W7wMsH/MJPqcTlaGG8N2xCAOJiV5lOHfYOm8l16wchHxZRFUa8s01mj1CAksMK0/8CuwC1xHUjM6ihlyfpImmabCoaWw81lDUQ9YYgkzAFQoqjwE/u5v99eMvElP2IsehaZqbm5vLnA5SpAJFgRzJXjlYuOHC1NMUGIWgi0+eCQOA4ioZcgWer5BriFGESafjkGMPiUquoCNQ73jSbj4pEgH+pBpcRWliMUphoTkXYGvruUKlwrfPf9QqTFAHfneQkwK9SLgC5VXnnCtgQSYRCZvOF/kjOM+ndOBf0koeujCfv9ZUnxmexPAOz1cgIdDXSAAY3jAh/0Jm7tnTkOOQK3SjxhHD5RKBuxjZGLVYfDHIkI81GvyUIwnrO2Y4qn2983+mwmH0p0ij/EBr0zSb5hAnyaB1T6qt+YnaUAOME9Lcn6MAZzWXLWAF858oo1UlzhJA1zecm63TuCYe2rbO1iyLrBx3HFWFod28C+EAyCOx27TqzsfwAz/jsqtUkvcLtwBclsiwCHesdWwjrT1VZT4OV9Bej53u4ApjN/0+6h+bOHaghJmO1aZD7A0vXeD0vxD/UfYggOPpXEFryO9NETI1vZpmVXyCxGJNHwMfHFmKqzlt5CnbHHRgwMRiHU/WdPIJGm8+67et++xXR0J7yprVEFINJlAbKJTWjOKYVEQSAsANeOrc03R966oJ9D8FfGiI1oF/si5ASYBMrhAOAHTzdGVQeUgBE5DpV0AvgAw5HMct6dpZhqve9MHpcPXR2ooCKjzx9GUO4p04CIPV2zz/DS5+YsFzrTAnqtFW/DJDK5yM0+UKuZshh2+z2XR4UGnpuXTCesFC4F/4mjA+2rgCtrS1FB10uUo1OeQBfEEZn+uk/1+XeNpUcoXEYNS0SBnFhDWr4UQ3GflBXkKukAiTK6hW9VyBm7UKb9K6WsTzzmTQAphYpomAuqPQI1WSb5wj80TGwJrBGLpBBiAsolyBN5o3l84PXnqTRLj6qCZFARV22giMhACm1UiVX0u14WS8EFdIthtwdpVuMRyt4/r1TSSNCunAV+MVcjG1i7ReSgv4NKyZmk5K5U0My1GuwHgffXru5gq03wNa197RnMBMJs+1iT58wub+JYqfzhWKrY/HFRi9gbekQByhT4dfIYFd1Usu9f3JAdkNMge2Ns1MNorauDHB/DdJhKuPalIUUGGnjYARGA+BcDJeiCscH9Gq34MIiUIYrzCAK3BJhUmo9CvQrBZvT994hcQyMU6HthlN635/YtSp0u3zH3+GCe0IGDRqo3FiKdgheFCoJDJhR0E7Qq6gjARlIabpDqpBDwoaUouY0Cxqy0RNvAL3++E5ALZEAE0kXEFxY1sMgGJZXmKi5nvleOOLbowiyMnYCP0K9KV1+8Acr8A75YQRMAJA4HJcgVHECArFO6bwIiBHT01g+ChfReX33HAJryeFXEHPV8hvM2kB183D7wNNINb3Sq7AB306fvPmkFPPFVgVzNLLTbqbIZ92iFYK+Sqc6HD7/Jdk5j8BC99xAFdQWHCJFivRB6YU6HHTJDGWrC3ZW2njCpRHW0kAM65yjwMy/Jl0sIYrkCKgKtQAnPEsjlPiabwhwI6zFIuQ4SXKNE1TwxUAC6rFRhjbws1KCJnK80AnHe1Jj3KtmGOuQCicMAJGAAhcjitcDPFurnAxNSbSUHiDB+tGrjC4BhfEO7RPT09vAsWk7mBxcBYF3gRDN2oEPiAC4WQccQ/iMhDzjOfLNDfZVs4ePDwpSzNZ2LsVK76q0138xKtwTrTtWJ1Yed/i4eqjlRQFVFjTOPJ27JPstEWnjcD7RiCcjFfPFd73PXvD3pkrvCH4Z2kar65gU+MsFZ5SSbj6aIVFARXO0x2fdsyFnWMEjEAHAuFkNFfoQMyXjIAROA8C4eqjVRcFVDhPmyvkmDjHCAxDIJyM5grDwHQpI2AEeiAQrj5aviigwnnaXCHHxDlGYBgC4WQ0VxgGpksZASPQA4Fw9dHyRQEVztMdn3bMhZ1jBIxABwLhZDRX6EDMl4yAETgPAuHqo1UXBVQ4TN/c3Ox2u/CSM42AEahHIJyME+UKDw8Ps9ms4/zm+m5b0ggYgTdHIFx9VKuigArnaROFHBPnGIFhCISTsTdX4NFJs9nrkcz6wVZ+jvPETLwKNayrLmUEjMCkEAhXH9WwKKDCeXqxWLzVORa5Ms4xAleNQDgZh3AFsgHAgQMZkcnjmU/MbJrGXOGqR5uVNwKKQLj69BJQ4TzN2Ea4JHMB5xgBI1CJQDhbz8AVtttmuXzVYT5vttvjf6dkmiu8AuqUEbh+BMLVR7tVFFDhPG2ukGPiHCMwDIFwMg7hCtyGOByOmqxWr5sRxy8vLF++GInvOEDXvpkoxfk/rMMuZQSMwEQQCFcf1a0ooMJ5msVvb28d4Zjj4xwjUI8AZ5MW6c0VWHi9bmbPpcfjCjhO/+HhgY06YQSMwDUiEK4+2pGigAprWs949gdiFBmnjcAwBMLJOJwrNM2RKxwOI/oV/M70sDvtUkZgagiEq48qWRRQYaeNgBEYD4FwMg7nCohePByOOw5JaMJ+f2omUAg1Hg8g12wEjMBICBTnclFgJMVcrREwAgkC4WTsxxW22yMJwN9q9UIRTnzlISyexDZuNht/Ry65nf5pBK4IgXD1Uf2LAirstBEwAuMhEE7GflwB+w6IbZzPX1XFq5LIR8Bj0xxfhUiiIHtl6juT5gqvWDtlBK4QgXD10X4UBVTYaSNgBMZDIJyMvbnCePolNWuYkg9aScDxTyNwXQiEq492oSigwkl6djdb36+3j9vZ3azXN7hX31e9iiy/Lpdfl/hc+/Zxm6ihP29vb2ezmeOyFROnrwWBcDJOlCvoGc+73c6HPV/LILOeRiBEIFx9VLIooMJJOucKMOezu9nsbtZh1MfjCn68Se6Rf14RAuFknChXuCJYraoRMAJFBMLVR0sVBVQ4SYMQwK+AS/PP8/nnl11SJpJSx7Nh+vsVVt9XICL7X/u8Qub4bBhC4cTVIRBORnOFq7uPVtgIXB8C4eqj3SgKqHCSnn+ebx+3+1/72d1xQYMtX36V02SfC6zv1/A0cN9BuULoiph/nqMImMHq+2r1fXUM27qbIQdhVfleg7lCco/884oQCCejucIV3UGragSuFYFw9dHOFAVUuJiGjVePwvZxCzOvTEK5wuxuBgFQiv2vPRIIgMiZB3QIuYLGZRdVtYARmBoC4WQ0V5jabbI+RuAdIhCuPtrPooAKF9PqJMjN/OxuBhpBroD9C7gK4J9Y36/BFdb3/74mXmz1WUCDsutKWMoITAuBcDJePVdYLBboWH2I8rluC5aSpmnmn+d4IglrXn1fYWFCBFYoc3yb9DmKuyMOq60glzZoAjdsKMxAcWAVyrA7qDbflF1+XXY00VbndPIrQai8a/X9on2qL1Ijie70tWcYsW23uKbdvjLh6qOVFAVUuD6t4Y3cgOC9IFfAXFYBQMo9iF4IPzw8LBaLeiUtaQQmhUA4GcfiCvv98XAF/XyUns3AA52Olmn+cgwDhVEWZzNsu95LOn63mnPy6rgClyEwiQ/OFdQzfPZpQ9tATnb4fegmTDlXwA2iOVH/do3CqkONfKWMuUI3UMSHtADRBh1+hbxCTNU8vyPH8Qod4PjSxBG4HFfAkY7JN6Xm85czH/WgxuXylU/MZsfjm/ClShzohNOcOmBV/r78uqwMUe6osNel9f0aK87887zjsWP1fQUvqL6+pZYDO6ln4Qrd+qOJI8LPWLUJozt46MzfVh/Jr3BhrlAEIb9rtDptuF1RfvctHqMj4eqjDRUFVLg7vf+1574DKAJy4A/DwE64AoZf4h1cfV/Br9Yx5sN4hefnotnT01O3nr5qBKaJQDgZx/IrJN+qBj8gLqQR+PoU8pPvShzjmQ8vn6dqmma32+UdUK6QhyjjwRGLhdpp9TfCFuIhkvncqtRSMBV4rESp7eMWK87y65JcYbFYbDYb9rRpmvX9GisXorX5plbi3qcpQhNc7PAYhEwNzoK2y69LrH1QQBc15KOgbsRCgWRZVIXRHaye5AqoZ/55rk3kmEAr5rMVVQb7LNrfv378hfrxL8gT7BlyKu9I2LrWvL5fQ5MEhJq7RoUTrEC8qDmu0mmE/MPvA9/iQz2EKLzRHE64C1o5ctrufqUy4S3Wfp09nU/epImiQCLf/ZOzni8sKJLLr8uEKzRNo0MUpbRIMlvZehtX8PkKhMiJq0MgnIwX4grb7XGvgX+gBdhrYGYic7Sy8lWqkCvsdruO70TAqsEy6UqtFhcrNVYW5GOVx2LNUlhHUJUaSyrPRG51eImJ0KUJ44ElDJYAy9P885yEJlnClAEkXIEWhdSEVp9q1CfYZVo4rq0JJtBcF+Lt4xaWEs2x71pV/p7bsDuC1nEfUQN6rV6csNc1dw0K04qjnnCMoekEIo4l1IOBl9xoZEIAwObB+TRgbXc/GfChMiEIo2aGq4+2WBRQ4emnzRWmf4+sYRsC4WScIleAOwHxCm2dgaeh+zxHWjg4nPOIPJoQtSuaZg1ccOEn4MNKh3odl2gvVUYthKYpA7sC0zu7m/F5FDwm4QoQhqUMa2O1NQltrhsTNX5QjK4FNITih98HaEXTCxPITuld0HR966oJb3RNZ9tkoDC9FAlJ0jHG0aIUM+EKKM5bo5KAYvV9hasJJ0iACu9+UZm2Po6XH64+2lxRQIWnn/YZz9O/R9awDYFwMk6RK7ADcDzs249H22w2HXSBdoVLJ58yueLrEzCu5pYJcXAsggRWcKraK1HJFWBHYfPYOrkCbXBoLdALltLNlF6q8omfzRFVJLQJvpKu5g0FE2FyBZhMtlLJFdruiPIDpFH/GbkCyQ1gJBo6xnBHgAxx6+AK/JaBgrn6vkpuPd6jIZOAAuHdLyrTdwycLh+uPlptUUCFnTYCRmA8BMLJeCGukGw3rFbH/QUNR8COA1+FIArL5etXsJnJhMYrMJOJcB1XKkATopmaRg2H3wdksuYTE6gtYRt8xGSs/vp+rYaBxk8z6eju8CucqC0CJmjFiWqIiVprmjHtGiHVzAFcodg64dK491OggMI1XCF8w6KbKwArMifoiRaTcVJz95UrhMqcgsOwsuHqo1UVBVTYaSNgBMZDIJyMF+IKeDcSr0qCIsBbEL4HwcgGlQzjFQZwBZo6rM6VfoXEsHXcpJqdb20axp4OZ3VNMxBPeUClX4F2ukNVXKr5Gh5BAw7YzQkxgYVWVBNnAx6dc79CwkhABTo8PR2tw7gqV6CdbkOj5q6hxUquoB4C6EMdVHOtUzd6oGdCC8JMvdG8TQlXyJXJcRj7s+/h6qNqFAVU2GkjYATGQyCcjKNwheXy5cgExBwoRchPTUDObPbqP1itXovzfIWQK+j5Cjlw4dKJ9RerZxgOrVYKNcBiwfZw2c2bQ06N1eFjNGqDZW0zIdAHhgRbCYkJabMWqJAKoxe52jVcgaDx3QTUk2OCHOpMy4ptF/Yi5Aqsbf9rr3dB0913BDXkXIFQJA/uRKPmrrESvWvhGNv/2uOe4mArpItcgSCjfqiKm8ubuP+1r7z7BCpUhh1nwlyBUDhhBD44ApfjChcDupsrXEyN623o7N/7Vmt9vbCcqLme46lk4sRqhxWvVGbsuP1w9dEeFQVU2GkjYATGQyCcjKP4FcbrQ14zz3jOLzmniMDZLYS5QrKZku8sFG/KeQVUAU1rK2enjFo50uHqo2JFARWeeHqz2cxms91uB19U8ZDQM3YHbqft4xYzsa1m+KvgwKMPrE04z0+cWxTITzvlJSYqNaQ8E6fTbkQH86aw5jdJ4GSOjnf+30QrNBpOxqvnCm8IqJvOETBXYGiqblXkQF0sR7dOBliFc+kZrj5aeVFAhQencaK8FueOJ8OkjkeS/LsNqpncWl2mH7vW+o7pm5ubh4cHjoSr4Aow4dztYixz2rfn3++bK/CzA7NZw3utb/JzZ7w+8/gIMXv5Tz9xMM2zwMPJaK4QzgVnGgEjcE4EwtVHGygKqPCANF7FSo6NX69fz4hjnHWYud2+BlTxuPo2NRaLhXIFhJry7dm2UmfJhxVHQHEHNYRfAW94gRao+Qe/ZLBRrpgK69X8ZHS9inSlhnnBs/gVto9b9C6vnznz+cvXBpgDSw+KgIGErxDwuwTFTI4ZDdh/rnaKZ4GHk9FcQceD00bACIyCQLj6aEtFARUenE5e3l4uX60CL4WZ2iKPqMdav9vt9GrTNOQKMMl6oDgMFZ09fHyHBcVjPYw0ylIS57dCgKWOCtzNtBRy9r/2PIG+aZrNZsNv7EFVNHf4feAJ9Gr+Nc3T57QVCjBmGdWyNp5nnyCDnzjLTjUED9BjYBgfzTP0lCsQFh6LB48m/v3P//yHB57qwbXQijclRAav7NFzAIX3+1dOeWR+z2/y12eCHxCKZPxM8Lsh4WQ0V+AddMIIGIGxEAhXH22sKKDCg9MkBKhhNmt41BsW9OSxj5naoh76grgEvdr9sAgjB2OvG3aJRTz8PsCkIR+S8BNoKXyfhZsdba/55FwhUZhvZsH5ASX1/W2k2TS4Auw09DzFa4Lm8PoSkVHChMrJFfTbYDwjRyHC+0eElK8g5b0OkdE9CAwP/doAtqhwRBB3KLozk88XaG2klblub5gTTkZzhTe8I27aCHwUBMLVRztfFFDhwenTuUJSQ65Jd0fazDDrwfP0/tceNlhNJtKsAQKw4nzQZz19EzT/dFSgBlpo5RNJcx3GuEYN9ChkG2gIBEI1YbU8AxdcgWyJtEZhZKnKBHasDofj9lMlLQglO7gColty11SlhiOJhWO4H1cA7gOiZ9sCsCu7ihFTDO6trO10MRz2kHxP8vRqXYMReK8IhKuPdrYooMKD04mlH+BX0CKhGohvDy8lDgDYSDAAdbnr83obV2g7F7yt3WJ+Yv7BGPSAkG6uwIf4YkOhAHgANw6gDFlLzhW490E9SQ5QP7uD/LbTZUJlNHM+P3qeQgZQn9nBFW5ubqZGFOAYUxCQfm9cYb1+DTeldxH0EGGoiEk5TtrtqyQzsZRAksXDzO4jI3OgnWMEPjICRSpQFDgLeglX0Cg2bj+HmWidsWzdynQ4lukVIG9Ijmet9CuwFJ+ku1UqXqVxhSTU4IdXkEkZJpB/ol+BuoExaKNoKOEKSgsSvwI2MlAhajtRN1DDxNgjoqU+Mxl12L+Akmd/a51gnpIIJ+MQrqDRs5UKncWvUA7u3R/NP/54I3GfwAYY4Rxm6lYl46XDzKZpzBUqb73FjEDbk4oiEy5PKnCWdLJqc0FAwBq+RxNmPnfhNRCSyoTxCn25ghIIGL/iHgT8DZXrargrzy4gkZt/DZUYHK/w8PBQvLPwkSRBiAjOADIJVyCPgc6qp3IFUAqcqZB0lj9zZPb74xuz+NORQJqotqM+s/gexG63S+JPqeTlE+Et+9e0ZuqE0rg3Gj3LKBLGo2oO7vFxmsk3lNXbhmbxeRvQwL9+/KXRsGSFqF9DZ29vb5ODLMgPjh9Z+Jc3rNev9x4THj4lDghmbrd/bErh8SLMNFfIxoszjEAXAuF6ogWKAio8IK1+xNnsNaw9PDUhz1SHJfyO0CHkCjxfIddTaQHSsPp0wiNRyRVoLOGKb/Mx5BYxVyypSvcUdMWGMYYw9Gd0YV4n1smaO8vtBnQBm93I5MfPgMwL7P++/cFMdTZAhj1SApEoGSKjsY2Uh0GpcTmHknjmRHF9yYLnK7w3rkDgmNDdILI/3Btcwr0nV1jfr3UHTgNckcYNRlVIhzEvTdPkXOFIU+Yv9p6MT4OWIQDzrwdigBboqyx8MSbMbJqme1eS+DhhBIzAMx1vfSwBPjUW5VqQ7OAK19KFc+l5e3v7hvvxfNQ8V3fOXg+H/aTGDLXS/rZO4FBaSyINQgDzn1xV1kyuQBnlBOCGDD/poIos3pEAK6TbYCSuAAXICjv08SUjYASK60lR4Iow5BnPV6TzGKq+7fd64Jxoe9Qco7+96tQznh8eHhIfea+qzi4cTsZTuYLuOIAx0DEFDxIyyRXoF6J/CYeaqcsLNWwft/wOZCUWupOEU1rpHmANcCGEBCJ0IYSZqM1Egag6YQS6EQhXHy1SFFBhp41AEQFsnbTtyxSLf2SBcDKegSsAU8ajkhaEfgX6DHK/gt4b7IHxFRq91JHW+FJsNyBQhT4GhCYcDscIhjwzeQcmfFsGmdiDmE4oSgcmvmQEpoBAuPqoYkUBFXbaCBiB8RAIJ+OpXGH1fYXoBO4j0MCD1iV+BW4ggUkwxEH9CvQ0aLxkjkser7BavQYn8sA1dTYwrjXMDF95CDOT2MbNZjMpD1KOlXOMwNsiEK4+qlJRQIWdNgJGYDwEwsl4KlfQPQUNaYR3ge+r0NlQDHBF/7mR0QFHzhXgS0CsKWMbj+eZy6ELrDDM1GBpHroQZuo7k+YKRNUJIxAiEK4+KlkUUGGnjYARGA+BcDKeyhVGUhcUZLJhKfAr0JcwzfM0Rro1rtYIDEAgXH20nqKACk88zdhGPPNcxTepT4EUEe6IXetYtOef5/BDdzuME03gn2bke3K15ifeuoRNmUL4wmw2m/j+dTgZJ8oV9H3LmtFwYRk943m3293e3l5YATdnBK4LgXD10S4UBVR4cBovSWlxBEHriQv4DhDck/P5i6y+NK8+S62Kab7/dkVcQT3ECDyvN8/vgyvwUA0dDGEm4t4wQpJ375GpwXA8rUEzO07r4ih6w0Q4GSfKFRApWT9Y3xBWN20EjEARgXD10VJFARUekIax53msqIEBTHhhCqt5mInile3SEoArIACr44G7stoaMZj88hG3v/azu5mewIuCPD2vpi3KrO/XOGZx/nkevj8PSVzFNnT92n4Wv8Lq+4rIUO0kkbwch6thZngI43L5Gi9PNhlm6lfLEx0m8jOcjBPlChOBzGoYASNwFgTC1UdrLgqo8OB0YvJxsD9q46Uwk1eTpsNzG8kVYBdxejG4AtgD/mUUFz/LpO+Zoywl55/nfPRXi44ijAw7PvLezfa/9nrEbX46IarSE3hzrpA4d3k+I1UC28CHLcAVll+XHVwBV9n0MZLsfg39SaSYw8qVK2i4G3YToAxK4cxfgoNMfOkQ9XPvAydPPz096d0MaUGeiWh3FuQrdbNZwxA3vlIXZporED0njIARMAJ/IFCkAkWBP6ob+iMx+frRSL45FWaiYLIxgfMo83MJO05egW2DPaMxg4FHn/hCGe0ibSrssZaaf56jKlTbthmfc4Ucv5wrQAFYWaSTD1bxBfi8tpoctAhugef+7eMWzaky5AqH3wcgwEN9+P0tvkZH9PgyXahJG1fA/aVXAN6mJFO/JIDA+eXy9ZMCaA4yyWDTgtP8vCSxCiej/QrExwkjYATGQiBcfbSxooAKD04ny3dIC8JMbXG5fH03W/OR7u6IGnVNsx6YxuL3ILaPW9hv8AMYVz6ds7b6BGqglwJV8RV3EhSoh2qZWd+KSqJFmn+9BPKES+QKKkBOAAzpzCCkpwCCQcLvDKNdZqrJH8wV8I2CzWajnZpOOhzDV88VFosFOnb5YFdMlWL0C1n22wAAIABJREFU7+r7CoNe/YRjDAvUj9nSth3Iq/wii2rCmaaZ15WuibXGOrJ93PIOnquPfPzqVSHUaHsobKuq5na3lb18frj6qBpFARUenD4LV+DXq0M1ur8Uo1MMaT5Y007DVa5jSdMshYSWOp0r0IGPrpG48AhdGGlttOPLTCE+momRz90NUARWnnOFpPXD74PiiZqxs4P8wbrpPhQVDj9Fje2GZFwV/Qq3t7eTJQrwlrHXTIzFFYCdRn4+a3D8ZvRsdjzwgH9hmCg/FLlcUjBI6HnjV8QVOEMwK9qYddDhzqwa44Ep1PYSVz7xOhvscZGLTo8ydaKJoR3MFbhCKc2C2tzmLGqka3q3sK6PSRe6C/Jqze2m8JsnilSgKHCWLiRrOk58R81kAGGmtp48WeolpBmvkF/SKYY0HftKGop+BZbqSzFzlZADAp1wBYxnzAIQEaTbKhmWz/GPyjEBOUGYqdAlfgUFAfI8R3iYSjoGWAMykyGEw4K5gQVhfNw4zIQA35Rh5ZNKhJNxFK6A8xMZ9AEU6mNHKd/t60sOT1x+XdYEu57xllRG/66+rzAD+a1tzg0oAyt1umKoHzOqrTZeBVyJmM7G5NKJPzGBB9P8jtYTMGtirbEsJrHiWJtggNkcM3Ux4tU8MYwr5PXU5NTc7pp6LiMTrj7adFFAhQenk4U+fOUhzFytjnvS+ONShiewPF6hL1fQeQcjV8MV8BSeWPcQmWHxCi+d/TzHAoXJq6qGbSETzpUkeDCRR9QhYw7wASBEHmAeJX4FzHSoAZVCvwI05PHBSaP4mccrHA6v+0p8WSbMxIl/eNwFG8DACF95CDMd25jeFOUKwJQSvNQWJrrdHt8/YTRp0zQ40oA18JbzUIvV9xWYL58C4WmAlaKdZqAQRxuilGFjkIkPZyNNI8EhyABdRhpr9O9isUicS+v7Nebz/PMctSXmjeQdnUK7HOvk19QclWBNoRi2QriLmQDFn2hLA7ORRqPAil2mJtwOhCll03wEp2+QPhI830OStwB94RYA68eqpz1l+JJ2MG8dSGo9eax1OHIwSHgHuezq1gzuuN4saI7mgAnJAfTkT4ZW8SFJS1Fh9Q3wtoJcQobsSotgPcVw4g3lLZ5mokgFigIn9ktPXw1foFcXJt+qZyZIBtyi6i4N34PoeGpUW8sBxtHC424ruYIOSF3iEqzquYIOMwxdTl7WmU86XmKihitor7F0a3e46wEFoAxXng6/AhcTrmPUiomcKyRhjHyjgSNBTRXMGQbDdstaX7zmieOcoZHqTe9gk6/VvV0qnIyj+BXQRxKCI3PcNjzVpDseBGVxY4pcYbfb8fDEHFiMJy7BMGMdobYYrxiOsAQM7cGKjKpQbd4ccnKukEuq+cFVmkm8GUX7vf+156zg1EIC3VHjlDdUk6OLF1YKIgaKEwpgVpP4o4iufQqjdkdfD+NjAYyfNsSVQjsI9Q6/D2gd9ysHM+l1yBUSGXIF1IaFCbxB68/DraEe6SO11VJhsDrvuD5XkSHx4Qm3gGgAIhKIvBeTzQlXH9W2KKDCE093cIWJa34u9TbPf+eqrW893Ut039rGkJ/4Ub/hZJwiV+DnIpUr5DeseGCijhhNsyqu10pdNc1SyERBmIFT1ms1JKiTmlA3yqgFxWMHLKU+68OisGyvhPaXbcHmgQGoYdY3wgEOzCpaRCmlXNQErQA0rVDTNLRtHdTWmSZQbGtYIsEWOjD+EVCwZnZHu3wMsnk+4gbIAAfkhEjSB0PYwRWYT6pqrkDkryLBM56vQtsxlAyNzRgN5XVi5p6yJOZ1njfHZzyneA7zKxwOrx6Ibq7QNM1ms+k4X5mWnk/kMGzqZ+OTMR8N1XbSHCKhBc/OFTC4YfnY0PZxy6FPq4MEZWg10xtQ91tRotFCQpuA5dO2CE6iD7kCbV7oV4AYeqdmlSfGa+sAR1snuzovV6C1RrU4rIbeXYwNKpY4iskVIIBOdSBJfAg7W8etg2+GjgdUS45Yd3unIlU0HkWBqfTEekwbAczcK50mE4E2nIwX8iskIUUdsaPJtiI2e9oQ1I895jJqBWnYlArQ3mimppNSeRPDchLzBlu7vl+r4VQZqEHFIHauycBqaZMY9JA8TNNRj14TXj7+oiOnc4W2Dl6GKwB5tsUbwduk1EczyRUQoaJvvoVI1nMFBH8MG2wTKRWuPqpbUUCFnTYCRmA8BMLJeCGucHxgmr+8KlmMHSUE6lcId50HcAVaOKzylX4FffKjemFiQLwCnhfV0tARAhvDZ1M61mieQx2YWfOxbO0aNEGjNJasTYOGYM6Tx32Y1ZAr4FLNHkRYHDqoSuR5qr+qynQ4cniVCVaOgUFfArmCNoQn/ja/Amlfgg/bSvwHSc3kEPQrIIG7QweY1ob07fNfnj+FnHD1UcWKAirstBEwAuMhEE7GUbiCxo4yKLRX7ChQKHIFPV8hB460gKaXYXFYdrkNrM/WmkYN2LmAzeB6nTeHnHquwKrIAPjACrtFcwXDnL/OxxrafAw1XIHgoLm8UbSiBIKmC12GqYPx5hNwzmZQz/LrEt0BJ9A0jDTyyUtQCh2kOcfVxKbyZ3Jr+nIFGHKaZHIFBQoDo4Mr6EsrvH2KJEHbPm6LXAGvk6FfCkLS09vnvyRzIj/D1Ud1KwqosNNGwAiMh0A4GUfhCuP1Iam5myskwh/w59mjbTsM1QeE92JdVpqYkzCqEc5wXn3bRFG3osDb6u/WjcDHQSCcjNfNFXCoRdixj3Nf23pafE+krWBHvrlCBzgjXVLXi6aT5t72LbVEmfxncZIWBfI6kYNX+TvenW4r6HwjYARCBMLJePVcIeyqM0dCwFxhJGC7q9X9L92x6i41qavh6qMaFgVUOE93fNoxF3aOETACHQiEk9FcoQMxXzICRuA8CISrj1ZdFFDhPG2ukGPiHCMwDIFwMporDAPTpYyAEeiBQLj6aPmigArnaXOFHBPnGIFhCIST0VxhGJguZQSMQA8EwtVHyxcFVDhPT/yA/Vxh5xiBySIQTkZzhcneLytmBN4PAuHqo90rCqhwmL65uck/+RhKOtMIGIEOBMLJ2I8r4A14fEu07XX2UIMTY+IQ/s3D+cMmLpmJV/aT70leUgG3ZQSuC4Fw9dEuFAVUOE+bKOSYOMcIDEMgnIzvkCvwJCh+2VLPjebHRsNM/fIsP1cfZnYfGTnsDrmUEXivCISrj3a2KKDCefrsR4nkTTjHCHwQBMLJOIQrHH4fVt9Xvd7dOotfYf9rv75fd/szlsuXk6R5U2HpQRHW65cPU4WZevg0mMTxA8qH41fJwRuY2TSNuQIRdsIIFBEIVx8tVRRQ4TzN2MaHh4cTq8ord44R+FAIhDOoH1fAXgA+vkeuwBN/+elF5lBGuQIOUcZ5t7gBy69L/De7m/314y8eM6zH5uNLPNvHLbnC7e1tcgDLfv/6jUre2vW6Wa3468Xwh5nbbbNcvkrO5812e/wvzzRXeIXJKSNQgUC4+mi5ooAK52lzhRwT5xiBYQiEk7EfV8gbxikx+GICmMHy6xKkQQ/SJ1dY369xtr8e/o/T9fUDAaiq45S6pmlyrqDbCvwOReJpAAMIM/Uj2sfD/59dFGFm0zQ4LS4HxDlGwAjkCISrj4oVBVQ4T7P47e2tIxxzfJxjBOoR4GzSIufhCuG3i/BFnPyrP2gePID0gp/q4Rd6+PUduitU7zDNLYbjNxv3RxfC4fBi8il/Lq6ACvk0w/qdMAJGIEcgXH1UrCigwprWM579gRhFxmkjMAyBcDKeyhX4UT5+3oYf0Au/EAiKgEt0NugHIZum4Wf3+B3Iyg7rdymPis2PjCF0IYSZoQshzIQ+JgqV98ViRiBcfRSWooAKO20EjMB4CIST8QxcARojRgEfC4a3IPQrkBbkfgXtOT5wPLub8QvFerUtvd3+Ea+AmMTE2MPZEGaGVCPMxB7EYrFo08T5RsAIKALh6tNLQIWdNgJGYDwEwtl6KldYfV9hjwAkQCMMEMOY7EHwi7pgEroHoT1HbYhn1HxN5/EKyTsLeGeSmxHHTY1x3oPYbDZJlKXq6bQRMALh6qOwFAVU2GkjYATGQyCcjKdyBd1T0JBG7C9wY4LbDQhpxB4E3n3QAAV2nhsZzMkTOVc47l9sj2EK+I9F1uvaTC3efRKDvjNprkConTACIQLh6qOSRQEVdtoIGIHxEAgn46lcYSR11T8xUhMnVvvw8EBfgs+BORFMF3/3CISrj/a6KKDCThsBIzAeAuFknChX0Pctx0NkcM16xvNut7u9vR1clQsagY+AQLj6aMeLAiqcpOG/hDMS728nAsN+Dnti0Tit+nbnn+fYz+3eeG2a5ubmxlHV9cBacgAC4WScKFdApOQZp/0AvFzECBiBcyEQrj5aeVFAhZN0zhUY8LR93FKYO5vhO94UY6KeKzBai69xVTbBtuq5wilAsTknjEAHAuEYmyhX6OiGLxkBI3B1CISrj/aiKKDCSRonvYIK4BKM9/zzHNHTzMRDSOXbVcO4QqJb5c/55/n6fo1wro5nJB8BV4mnxU5BIJyM5gqnQOqyRsAIVCEQrj5asiigwkl6/nm+fdzC0OISuAK2MpEDw48ccgUe9KI5kJl/nitXwFtdCN/mGfYoRR8GIrihBvwKCN/mqfZ0crAGKHD4fVh+Xa7v12gRXAEftnh6etLOmisoGk6PhEA4Gc0VRkLb1RoBI/CKQLj6vF5umqKAChfTsN8w27DQYADIgY0HG2iaRnkAjDeKkCtoCAIPiEs4AU+ezfNRG18XR3PHs2V/7fXbN0mnQq6gr18l8v5pBM6FQDgZzRXOBa/rMQJGoBWBcPVR6aKAChfT4Ao4VRbbEBoQQC8C6gGNgEXHKXDIB1dAVagEOYxF4KvgkIE/IOcKqI0qVXKFvI/67lV+1TlG4FwIhJPx6rnCYrFAx+Duw2TGtD8XcG31YInBepSsPlpk9X2Fb2PytAm92jetS17blzKwWu1/7dm0tqJrmeZfUboGBBwhur5f46GwYw847zhW8/oiNWOv+6bkOjCHz6PM6ZXgjOBw7VX8XMLh6qOVFwVUuJhODDPGAPcpMFsBCLchyBUY4gDoIIBM3EQWGcAVDr8PWknHuhH2cbfb8VXtUMCZRuB0BMLJOBZXwGmJ+jHo49r97ylJ6/Vrd+bzl3wKr1avkrNWBY816Kdiatbr11bPkeLiC9PVViUNNrlCskhxbWqrQfNrzGS3WcJVPhtp5Sem1Zd7YlVJcXUCk5yxm4kwf+bh8bpMtzEtOqXNFYjk6Ylw9dFqiwIqXEyTK+gdp9t/9X0FHqCkoY0rrL6vMLC3j1uUyudOvV8BoQm9prx21vEKiobTIyEQTsZWUxxKV2q2Wh2/2JR8c2E+Px6x3DTHbz/iSw347jMpwmx2PHXxuFKvjv/V/Onu3fLrkktAhxmoqbZSZn2/hsMAMcxtpVbfV1gauDcJrjDM+VETL4318fD7wKZVN1zN1zuVGZa+JFeoCRrPw+P5IAjC0dbNAX6F4tjrviltmkBPDLMOmY5LMG/7X3sO1w7h8S4V15OiQC/dyBXgXuKXZXAXeJIBZgGEO7gCKuFkz2+HDhidX6oG+QQSdE60LVZhvIK5Qq9hYOFhCISTcRSuAP3U5IMfUG9ewpeckM+vNPEq5ZumwfFHmtM0jXIF0H/Maky/tiBkfazHsyMe/Zm/vl8zTYuOR1vMcJTaPm6xaiCGGbotFovNZqN6ru/X4AqI1ua3tlkz7MHs7uVe6DM0lxU+iOTx0toW0jAPh98HNs1GsWjSw8GmuZgCQNgV7SyftpGJhoAwlPyvb//F5Q+woBWGfB9+H5imzsyhMxaOE3Z8/2uvyCOCLAchXFiT8HjaCbaOBBZ67Ve+9OMql3WqjZx87CVNHCny7wOU15vCbnIwMIcGSfcgOCwZSYehC4X/8z//0TuLqjgjOFybptlsNhf+8lm4+ihKRQEVLqbZd45bIKxjgPcdwhBQNolbhpGps5LjnGhDEpOoyBX2v/bhzU06FQ7p493s9rUmtfinEeiPQDjGLsQVki9AghZgn4IdoYzuQXC3IuQK3bt3ugRwwd0+bjH5Mb1hg7FqIB9mAA8cLIX5j9VElyEqz0TOFXiJCaz4NA9czmh4YAmgFc0MrSnrqU/o+qUdDIO6sRTS44p1DfxJvbj8kAcVg8I0qLSvaB2dUk3C1qEeKuHCrSt12Ou2hTURhkokXqBQuNdQDH1BRw6/DxgkEGAmbh/4olaVtFX8iU6hpxyHGBXaXw7CjqFLNTQ0j+jlmrx7rpB3eTo5umXZvZiEOofreCjpTCMwDIFwjE2RK7B78EZgY4KZTBQPV9Z5qGnWwIWVZoBmm5YAj/sQQEGYClpE1laf0KdDHOmqFpS2QZ/1mVnfikqqzmxLDSGePmFy1MYAN6CBCpVjJVeBEpHRephGcXrsYYa1de0p02o7tV990+g7GAMpTt4vjgelBdBh+7hFJjXvqwPlUWGiBq4qcSEILAi4wOESzKk5tdVSb5gOVx/Vpyigwled5lzQYV/fI5/xXI+VJYchEE7GSXOFo+VevUQ5hH3ebDYd32JQfqBWDaYC/+qCC4vI1ZbPzQhH0lLFM9tDbZkJY6N+Ba7+tN9IaKP0W7Ke+oR2ilxBDSca6uAKiT6QVIRJs2q4wvLrsq11NY3wMQw+N7cNH/Zl/2vPtCJAuJDQu4C7BsXogm5rqJgPAEkKE0xAIxQQ1SQfuvT6rO/X0LyowMUEwtVHWy8KqPBVp0HjcCtPmdRXDYKVnzIC4WS8EFdIthvAAOA24Kef1+sgpHG57OIKGq+QQ6+WjFyBZoDmmUaugyucd+UNuQKawL8wtzQhedf65qBFVEuuADOZPx/rcw8xZAKlTucKba2raRyJKzB6Y/u4DfvFQQLc1K2iyFM9zRyQ5uBk33GPEq5ArdqGLppGJXoTB6h09iLh6qOtFAVU2GkjYATGQyCcjBfiCscYuur3IObzFxDAMEAmwniFAVyBtgHLcf5wpisyF/F6j+6weAU+EXJbhF6N4oDYbDbFV67JDxjMCIpA46St4ImH8QqgBZQEFCFXUEaS+FdpupRqsE5tXTNpjFV/FWa6Jl6B+/3EFuGWGAPaL46BsF1E0bMS6qCJ3W5XDB7E2Q9KVYkSkEy4QnHoQgEoz5duVCumHa9AKJwwAkYgQeByXGG5/OOABH1VEkcsaAhCfuiCxjbu9y+9CLmCnq+Q9DZZymn1YatgDhlbR9ugCzdrwGMllm86gfPmkFPPFVgV7C6Ma+JLoK87ydfWa7gC+wUTos5zqsFMWCw2jbZgNYlbyBXYBVyl5VPeoFyB8qg2py/kCrwXfFtEEcAbMTUf6sUwQHO4rWG/dDyoxxjhmTqEuOGS6FPDFbT7GtIIvsgIOJInbTccusmdanOHfIT3IJLb4Z9GwAjUI3A5rlCv04mS3VzhxMqvpfhisUg+MHOi5mrjT6zqwxa/ubl5eHh4q+5P8A6Gq4/iUxRQ4YmnN5vNbDbb7XYgmieev9SrsyCUjMBtKwuK3Ha0a1upAfn5SXRhJXhQIVyhTJ6pnD6/WpNTc7RdTT1nkcHhGUUn8Vna6q4knIwj7kF0a3Ouqzzj+VwVXlc9xZdBBnRngpZmQC/esMjbntuPBTcPQ3lDQI4elNKpAEWBs+iPU2K1KnoxufV5dML9e3SsZqIUamCUlVbFNJkijR9OIqHAeInBXEG9VnC8tfnMein/brjCev3qLOfdz53iz0P9RZIv/PfMnJ332a/X/YJwOBmvnisMAMJFuhEwV+jGZ+JXsc9yloX+jD0NVx+tvyigwgPSCH7abo/rOP/W62McFf5w1Owx7jXKhAwOhtET5FiVJhaLBbxK4ArYQQtfjtVSZ0nD5BeP6YRfQY92RUHuh+KRPXlXa4CGPDq2O4AmP2K1pq2z+BVqToDlOYGqVRiBd2ImWLW5guLstBEwAh8IgSIVKAqcBazkhazl8uVc+WNw8f6FRoSZaB0sQbkC9hoS3cgVYJIRLQSuAPaAf5WU62M9fEIoS0l8QZsBQ2wROQw2OhqbuxlOO+ULmXkoK5rTo10TrsAgaDQEq4y2GPwEPqoFNagLBXlKKU+tpeaaSI5YZRPaL60csTjKFQgUX2hHDkr99eMvRRuZ+1/7/ATYMDBO7zjUDk8iPjETNdfEXSl0Y6TDySgc+882Q+k/RfzLCBgBI1CFQHE9KQpUNVMSIiGAID9Mw+/UYLlnSLW+1x2+6R1yhY7lHgYMj++0WDDwUIlR2OAKCOaFJGy/lpp/nqMqVNvmBsi5Qo6TmnxchSWGi0Lpy+r7imaYZ59sH7fIBIFgQG7eUE0OeRJcMmgFZEv1JFeA1UfNfJUM+jAamsCiTuYn+uRcAWOA2w3L5bEETxlGcTgeTsxEVSSaiWKX/BlORnOFS94Ct2UEPigC4eqjWBQFVHhwejBX2O9fdiuUPYRqdHdEjbqmWRUtNOylGmmkWUoNKizoKdscaoOhDDWhbirDx3QabL6bQ69Ax5s4rDNMoGvcEElkyAbYtArw5SkABdCU0/TFCmNGYxS22xG5QtM0Nzc3u91OO3XhdDiGJ8oV8Lp8x5mMF8bOzRkBI3AKAuHqoxUWBVR4cHowV1guj5sU6n5o06H7U5C09LReMGYwe9xQ2P/ad3MFHM5BeSTG4Ar8KgrbggnnYzp9G3zLmpKDuQLZBhkJXC+sOT8XJ2md8KqvBbXhFtQH9CRjBu6lE10IYXGMqDcnCoiZyId3b65AV8xs9nrMYpgJiHGJPr36zO4pl/fEOUbACEwWgSIVKAqcpWvJuj+f/xGvgDjHMFOXOKT1kJhEtw43csgVlBbwaV4zNc3HZWSqLUzU6PVTfQYoyH0E0AJ+xE53PaAt6I76FXo13SFMNJAA+cj9Csm+DPYXFGo0gUroeOhoVy8lniQcJZwMJBCIEzPR6Nnfgde+VKbDyTiEK9Dws2Hd9kMm8IUkY4/rM5umMVcgvE4YgWtHIFx9tFNFARUenE5W8/CVhzCTLSaWI4xX6MsV1KrBktX4FfCo3eaop8KVR28lXAFmFUSEpAF6skU+5cOEq8HW1pM0FvbuUH+cD8Gz2BGOAAYAhpT4Fcgk0Is2rgD9O861a5omj1fIDx3GfsSJrzyExfFM3w1OgucYP8PJOBZX2G4bxICgJ6Dq9ZnmCmOMANdpBN4KgXD1UWWKAio8II0nFroH9FVJZOp6xZNnNRON1nAFnq+Q66m0AGk+lMP04iG+kivQNKJsm4+hPraR5h9HlEJ/mGeqR64AVfm2hW4c8NE/R6CGK/AtDL4HoT2lA4MUQXco6AVRqKlGN1BtXAE3HeOEj8qaSSfTiZnvjStwvmm4R5K5Wr3uUBzjTp8/AVWfiVvbEU7Me++EETAC00egSAWKAtPvIzXs4AqU+bCJzfPfW3WfTOKtFCi2O4WJEOrQ26/AruIcK/5Egpn1tCCUZLUd3jzKOGEEjMDEEQhXH9W5KKDCE0/zjOeJ6/km6r3hjU72Wd6k+x2NwuPyPs94zk+oeHahNIfD0amwWr3CMsyvYKLwiqBTRuCaEShaiKLANffeuk8CAURU8C3KSeg0SSXCyTjcr5Ds26HLzEwOxZzPj28c1WeitlDjSWJrpYyAEehCoDiXiwJdtfuaETAC50MgnIz9uMJ2e7T3+FutXqIXw0yQBr8Hcb7b55qMwBUjEK4+2p+igAo7bQSMwHgIhJOxH1fAFgPCGBlI3JapgceMgqzP9DuT4w0F12wELoxAuPqoDkUBFXbaCBiB8RAIJ2NvrjCefknNT09Pi8UiyfRPI2AErhGBcPXRjhQFVNhpI2AExkMgnIwT5Qo+43m8ceCajcDlEQhXH1WjKKDCmp5O9Lhq5bQRuF4Ewsk4Ua5wvShbcyNgBHIEwtVHxYoCKpynfRZLjolzjMAwBMLJaK4wDEyXMgJGoAcC4eqj5YsCKpynzRVyTJxjBIYhEE5Gc4VhYLqUETACPRAIVx8tXxRQ4TxtrpBj4hwjMAyBcDKaKwwD06WMgBHogUC4+mj5ooAK52mf25Zj4hwjMAyBcDKaKwwD06WMgBHogUC4+mj5ooAKh+mbm5vdbhdecqYRMAL1CISTsR9XwPc6N5tNfauWNAJGwAiEq4/CUhRQ4TxtopBj4hwjMAyBcDL24wpN0zw8PPjYg2E3wKWMwIdFIFx9FI2igArn6cVi8fT0lOc7xwgYgb4IhJPRXKEvjJY3AkagNwLh6qO1FAVUOE87tjHHxDlGYBgC4WQ0VxgGpksZASPQA4Fw9dHyRQEVztPmCjkmzjECwxAIJ2NvruDPNAxD36WMwEdGIFx9FJCigArn6ROL5xU6xwh8WATC2dSbKwA+s/gPO4zccSMwAIFw9dF6igIqrGmf8axoOG0ETkcgnIxDuIKJwuk3wzUYgQ+FQLj6KAJFARV22ggYgfEQCCdjb67gzz+Od4dcsxF4rwiEq492tiigwk4bASMwHgLhZOzNFfzO5Hh3yDUbgfeKQLj6aGeLAirstBEwAuMhEE5Gc4XxAHfNRsAIvCAQrj6KTlFAhZ02AkZgPATCyTiEK9zc3IynpWs2Akbg/SEQrj7azVDAB8UqRE4bgcsgEE7GflzBU/cyt8qtGIF3hkC4+mgf2wS86akoOW0ELoBAOBn7cYULaOkmjIAReH8IhKuPdrNNwFxBUXLaCFwAgXAymitcAHk3YQQ+OgLh6qOgtAmYKyhKThuBCyAQTkZzhQsg7yaMwEdHIFx9FJQ2AR8Uqyg5bQQugEA4Gc0VLoC8mzACHx2BcPVRULoFfP6bYuW0ERgVgXAymiuMirkrNwJG4IhAuPooNB0CJgoKlNNGYGwEwslorjA27K7fCBiB4VzBB8V69BiBCyPQmyvM/GcEjIAROBMC3etduDw1TePYxm7cfNUInB3J1yCeAAAB5ElEQVSBcDK2+hXO3rwrNAJGwAi0IRAuT+YKbXA53wiMh0A4Gc0VxgPcNRsBI1CLQLg8gSv4oNhaEC1nBM6BQDgZzRXOAa3rMAJG4DQEwuXJB8WeBqpLG4EhCIST0VxhCJQuYwSMwHkRCJen8zbh2oyAEahBIJyM5go10FnGCBiBcREIl6dxm3TtRsAIRAiEk9FcIYLKeUbACFwWgXB5uqwKbs0IGIEjAuFkNFfw4DACRuDtEQiXp7dXyxoYgY+HQDgZzRU+3kBwj43A9BAIl6fpqWmNjMD7RyCcjOYK7//Gu4dGYPoIhMvT9NW2hkbg/SEQTkZzhfd3o90jI3B9CJzpcEhXYwSMwBkQyFcQc4UcE+cYASNgBIyAETACrwiYK7xi4ZQRMAJGwAgYASOQI2CukGPiHCNgBIyAETACRuAVAXOFVyycMgJGwAgYASNgBHIEzBVyTJxjBIyAETACRsAIvCJgrvCKhVNGwAgYASNgBIxAjoC5Qo6Jc4yAETACRsAIGIFXBMwVXrFwyggYASNgBIyAEcgRMFfIMXGOETACRsAIGAEj8IqAucIrFk4ZASNgBIyAETACOQLmCjkmzjECRsAIGAEjYAReEZj93//9/frLKSNgBIyAETACRsAI/InA/wNqXwGNHUKmCwAAAABJRU5ErkJggg==)"
      ],
      "metadata": {
        "id": "xOrNJl8M6x75"
      }
    },
    {
      "cell_type": "markdown",
      "source": [
        "1."
      ],
      "metadata": {
        "id": "sHEVU06C88sp"
      }
    },
    {
      "cell_type": "code",
      "source": [
        "ten_hoc_sinh = [\"An\", \"Bình\", \"Cường\", \"Dung\", \"Em\"]\n",
        "diem_so = [85, 92, 78, 95, 88]\n",
        "\n",
        "bang_diem = dict(zip(ten_hoc_sinh, diem_so))\n",
        "print(bang_diem)"
      ],
      "metadata": {
        "colab": {
          "base_uri": "https://localhost:8080/"
        },
        "id": "qbKrPNxW2I8X",
        "outputId": "f3fe29f9-4216-4585-b089-8c0b5fb67036"
      },
      "execution_count": 14,
      "outputs": [
        {
          "output_type": "stream",
          "name": "stdout",
          "text": [
            "{'An': 85, 'Bình': 92, 'Cường': 78, 'Dung': 95, 'Em': 88}\n"
          ]
        }
      ]
    },
    {
      "cell_type": "markdown",
      "source": [
        "2."
      ],
      "metadata": {
        "id": "J_Tg0csK9Ogv"
      }
    },
    {
      "cell_type": "code",
      "source": [
        "dict1 = {\"a\": 1, \"b\": 2, \"c\": 3}\n",
        "dict2 = {\"d\": 4, \"e\": 5, \"f\": 6}\n",
        "merged_dict2 = {**dict1, **dict2}\n",
        "print(merged_dict2)"
      ],
      "metadata": {
        "colab": {
          "base_uri": "https://localhost:8080/"
        },
        "id": "lLE1dhG-8_V2",
        "outputId": "bc28f9b3-aea8-442d-ce3b-544150600f80"
      },
      "execution_count": 15,
      "outputs": [
        {
          "output_type": "stream",
          "name": "stdout",
          "text": [
            "{'a': 1, 'b': 2, 'c': 3, 'd': 4, 'e': 5, 'f': 6}\n"
          ]
        }
      ]
    },
    {
      "cell_type": "markdown",
      "source": [
        "3."
      ],
      "metadata": {
        "id": "VOVDza6r96pn"
      }
    },
    {
      "cell_type": "code",
      "source": [],
      "metadata": {
        "id": "78sRVIdM-Aiw"
      },
      "execution_count": 15,
      "outputs": []
    },
    {
      "cell_type": "markdown",
      "source": [
        "4."
      ],
      "metadata": {
        "id": "jOqVKnJ5-Nuy"
      }
    },
    {
      "cell_type": "code",
      "source": [
        "from collections import defaultdict\n",
        "\n",
        "danh_sach_mon = [\"Toán\", \"Lý\", \"Hóa\", \"Sinh\", \"Văn\"]\n",
        "diem_mac_dinh = dict.fromkeys(danh_sach_mon, 0)\n",
        "print(diem_mac_dinh)"
      ],
      "metadata": {
        "colab": {
          "base_uri": "https://localhost:8080/"
        },
        "id": "BMzINQk8-Ncw",
        "outputId": "2542b4bd-e753-4f96-8485-14ce6af8f283"
      },
      "execution_count": 17,
      "outputs": [
        {
          "output_type": "stream",
          "name": "stdout",
          "text": [
            "{'Toán': 0, 'Lý': 0, 'Hóa': 0, 'Sinh': 0, 'Văn': 0}\n"
          ]
        }
      ]
    },
    {
      "cell_type": "markdown",
      "source": [
        "5."
      ],
      "metadata": {
        "id": "Nmy9Ss6P-fK4"
      }
    },
    {
      "cell_type": "code",
      "source": [
        "thong_tin_sinh_vien = {\n",
        "    \"id\": \"SV001\",\n",
        "    \"ten\": \"Huỳnh Trần Bảo Việt\",\n",
        "    \"tuoi\": 20,\n",
        "    \"lop\": \"CS0001\",\n",
        "    \"diem_trung_binh\": 4.0,\n",
        "    \"dia_chi\": \"TPHCM\"\n",
        "}\n",
        "print(\"Từ điển gốc:\", thong_tin_sinh_vien)\n",
        "\n",
        "khoa_can_truy_xuat = [\"ten\", \"tuoi\", \"lop\"]\n",
        "thong_tin_rut_gon = {k: thong_tin_sinh_vien[k] for k in khoa_can_truy_xuat}\n",
        "print(\"Từ điển sau khi trích xuất:\", thong_tin_rut_gon)"
      ],
      "metadata": {
        "colab": {
          "base_uri": "https://localhost:8080/"
        },
        "id": "Mf6vYrhT-Uop",
        "outputId": "5cf4f572-301b-42e7-eb12-db1e25c63999"
      },
      "execution_count": 19,
      "outputs": [
        {
          "output_type": "stream",
          "name": "stdout",
          "text": [
            "Từ điển gốc: {'id': 'SV001', 'ten': 'Huỳnh Trần Bảo Việt', 'tuoi': 20, 'lop': 'CS0001', 'diem_trung_binh': 4.0, 'dia_chi': 'TPHCM'}\n",
            "Từ điển sau khi trích xuất: {'ten': 'Huỳnh Trần Bảo Việt', 'tuoi': 20, 'lop': 'CS0001'}\n"
          ]
        }
      ]
    },
    {
      "cell_type": "markdown",
      "source": [
        "6."
      ],
      "metadata": {
        "id": "WcTZskBs-zup"
      }
    },
    {
      "cell_type": "code",
      "source": [
        "print(\"Từ điển gốc:\", thong_tin_sinh_vien)\n",
        "\n",
        "khoa_can_xoa = [\"dia_chi\", \"id\"]\n",
        "\n",
        "tu_dien_sau_xoa = thong_tin_sinh_vien.copy()\n",
        "for k in khoa_can_xoa:\n",
        "    if k in tu_dien_sau_xoa:\n",
        "        del tu_dien_sau_xoa[k]\n",
        "print(tu_dien_sau_xoa)"
      ],
      "metadata": {
        "colab": {
          "base_uri": "https://localhost:8080/"
        },
        "id": "sBa3fYr5-ftA",
        "outputId": "94240fbd-ab91-4795-8576-fe4b441e5b2f"
      },
      "execution_count": 21,
      "outputs": [
        {
          "output_type": "stream",
          "name": "stdout",
          "text": [
            "Từ điển gốc: {'id': 'SV001', 'ten': 'Huỳnh Trần Bảo Việt', 'tuoi': 20, 'lop': 'CS0001', 'diem_trung_binh': 4.0, 'dia_chi': 'TPHCM'}\n",
            "{'ten': 'Huỳnh Trần Bảo Việt', 'tuoi': 20, 'lop': 'CS0001', 'diem_trung_binh': 4.0}\n"
          ]
        }
      ]
    },
    {
      "cell_type": "markdown",
      "source": [
        "7."
      ],
      "metadata": {
        "id": "l1sDUTgX_UFR"
      }
    },
    {
      "cell_type": "code",
      "source": [
        "danh_ba = {\n",
        "    \"An\": \"0912345678\",\n",
        "    \"Bình\": \"0987654321\",\n",
        "    \"Cường\": \"0923456789\",\n",
        "    \"Dung\": \"0934567891\"\n",
        "}\n",
        "print(\"Từ điển danh bạ:\", danh_ba)\n",
        "\n",
        "so_dt_can_tim = \"0987654321\"\n",
        "co_ton_tai = False\n",
        "if so_dt_can_tim in danh_ba.values():\n",
        "    print(f\"Phương pháp 2: Số điện thoại {so_dt_can_tim} có trong danh bạ\")\n",
        "else:\n",
        "    print(f\"Phương pháp 2: Số điện thoại {so_dt_can_tim} không có trong danh bạ\")"
      ],
      "metadata": {
        "colab": {
          "base_uri": "https://localhost:8080/"
        },
        "id": "Lhgu1k8T-41x",
        "outputId": "c924fa7c-a2aa-4a9e-bef9-57eef5e404fb"
      },
      "execution_count": 23,
      "outputs": [
        {
          "output_type": "stream",
          "name": "stdout",
          "text": [
            "Từ điển danh bạ: {'An': '0912345678', 'Bình': '0987654321', 'Cường': '0923456789', 'Dung': '0934567891'}\n",
            "Phương pháp 2: Số điện thoại 0987654321 có trong danh bạ\n"
          ]
        }
      ]
    },
    {
      "cell_type": "markdown",
      "source": [
        "8.\n"
      ],
      "metadata": {
        "id": "-MRIhREp_koZ"
      }
    },
    {
      "cell_type": "code",
      "source": [
        "san_pham = {\n",
        "    \"ma_sp\": \"SP001\",\n",
        "    \"ten_sp\": \"Điện thoại\",\n",
        "    \"gia\": 5000000,\n",
        "    \"so_luong\": 10\n",
        "}\n",
        "print(\"Từ điển gốc:\", san_pham)\n",
        "\n",
        "key_cu = \"ten_sp\"\n",
        "key_moi = \"ten_san_pham\"\n",
        "\n",
        "if key_cu in san_pham:\n",
        "    san_pham[key_moi] = san_pham[key_cu]\n",
        "    del san_pham[key_cu]\n",
        "print(\"Từ điển sau khi đổi tên khóa:\", san_pham)"
      ],
      "metadata": {
        "colab": {
          "base_uri": "https://localhost:8080/"
        },
        "id": "yc49DbOO_VK4",
        "outputId": "b8c91c72-7042-4816-b386-87277ce754a3"
      },
      "execution_count": 24,
      "outputs": [
        {
          "output_type": "stream",
          "name": "stdout",
          "text": [
            "Từ điển gốc: {'ma_sp': 'SP001', 'ten_sp': 'Điện thoại', 'gia': 5000000, 'so_luong': 10}\n",
            "Từ điển sau khi đổi tên khóa: {'ma_sp': 'SP001', 'gia': 5000000, 'so_luong': 10, 'ten_san_pham': 'Điện thoại'}\n"
          ]
        }
      ]
    },
    {
      "cell_type": "markdown",
      "source": [
        "9."
      ],
      "metadata": {
        "id": "XMmxJtf2_xCb"
      }
    },
    {
      "cell_type": "code",
      "source": [
        "diem_hs = {\n",
        "    \"Nam\": 85,\n",
        "    \"Hoa\": 92,\n",
        "    \"Tuan\": 78,\n",
        "    \"Mai\": 95,\n",
        "    \"Phong\": 72\n",
        "}\n",
        "print(\"Từ điển điểm học sinh:\", diem_hs)\n",
        "\n",
        "hs_diem_thap_nhat = min(diem_hs, key=diem_hs.get)\n",
        "print(f\"Học sinh có điểm thấp nhất là {hs_diem_thap_nhat} với {diem_hs[hs_diem_thap_nhat]} điểm\")"
      ],
      "metadata": {
        "colab": {
          "base_uri": "https://localhost:8080/"
        },
        "id": "57O3klDs_pxi",
        "outputId": "048bcc6e-06cd-4960-954f-745a5ff5f85c"
      },
      "execution_count": 26,
      "outputs": [
        {
          "output_type": "stream",
          "name": "stdout",
          "text": [
            "Từ điển điểm học sinh: {'Nam': 85, 'Hoa': 92, 'Tuan': 78, 'Mai': 95, 'Phong': 72}\n",
            "Học sinh có điểm thấp nhất là Phong với 72 điểm\n"
          ]
        }
      ]
    },
    {
      "cell_type": "markdown",
      "source": [
        "10."
      ],
      "metadata": {
        "id": "Be5MEhfn_8tB"
      }
    },
    {
      "cell_type": "code",
      "source": [
        "nhan_vien = {\n",
        "    \"nhan_vien_1\": {\n",
        "        \"ten\": \"Nguyễn Văn A\",\n",
        "        \"phong_ban\": \"Kế toán\",\n",
        "        \"luong\": 10000000\n",
        "    },\n",
        "    \"nhan_vien_2\": {\n",
        "        \"ten\": \"Trần Thị B\",\n",
        "        \"phong_ban\": \"Nhân sự\",\n",
        "        \"luong\": 12000000\n",
        "    }\n",
        "}\n",
        "print(\"Từ điển nhân viên ban đầu:\")\n",
        "print(nhan_vien)\n",
        "\n",
        "nhan_vien[\"nhan_vien_1\"][\"luong\"] = 11000000\n",
        "\n",
        "nhan_vien[\"nhan_vien_2\"][\"phong_ban\"] = \"Kinh doanh\"\n",
        "\n",
        "print(\"Từ điển nhân viên sau khi thay đổi:\")\n",
        "print(nhan_vien)"
      ],
      "metadata": {
        "colab": {
          "base_uri": "https://localhost:8080/"
        },
        "id": "VHlTIWWv_zIL",
        "outputId": "a2e9d107-af54-442f-d080-53cec900d603"
      },
      "execution_count": 27,
      "outputs": [
        {
          "output_type": "stream",
          "name": "stdout",
          "text": [
            "Từ điển nhân viên ban đầu:\n",
            "{'nhan_vien_1': {'ten': 'Nguyễn Văn A', 'phong_ban': 'Kế toán', 'luong': 10000000}, 'nhan_vien_2': {'ten': 'Trần Thị B', 'phong_ban': 'Nhân sự', 'luong': 12000000}}\n",
            "Từ điển nhân viên sau khi thay đổi:\n",
            "{'nhan_vien_1': {'ten': 'Nguyễn Văn A', 'phong_ban': 'Kế toán', 'luong': 11000000}, 'nhan_vien_2': {'ten': 'Trần Thị B', 'phong_ban': 'Kinh doanh', 'luong': 12000000}}\n"
          ]
        }
      ]
    },
    {
      "cell_type": "markdown",
      "source": [
        "11."
      ],
      "metadata": {
        "id": "KW7SZupbAv3Y"
      }
    },
    {
      "cell_type": "code",
      "source": [
        "doan_van = \"\"\"\n",
        "Tung tung tung tung tung sahur\n",
        "Pika pika pikachu\n",
        "Meo meo meo rua mat nhu meo\n",
        "\"\"\"\n",
        "\n",
        "print(\"Đoạn văn bản:\")\n",
        "print(doan_van)\n",
        "\n",
        "# Tạo dictionary để đếm số lần xuất hiện của mỗi ký tự\n",
        "so_lan_xuat_hien = {}\n",
        "\n",
        "# Loại bỏ khoảng trắng và chuyển về chữ thường để dễ đếm\n",
        "doan_van_xu_ly = doan_van.lower().replace(\" \", \"\").replace(\"\\n\", \"\")\n",
        "\n",
        "# Đếm số lần xuất hiện của mỗi ký tự\n",
        "for ky_tu in doan_van_xu_ly:\n",
        "    if ky_tu in so_lan_xuat_hien:\n",
        "        so_lan_xuat_hien[ky_tu] += 1\n",
        "    else:\n",
        "        so_lan_xuat_hien[ky_tu] = 1\n",
        "\n",
        "# Hiển thị kết quả\n",
        "print(\"Số lần xuất hiện của mỗi ký tự:\")\n",
        "for ky_tu, so_lan in sorted(so_lan_xuat_hien.items()):\n",
        "    print(f\"'{ky_tu}': {so_lan}\")"
      ],
      "metadata": {
        "colab": {
          "base_uri": "https://localhost:8080/"
        },
        "id": "MxxzThE__-9h",
        "outputId": "8d566605-6a97-4dde-b23f-9c33913bc9c9"
      },
      "execution_count": 28,
      "outputs": [
        {
          "output_type": "stream",
          "name": "stdout",
          "text": [
            "Đoạn văn bản:\n",
            "\n",
            "Tung tung tung tung tung sahur\n",
            "Pika pika pikachu\n",
            "Meo meo meo rua mat nhu meo\n",
            "\n",
            "Số lần xuất hiện của mỗi ký tự:\n",
            "'a': 6\n",
            "'c': 1\n",
            "'e': 4\n",
            "'g': 5\n",
            "'h': 3\n",
            "'i': 3\n",
            "'k': 3\n",
            "'m': 5\n",
            "'n': 6\n",
            "'o': 4\n",
            "'p': 3\n",
            "'r': 2\n",
            "'s': 1\n",
            "'t': 6\n",
            "'u': 9\n"
          ]
        }
      ]
    },
    {
      "cell_type": "markdown",
      "source": [
        "12."
      ],
      "metadata": {
        "id": "eMMH45roAxK6"
      }
    },
    {
      "cell_type": "code",
      "source": [
        "def la_so_nguyen_to(n):\n",
        "    \"\"\"Kiểm tra xem một số có phải là số nguyên tố hay không\"\"\"\n",
        "    if n <= 1:\n",
        "        return False\n",
        "    if n <= 3:\n",
        "        return True\n",
        "    if n % 2 == 0 or n % 3 == 0:\n",
        "        return False\n",
        "    i = 5\n",
        "    while i * i <= n:\n",
        "        if n % i == 0 or n % (i + 2) == 0:\n",
        "            return False\n",
        "        i += 6\n",
        "    return True\n",
        "\n",
        "N = 50\n",
        "print(f\"Tìm các số nguyên tố nhỏ hơn {N}\")\n",
        "\n",
        "so_nguyen_to_dict = {}\n",
        "so_dem = 1\n",
        "\n",
        "for i in range(2, N):\n",
        "    if la_so_nguyen_to(i):\n",
        "        so_nguyen_to_dict[so_dem] = i\n",
        "        so_dem += 1\n",
        "\n",
        "print(\"Dictionary chứa số nguyên tố:\")\n",
        "print(so_nguyen_to_dict)"
      ],
      "metadata": {
        "colab": {
          "base_uri": "https://localhost:8080/"
        },
        "id": "1_5_E3FxAx2E",
        "outputId": "901c122d-c09a-419c-e9b5-b3968dfa4dd8"
      },
      "execution_count": 29,
      "outputs": [
        {
          "output_type": "stream",
          "name": "stdout",
          "text": [
            "Tìm các số nguyên tố nhỏ hơn 50\n",
            "Dictionary chứa số nguyên tố:\n",
            "{1: 2, 2: 3, 3: 5, 4: 7, 5: 11, 6: 13, 7: 17, 8: 19, 9: 23, 10: 29, 11: 31, 12: 37, 13: 41, 14: 43, 15: 47}\n"
          ]
        }
      ]
    },
    {
      "cell_type": "markdown",
      "source": [
        "**"
      ],
      "metadata": {
        "id": "E-myKL1aAyY0"
      }
    },
    {
      "cell_type": "code",
      "source": [
        "employees = {\n",
        "    1001: {\"name\": \"Alice\", \"department\": \"Engineering\", \"salary\": 75000},\n",
        "    1002: {\"name\": \"Bob\", \"department\": \"Sales\", \"salary\": 50000},\n",
        "    1003: {\"name\": \"Charlie\", \"department\": \"Engineering\", \"salary\": 80000},\n",
        "    1004: {\"name\": \"Dave\", \"department\": \"Marketing\", \"salary\": 60000},\n",
        "    1005: {\"name\": \"Eve\", \"department\": \"Sales\", \"salary\": 55000}\n",
        "}\n",
        "\n",
        "print(\"Dictionary thông tin nhân viên ban đầu:\")\n",
        "for id, info in employees.items():\n",
        "    print(f\"{id}: {info}\")\n",
        "\n",
        "dept_employees = {}\n",
        "\n",
        "for id, info in employees.items():\n",
        "    department = info[\"department\"]\n",
        "\n",
        "    if department not in dept_employees:\n",
        "        dept_employees[department] = {}\n",
        "\n",
        "\n",
        "    employee_info = {\n",
        "        \"name\": info[\"name\"],\n",
        "        \"salary\": info[\"salary\"]\n",
        "    }\n",
        "\n",
        "    dept_employees[department][id] = employee_info\n",
        "\n",
        "print(\"\\nDictionary sau khi tái cấu trúc (nhân viên theo phòng ban):\")\n",
        "for dept, employees in dept_employees.items():\n",
        "    print(f\"\\n{dept}: {{\")\n",
        "    for id, info in employees.items():\n",
        "        print(f\"    {id}: {info},\")\n",
        "    print(\"}\")"
      ],
      "metadata": {
        "colab": {
          "base_uri": "https://localhost:8080/"
        },
        "id": "dq6w0tMMA0Hl",
        "outputId": "d68964b2-e83e-48d5-a36e-54d3cb52a5b0"
      },
      "execution_count": 30,
      "outputs": [
        {
          "output_type": "stream",
          "name": "stdout",
          "text": [
            "Dictionary thông tin nhân viên ban đầu:\n",
            "1001: {'name': 'Alice', 'department': 'Engineering', 'salary': 75000}\n",
            "1002: {'name': 'Bob', 'department': 'Sales', 'salary': 50000}\n",
            "1003: {'name': 'Charlie', 'department': 'Engineering', 'salary': 80000}\n",
            "1004: {'name': 'Dave', 'department': 'Marketing', 'salary': 60000}\n",
            "1005: {'name': 'Eve', 'department': 'Sales', 'salary': 55000}\n",
            "\n",
            "Dictionary sau khi tái cấu trúc (nhân viên theo phòng ban):\n",
            "\n",
            "Engineering: {\n",
            "    1001: {'name': 'Alice', 'salary': 75000},\n",
            "    1003: {'name': 'Charlie', 'salary': 80000},\n",
            "}\n",
            "\n",
            "Sales: {\n",
            "    1002: {'name': 'Bob', 'salary': 50000},\n",
            "    1005: {'name': 'Eve', 'salary': 55000},\n",
            "}\n",
            "\n",
            "Marketing: {\n",
            "    1004: {'name': 'Dave', 'salary': 60000},\n",
            "}\n"
          ]
        }
      ]
    }
  ]
}