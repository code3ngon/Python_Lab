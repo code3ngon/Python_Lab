{
  "nbformat": 4,
  "nbformat_minor": 0,
  "metadata": {
    "colab": {
      "provenance": [],
      "authorship_tag": "ABX9TyNWspaP4TzI+46sq0DY1D5k",
      "include_colab_link": true
    },
    "kernelspec": {
      "name": "python3",
      "display_name": "Python 3"
    },
    "language_info": {
      "name": "python"
    }
  },
  "cells": [
    {
      "cell_type": "markdown",
      "metadata": {
        "id": "view-in-github",
        "colab_type": "text"
      },
      "source": [
        "<a href=\"https://colab.research.google.com/github/code3ngon/Python_Lab/blob/main/Python_Lab_4_1.ipynb\" target=\"_parent\"><img src=\"https://colab.research.google.com/assets/colab-badge.svg\" alt=\"Open In Colab\"/></a>"
      ]
    },
    {
      "cell_type": "code",
      "execution_count": 9,
      "metadata": {
        "id": "Kz1k3EMxM4pb",
        "outputId": "f0d72c83-7671-43b0-8101-235fea5dd2ef",
        "colab": {
          "base_uri": "https://localhost:8080/"
        }
      },
      "outputs": [
        {
          "output_type": "stream",
          "name": "stdout",
          "text": [
            "\n",
            "Chọn cấp độ:\n",
            "1. Dễ (9 lần đoán)\n",
            "2. Vừa (6 lần đoán)\n",
            "3. Khó (4 lần đoán)\n",
            "Nhập lựa chọn của bạn (1-3): 1\n",
            "\n",
            "Bạn đã chọn cấp độ Dễ: 9 lần đoán tối đa.\n",
            "\n",
            "Lần đoán thứ 1/9. Nhập số bạn đoán (1-100): 50\n",
            "Số bí mật nhỏ hơn!\n",
            "\n",
            "Lần đoán thứ 2/9. Nhập số bạn đoán (1-100): 25\n",
            "Số bí mật nhỏ hơn!\n",
            "\n",
            "Lần đoán thứ 3/9. Nhập số bạn đoán (1-100): 15\n",
            "Số bí mật nhỏ hơn!\n",
            "\n",
            "Lần đoán thứ 4/9. Nhập số bạn đoán (1-100): 5\n",
            "Số bí mật nhỏ hơn!\n",
            "\n",
            "Lần đoán thứ 5/9. Nhập số bạn đoán (1-100): 2\n",
            "Số bí mật nhỏ hơn!\n",
            "\n",
            "Lần đoán thứ 6/9. Nhập số bạn đoán (1-100): 1\n",
            "\n",
            "CHÚC MỪNG! Bạn đã đoán đúng số 1 sau 6 lần đoán.\n",
            "\n",
            "Bạn có muốn chơi tiếp không? (có/không): không\n",
            "\n",
            "Thống kê: \n",
            "Số lần thắng: 1\n",
            "Số lần thua: 0\n",
            "Tổng số lần chơi: 1\n"
          ]
        }
      ],
      "source": [
        "import random\n",
        "\n",
        "def game_doan_so():\n",
        "    so_lan_thang = 0\n",
        "    so_lan_thua = 0\n",
        "\n",
        "    choi_tiep = True\n",
        "    while choi_tiep:\n",
        "        print(\"\\nChọn cấp độ:\")\n",
        "        print(\"1. Dễ (9 lần đoán)\")\n",
        "        print(\"2. Vừa (6 lần đoán)\")\n",
        "        print(\"3. Khó (4 lần đoán)\")\n",
        "\n",
        "        cap_do = input(\"Nhập lựa chọn của bạn (1-3): \")\n",
        "\n",
        "        if cap_do == \"1\":\n",
        "            so_lan_doan_toi_da = 9\n",
        "            ten_cap_do = \"Dễ\"\n",
        "        elif cap_do == \"2\":\n",
        "            so_lan_doan_toi_da = 6\n",
        "            ten_cap_do = \"Vừa\"\n",
        "        elif cap_do == \"3\":\n",
        "            so_lan_doan_toi_da = 4\n",
        "            ten_cap_do = \"Khó\"\n",
        "\n",
        "        print(f\"\\nBạn đã chọn cấp độ {ten_cap_do}: {so_lan_doan_toi_da} lần đoán tối đa.\")\n",
        "\n",
        "        so_bi_mat = random.randint(1, 100)\n",
        "\n",
        "        so_lan_doan = 0\n",
        "        da_doan_dung = False\n",
        "\n",
        "        while so_lan_doan < so_lan_doan_toi_da:\n",
        "            try:\n",
        "                du_doan = int(input(f\"\\nLần đoán thứ {so_lan_doan + 1}/{so_lan_doan_toi_da}. Nhập số bạn đoán (1-100): \"))\n",
        "\n",
        "                if du_doan < 1 or du_doan > 100:\n",
        "                    print(\"Vui lòng nhập một số từ 1 đến 100.\")\n",
        "                    continue\n",
        "\n",
        "                so_lan_doan += 1\n",
        "\n",
        "                if du_doan < so_bi_mat:\n",
        "                    print(\"Số bí mật lớn hơn!\")\n",
        "                elif du_doan > so_bi_mat:\n",
        "                    print(\"Số bí mật nhỏ hơn!\")\n",
        "                else:\n",
        "                    print(f\"\\nCHÚC MỪNG! Bạn đã đoán đúng số {so_bi_mat} sau {so_lan_doan} lần đoán.\")\n",
        "                    so_lan_thang += 1\n",
        "                    da_doan_dung = True\n",
        "                    break\n",
        "\n",
        "            except ValueError:\n",
        "                print(\"Vui lòng nhập một số nguyên!\")\n",
        "\n",
        "        if not da_doan_dung:\n",
        "            print(f\"\\nBạn đã hết số lần đoán. Số bí mật là {so_bi_mat}.\")\n",
        "            so_lan_thua += 1\n",
        "\n",
        "        lua_chon = input(\"\\nBạn có muốn chơi tiếp không? (có/không): \").lower()\n",
        "        choi_tiep = lua_chon == \"có\" or lua_chon == \"co\" or lua_chon == \"c\"\n",
        "\n",
        "    print(\"\\nThống kê: \")\n",
        "    print(f\"Số lần thắng: {so_lan_thang}\")\n",
        "    print(f\"Số lần thua: {so_lan_thua}\")\n",
        "    print(f\"Tổng số lần chơi: {so_lan_thang + so_lan_thua}\")\n",
        "\n",
        "if __name__ == \"__main__\":\n",
        "    game_doan_so()"
      ]
    }
  ]
}