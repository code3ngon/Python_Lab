{
  "nbformat": 4,
  "nbformat_minor": 0,
  "metadata": {
    "colab": {
      "provenance": [],
      "authorship_tag": "ABX9TyOp8RWnU7nFAIddCnPRY023",
      "include_colab_link": true
    },
    "kernelspec": {
      "name": "python3",
      "display_name": "Python 3"
    },
    "language_info": {
      "name": "python"
    }
  },
  "cells": [
    {
      "cell_type": "markdown",
      "metadata": {
        "id": "view-in-github",
        "colab_type": "text"
      },
      "source": [
        "<a href=\"https://colab.research.google.com/github/code3ngon/Python_Lab/blob/main/Python_Lab_3_1.ipynb\" target=\"_parent\"><img src=\"https://colab.research.google.com/assets/colab-badge.svg\" alt=\"Open In Colab\"/></a>"
      ]
    },
    {
      "cell_type": "markdown",
      "source": [
        "\n",
        "1. Write a program that prompts the user to enter base .and height of the triangle and calculate an area of this triangle (area = 0.5 x b x h)."
      ],
      "metadata": {
        "id": "TJLE7JIVVJo5"
      }
    },
    {
      "cell_type": "code",
      "execution_count": null,
      "metadata": {
        "id": "duhWCKWKVA_0",
        "colab": {
          "base_uri": "https://localhost:8080/"
        },
        "outputId": "09237047-cf2c-4244-e330-87d0309acd63"
      },
      "outputs": [
        {
          "output_type": "stream",
          "name": "stdout",
          "text": [
            "Enter triangle base: 5\n",
            "Enter triangle height: 9\n",
            "Triangle area: 22.5\n"
          ]
        }
      ],
      "source": [
        "base = float(input(\"Enter triangle base: \"))\n",
        "height = float(input(\"Enter triangle height: \"))\n",
        "triangle_area = 0.5 * base * height\n",
        "print(f\"Triangle area: {triangle_area}\")"
      ]
    },
    {
      "cell_type": "markdown",
      "source": [
        "2. Write a script that prompts the user to enter side a, side b, and side c of the triangle. Calculate the perimeter of the triangle (perimeter = a + b + c)."
      ],
      "metadata": {
        "id": "hZBIMOosVOzE"
      }
    },
    {
      "cell_type": "code",
      "source": [
        "side_a = float(input(\"Enter side a: \"))\n",
        "side_b = float(input(\"Enter side b: \"))\n",
        "side_c = float(input(\"Enter side c: \"))\n",
        "triangle_perimeter = side_a + side_b + side_c\n",
        "print(f\"Triangle perimeter: {triangle_perimeter}\")"
      ],
      "metadata": {
        "id": "W6AaF3AYVR-2",
        "colab": {
          "base_uri": "https://localhost:8080/"
        },
        "outputId": "5f7de7aa-9bf1-407c-b925-e3215841e99d"
      },
      "execution_count": null,
      "outputs": [
        {
          "output_type": "stream",
          "name": "stdout",
          "text": [
            "Enter side a: 4\n",
            "Enter side b: 6\n",
            "Enter side c: 5\n",
            "Triangle perimeter: 15.0\n"
          ]
        }
      ]
    },
    {
      "cell_type": "markdown",
      "source": [
        "3. Get length and width of a rectangle using prompt. Calculate its area (area = length x width) and perimeter (perimeter = 2 x (length + width))"
      ],
      "metadata": {
        "id": "Q3zdrLHPVSfj"
      }
    },
    {
      "cell_type": "code",
      "source": [
        "length = float(input(\"Enter rectangle length: \"))\n",
        "width = float(input(\"Enter rectangle width: \"))\n",
        "rectangle_area = length * width\n",
        "rectangle_perimeter = 2 * (length + width)\n",
        "print(f\"Rectangle area: {rectangle_area}\")\n",
        "print(f\"Rectangle perimeter: {rectangle_perimeter}\")"
      ],
      "metadata": {
        "id": "h7D3fZquVVLf",
        "colab": {
          "base_uri": "https://localhost:8080/"
        },
        "outputId": "b7a620b7-e72b-4202-c35b-d91bfd170fc0"
      },
      "execution_count": null,
      "outputs": [
        {
          "output_type": "stream",
          "name": "stdout",
          "text": [
            "Enter rectangle length: 20\n",
            "Enter rectangle width: 15\n",
            "Rectangle area: 300.0\n",
            "Rectangle perimeter: 70.0\n"
          ]
        }
      ]
    },
    {
      "cell_type": "markdown",
      "source": [
        "4. Get radius of a circle using prompt. Calculate the area (area = pi x r x r) and circumference (c = 2 x pi x r) where pi = 3.14."
      ],
      "metadata": {
        "id": "0KVQfgdUVVpC"
      }
    },
    {
      "cell_type": "code",
      "source": [
        "radius = float(input(\"Enter circle radius: \"))\n",
        "pi = 3.14\n",
        "circle_area = pi * radius * radius\n",
        "circumference = 2 * pi * radius\n",
        "print(f\"Circle area: {circle_area}\")\n",
        "print(f\"Circle circumference: {circumference}\")"
      ],
      "metadata": {
        "id": "F8C_tAsfVZ2b",
        "colab": {
          "base_uri": "https://localhost:8080/"
        },
        "outputId": "dc364278-0fa5-4a47-b4f9-cbe7cbff42c3"
      },
      "execution_count": null,
      "outputs": [
        {
          "output_type": "stream",
          "name": "stdout",
          "text": [
            "Enter circle radius: 4\n",
            "Circle area: 50.24\n",
            "Circle circumference: 25.12\n"
          ]
        }
      ]
    },
    {
      "cell_type": "markdown",
      "source": [
        "5. Calculate the slope, x-intercept and y-intercept of y = 2x -2"
      ],
      "metadata": {
        "id": "wgyqnrLnVaSz"
      }
    },
    {
      "cell_type": "code",
      "source": [
        "slope = 2\n",
        "y_intercept = -2\n",
        "x_intercept = 2 / 2\n",
        "print(f\"Slope: {slope}\")\n",
        "print(f\"Y-intercept: {y_intercept}\")\n",
        "print(f\"X-intercept: {x_intercept}\")"
      ],
      "metadata": {
        "id": "It9x8ldTVdvD",
        "colab": {
          "base_uri": "https://localhost:8080/"
        },
        "outputId": "cdcf7687-a660-4c99-82fe-1688904b78af"
      },
      "execution_count": null,
      "outputs": [
        {
          "output_type": "stream",
          "name": "stdout",
          "text": [
            "Slope: 2\n",
            "Y-intercept: -2\n",
            "X-intercept: 1.0\n"
          ]
        }
      ]
    },
    {
      "cell_type": "markdown",
      "source": [
        "6. Slope is (m = y2-y1/x2-x1). Find the slope and Euclidean distance between point (2, 2) and point (6,10)"
      ],
      "metadata": {
        "id": "O-JVH-SkVeI8"
      }
    },
    {
      "cell_type": "code",
      "source": [
        "x1, y1 = 2, 2\n",
        "x2, y2 = 6, 10\n",
        "slope_points = (y2 - y1) / (x2 - x1)\n",
        "distance = ((x2 - x1)**2 + (y2 - y1)**2)**0.5\n",
        "print(f\"Slope between points: {slope_points}\")\n",
        "print(f\"Euclidean distance: {distance}\")"
      ],
      "metadata": {
        "id": "ISjwwCwYVhbk",
        "colab": {
          "base_uri": "https://localhost:8080/"
        },
        "outputId": "0794e688-3724-4eff-fbba-f34059fed1b0"
      },
      "execution_count": null,
      "outputs": [
        {
          "output_type": "stream",
          "name": "stdout",
          "text": [
            "Slope between points: 2.0\n",
            "Euclidean distance: 8.94427190999916\n"
          ]
        }
      ]
    },
    {
      "cell_type": "markdown",
      "source": [
        "7. Compare the slopes in tasks 8 and 9."
      ],
      "metadata": {
        "id": "Sx1zZFBoViCf"
      }
    },
    {
      "cell_type": "code",
      "source": [
        "print(f\"Slope from exercise 5: {slope}\")\n",
        "print(f\"Slope from exercise 6: {slope_points}\")\n",
        "print(f\"Slopes are equal: {slope == slope_points}\")"
      ],
      "metadata": {
        "id": "PuRQ6KOiVniO",
        "colab": {
          "base_uri": "https://localhost:8080/"
        },
        "outputId": "d7f9b409-3d2b-4dfc-d168-7bdce8ebe643"
      },
      "execution_count": null,
      "outputs": [
        {
          "output_type": "stream",
          "name": "stdout",
          "text": [
            "Slope from exercise 5: 2\n",
            "Slope from exercise 6: 2.0\n",
            "Slopes are equal: True\n"
          ]
        }
      ]
    },
    {
      "cell_type": "markdown",
      "source": [
        "8. Calculate the value of y (y = x^2 + 6x + 9). Try to use different x values and figure out at what x value y is going to be 0."
      ],
      "metadata": {
        "id": "pVNFTmFrVqOk"
      }
    },
    {
      "cell_type": "code",
      "source": [
        "for x in range(-10, 5):\n",
        "    y = x**2 + 6*x + 9\n",
        "    print(f\"x = {x}, y = {y}\")\n",
        "    if y == 0:\n",
        "        print(f\"y = 0 when x = {x}\")"
      ],
      "metadata": {
        "id": "atFg8xlxVroB",
        "colab": {
          "base_uri": "https://localhost:8080/"
        },
        "outputId": "f6bcdd4e-4870-492b-ad56-427d6a17bb03"
      },
      "execution_count": null,
      "outputs": [
        {
          "output_type": "stream",
          "name": "stdout",
          "text": [
            "x = -10, y = 49\n",
            "x = -9, y = 36\n",
            "x = -8, y = 25\n",
            "x = -7, y = 16\n",
            "x = -6, y = 9\n",
            "x = -5, y = 4\n",
            "x = -4, y = 1\n",
            "x = -3, y = 0\n",
            "y = 0 when x = -3\n",
            "x = -2, y = 1\n",
            "x = -1, y = 4\n",
            "x = 0, y = 9\n",
            "x = 1, y = 16\n",
            "x = 2, y = 25\n",
            "x = 3, y = 36\n",
            "x = 4, y = 49\n"
          ]
        }
      ]
    },
    {
      "cell_type": "markdown",
      "source": [
        "9. Find the length of 'python' and 'dragon' and make a falsy comparison statement."
      ],
      "metadata": {
        "id": "HIbPpaxbVsMI"
      }
    },
    {
      "cell_type": "code",
      "source": [
        "python_len = len('python')\n",
        "dragon_len = len('dragon')\n",
        "print(f\"Length of 'python': {python_len}\")\n",
        "print(f\"Length of 'dragon': {dragon_len}\")\n",
        "print(f\"Are lengths equal? {python_len == dragon_len}\")"
      ],
      "metadata": {
        "id": "mlJLW1caVvHL",
        "colab": {
          "base_uri": "https://localhost:8080/"
        },
        "outputId": "199a34d1-8675-4cca-d873-7bc919597fa8"
      },
      "execution_count": null,
      "outputs": [
        {
          "output_type": "stream",
          "name": "stdout",
          "text": [
            "Length of 'python': 6\n",
            "Length of 'dragon': 6\n",
            "Are lengths equal? True\n"
          ]
        }
      ]
    },
    {
      "cell_type": "markdown",
      "source": [
        "10. Use and operator to check if 'on' is found in both 'python' and 'dragon'"
      ],
      "metadata": {
        "id": "Dm60FC8YVvrU"
      }
    },
    {
      "cell_type": "code",
      "source": [
        "python_has_on = 'on' in 'python'\n",
        "dragon_has_on = 'on' in 'dragon'\n",
        "both_have_on = python_has_on and dragon_has_on\n",
        "print(f\"'on' in 'python': {python_has_on}\")\n",
        "print(f\"'on' in 'dragon': {dragon_has_on}\")\n",
        "print(f\"'on' in both: {both_have_on}\")"
      ],
      "metadata": {
        "id": "qBq8oNgYV0A6",
        "colab": {
          "base_uri": "https://localhost:8080/"
        },
        "outputId": "472c862d-7ee2-4837-827c-c3bd1cef05ce"
      },
      "execution_count": null,
      "outputs": [
        {
          "output_type": "stream",
          "name": "stdout",
          "text": [
            "'on' in 'python': True\n",
            "'on' in 'dragon': True\n",
            "'on' in both: True\n"
          ]
        }
      ]
    },
    {
      "cell_type": "markdown",
      "source": [
        "11. I hope this course is not full of jargon. Use in operator to check if jargon is in the sentence."
      ],
      "metadata": {
        "id": "oE--4QWQV0ZM"
      }
    },
    {
      "cell_type": "code",
      "source": [
        "sentence = \"I hope this course is not full of jargon\"\n",
        "has_jargon = 'jargon' in sentence\n",
        "print(f\"Sentence: {sentence}\")\n",
        "print(f\"Contains 'jargon': {has_jargon}\")"
      ],
      "metadata": {
        "id": "hecrSXBlV3RP",
        "colab": {
          "base_uri": "https://localhost:8080/"
        },
        "outputId": "3f8ad72a-69ce-4d73-9e50-f5d3b044357c"
      },
      "execution_count": null,
      "outputs": [
        {
          "output_type": "stream",
          "name": "stdout",
          "text": [
            "Sentence: I hope this course is not full of jargon\n",
            "Contains 'jargon': True\n"
          ]
        }
      ]
    },
    {
      "cell_type": "markdown",
      "source": [
        "13. Find the length of the text python and convert the value to float and convert it to string"
      ],
      "metadata": {
        "id": "oZhox3lXV4CL"
      }
    },
    {
      "cell_type": "code",
      "source": [
        "text = 'python'\n",
        "text_length = len(text)\n",
        "length_as_float = float(text_length)\n",
        "length_as_string = str(length_as_float)\n",
        "print(f\"Text: {text}\")\n",
        "print(f\"Length: {text_length}\")\n",
        "print(f\"As float: {length_as_float}\")\n",
        "print(f\"As string: {length_as_string}\")"
      ],
      "metadata": {
        "id": "pUe8-5pMV8tm",
        "colab": {
          "base_uri": "https://localhost:8080/"
        },
        "outputId": "38dc36f9-3d70-4f4f-c80d-a5ae6d2355b3"
      },
      "execution_count": null,
      "outputs": [
        {
          "output_type": "stream",
          "name": "stdout",
          "text": [
            "Text: python\n",
            "Length: 6\n",
            "As float: 6.0\n",
            "As string: 6.0\n"
          ]
        }
      ]
    },
    {
      "cell_type": "markdown",
      "source": [
        "14. Even numbers are divisible by 2 and the remainder is zero. How do you check if a number is even or not using python?"
      ],
      "metadata": {
        "id": "03GKngrcV9GT"
      }
    },
    {
      "cell_type": "code",
      "source": [
        "number = int(input(\"Enter a number to check if even: \"))\n",
        "is_even = number % 2 == 0\n",
        "print(f\"Number {number} is even: {is_even}\")"
      ],
      "metadata": {
        "id": "fTg_IVNFWEiu",
        "colab": {
          "base_uri": "https://localhost:8080/"
        },
        "outputId": "294d62e8-9861-4ee5-90b9-8d9b37c2baad"
      },
      "execution_count": null,
      "outputs": [
        {
          "output_type": "stream",
          "name": "stdout",
          "text": [
            "Enter a number to check if even: 8\n",
            "Number 8 is even: True\n"
          ]
        }
      ]
    },
    {
      "cell_type": "markdown",
      "source": [
        "15. Writs a script that prompts the user to enter hours and rate per hour. Calculate pay of the person?"
      ],
      "metadata": {
        "id": "GoCwgPD9WE5e"
      }
    },
    {
      "cell_type": "code",
      "source": [
        "hours = float(input(\"Enter hours worked: \"))\n",
        "rate = float(input(\"Enter rate per hour: \"))\n",
        "pay = hours * rate\n",
        "print(f\"Total pay: ${pay}\")"
      ],
      "metadata": {
        "id": "VPFoFI8zWI89",
        "colab": {
          "base_uri": "https://localhost:8080/"
        },
        "outputId": "11dc0f57-88ff-4d11-afba-70875ddd8d92"
      },
      "execution_count": null,
      "outputs": [
        {
          "output_type": "stream",
          "name": "stdout",
          "text": [
            "Enter hours worked: 100\n",
            "Enter rate per hour: 8\n",
            "Total pay: $800.0\n"
          ]
        }
      ]
    },
    {
      "cell_type": "markdown",
      "source": [
        "16. Write a script that prompts the user to enter number of years. Calculate the number of seconds a person can live. Assume a person can live hundred years"
      ],
      "metadata": {
        "id": "a4W5qfdkWJfX"
      }
    },
    {
      "cell_type": "code",
      "source": [
        "years = int(input(\"Enter number of years: \"))\n",
        "seconds_per_minute = 60\n",
        "minutes_per_hour = 60\n",
        "hours_per_day = 24\n",
        "days_per_year = 365\n",
        "total_seconds = years * days_per_year * hours_per_day * minutes_per_hour * seconds_per_minute\n",
        "print(f\"In {years} years, there are {total_seconds} seconds\")\n",
        "\n",
        "if years <= 100:\n",
        "    remaining_years = 100 - years\n",
        "    remaining_seconds = remaining_years * days_per_year * hours_per_day * minutes_per_hour * seconds_per_minute\n",
        "    print(f\"If you can live 100 years, you have {remaining_seconds} seconds remaining\")"
      ],
      "metadata": {
        "id": "33M4ddJ0Xumx",
        "colab": {
          "base_uri": "https://localhost:8080/"
        },
        "outputId": "09f01241-26d3-4dbe-b670-ccdb571d7e03"
      },
      "execution_count": null,
      "outputs": [
        {
          "output_type": "stream",
          "name": "stdout",
          "text": [
            "Enter number of years: 100\n",
            "In 100 years, there are 3153600000 seconds\n",
            "If you can live 100 years, you have 0 seconds remaining\n"
          ]
        }
      ]
    }
  ]
}