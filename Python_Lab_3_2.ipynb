{
  "nbformat": 4,
  "nbformat_minor": 0,
  "metadata": {
    "colab": {
      "provenance": [],
      "authorship_tag": "ABX9TyOub4RA8KpxHy48GubW6oeu",
      "include_colab_link": true
    },
    "kernelspec": {
      "name": "python3",
      "display_name": "Python 3"
    },
    "language_info": {
      "name": "python"
    }
  },
  "cells": [
    {
      "cell_type": "markdown",
      "metadata": {
        "id": "view-in-github",
        "colab_type": "text"
      },
      "source": [
        "<a href=\"https://colab.research.google.com/github/code3ngon/Python_Lab/blob/main/Python_Lab_3_2.ipynb\" target=\"_parent\"><img src=\"https://colab.research.google.com/assets/colab-badge.svg\" alt=\"Open In Colab\"/></a>"
      ]
    },
    {
      "cell_type": "code",
      "source": [
        "import random"
      ],
      "metadata": {
        "id": "X0N-YbQtZGyg"
      },
      "execution_count": null,
      "outputs": []
    },
    {
      "cell_type": "markdown",
      "source": [
        "1. Write a program to check a person is eligible for voting or not (saccept age from user)"
      ],
      "metadata": {
        "id": "LODQ8mfVYmpX"
      }
    },
    {
      "cell_type": "code",
      "execution_count": null,
      "metadata": {
        "colab": {
          "base_uri": "https://localhost:8080/"
        },
        "id": "ltCkm1qvYhxv",
        "outputId": "86a180f1-9156-41ac-c0ee-8ee0c199f042"
      },
      "outputs": [
        {
          "output_type": "stream",
          "name": "stdout",
          "text": [
            "Enter your age: 10\n",
            "You are not eligible to vote yet.\n",
            "You need to wait 8 more years.\n"
          ]
        }
      ],
      "source": [
        "age = int(input(\"Enter your age: \"))\n",
        "if age >= 18:\n",
        "    print(\"You are eligible to vote!\")\n",
        "else:\n",
        "    print(\"You are not eligible to vote yet.\")\n",
        "    years_left = 18 - age\n",
        "    print(f\"You need to wait {years_left} more years.\")"
      ]
    },
    {
      "cell_type": "markdown",
      "source": [
        "2. Write a program to check whether a number entered by user is even or odd."
      ],
      "metadata": {
        "id": "rUVN_iymYsGW"
      }
    },
    {
      "cell_type": "code",
      "source": [
        "number = int(input(\"Enter a number: \"))\n",
        "if number % 2 == 0:\n",
        "    print(f\"{number} is an even number.\")\n",
        "else:\n",
        "    print(f\"{number} is an odd number.\")"
      ],
      "metadata": {
        "colab": {
          "base_uri": "https://localhost:8080/"
        },
        "id": "T-37ISbzYvKc",
        "outputId": "83ab7339-cc45-4df0-bd98-7946dc07adf5"
      },
      "execution_count": null,
      "outputs": [
        {
          "output_type": "stream",
          "name": "stdout",
          "text": [
            "Enter a number: 10\n",
            "10 is an even number.\n"
          ]
        }
      ]
    },
    {
      "cell_type": "markdown",
      "source": [
        "3. Write a program to check whether a number is divisible by 7 or not."
      ],
      "metadata": {
        "id": "Z4dnNO4XYvjU"
      }
    },
    {
      "cell_type": "code",
      "source": [
        "number = int(input(\"Enter a number: \"))\n",
        "if number % 7 == 0:\n",
        "    print(f\"{number} is divisible by 7.\")\n",
        "else:\n",
        "    print(f\"{number} is not divisible by 7.\")"
      ],
      "metadata": {
        "colab": {
          "base_uri": "https://localhost:8080/"
        },
        "id": "WH8JouTUYy2G",
        "outputId": "8e8ea26c-c166-40cd-f2f0-4cd3c7f8ee06"
      },
      "execution_count": null,
      "outputs": [
        {
          "output_type": "stream",
          "name": "stdout",
          "text": [
            "Enter a number: 14\n",
            "14 is divisible by 7.\n"
          ]
        }
      ]
    },
    {
      "cell_type": "markdown",
      "source": [
        "4. Write a program to check the last digit od a  number (entered by user) is divisible by 3 or not."
      ],
      "metadata": {
        "id": "XpoLKG6WYzeO"
      }
    },
    {
      "cell_type": "code",
      "source": [
        "number = int(input(\"Enter a number: \"))\n",
        "last_digit = number % 10\n",
        "if last_digit % 3 == 0:\n",
        "    print(f\"Last digit {last_digit} is divisible by 3.\")\n",
        "else:\n",
        "    print(f\"Last digit {last_digit} is not divisible by 3.\")"
      ],
      "metadata": {
        "colab": {
          "base_uri": "https://localhost:8080/"
        },
        "id": "tTkck4dUY2OG",
        "outputId": "5f0dfdd2-2414-4c05-b8c3-98731984cc47"
      },
      "execution_count": null,
      "outputs": [
        {
          "output_type": "stream",
          "name": "stdout",
          "text": [
            "Enter a number: 456\n",
            "Last digit 6 is divisible by 3.\n"
          ]
        }
      ]
    },
    {
      "cell_type": "markdown",
      "source": [
        "5. Write a Python program to guess a number between 1 and 9."
      ],
      "metadata": {
        "id": "uS_4UJoGY2pQ"
      }
    },
    {
      "cell_type": "code",
      "source": [
        "secret_number = random.randint(1, 9)\n",
        "guess = int(input(\"Guess a number between 1 and 9: \"))\n",
        "if guess == secret_number:\n",
        "    print(\"Congratulations! You guessed the correct number!\")\n",
        "else:\n",
        "    print(f\"Sorry! The correct number was {secret_number}\")\n",
        "    if guess < secret_number:\n",
        "        print(\"Your guess was too low.\")\n",
        "    else:\n",
        "        print(\"Your guess was too high.\")"
      ],
      "metadata": {
        "colab": {
          "base_uri": "https://localhost:8080/"
        },
        "id": "u0daGKabY5Ef",
        "outputId": "551b0576-87e9-4865-ae92-6832ea4622ab"
      },
      "execution_count": null,
      "outputs": [
        {
          "output_type": "stream",
          "name": "stdout",
          "text": [
            "Guess a number between 1 and 9: 5\n",
            "Sorry! The correct number was 4\n",
            "Your guess was too high.\n"
          ]
        }
      ]
    },
    {
      "cell_type": "markdown",
      "source": [
        "6. Write a program to accept a number from 1 to 7 and display the name of the day like 1 for Sunday, 2 for Monday and so on."
      ],
      "metadata": {
        "id": "HV2pT5t3Y5n4"
      }
    },
    {
      "cell_type": "code",
      "source": [
        "day_number = int(input(\"Enter a number (1-7): \"))\n",
        "if day_number == 1:\n",
        "    print(\"Sunday\")\n",
        "elif day_number == 2:\n",
        "    print(\"Monday\")\n",
        "elif day_number == 3:\n",
        "    print(\"Tuesday\")\n",
        "elif day_number == 4:\n",
        "    print(\"Wednesday\")\n",
        "elif day_number == 5:\n",
        "    print(\"Thursday\")\n",
        "elif day_number == 6:\n",
        "    print(\"Friday\")\n",
        "elif day_number == 7:\n",
        "    print(\"Saturday\")\n",
        "else:\n",
        "    print(\"Invalid input! Please enter a number between 1 and 7.\")"
      ],
      "metadata": {
        "colab": {
          "base_uri": "https://localhost:8080/"
        },
        "id": "htuMhMD2Y8wK",
        "outputId": "01de6110-459e-4b1c-ecb7-4773ae2f2a6a"
      },
      "execution_count": null,
      "outputs": [
        {
          "output_type": "stream",
          "name": "stdout",
          "text": [
            "Enter a number (1-7): 5\n",
            "Thursday\n"
          ]
        }
      ]
    }
  ]
}