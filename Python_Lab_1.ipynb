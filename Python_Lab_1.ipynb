{
  "nbformat": 4,
  "nbformat_minor": 0,
  "metadata": {
    "colab": {
      "provenance": [],
      "authorship_tag": "ABX9TyMU1flNlzChDFFEM5MVS9o0",
      "include_colab_link": true
    },
    "kernelspec": {
      "name": "python3",
      "display_name": "Python 3"
    },
    "language_info": {
      "name": "python"
    }
  },
  "cells": [
    {
      "cell_type": "markdown",
      "metadata": {
        "id": "view-in-github",
        "colab_type": "text"
      },
      "source": [
        "<a href=\"https://colab.research.google.com/github/code3ngon/Python_Lab_1/blob/main/Python_Lab_1.ipynb\" target=\"_parent\"><img src=\"https://colab.research.google.com/assets/colab-badge.svg\" alt=\"Open In Colab\"/></a>"
      ]
    },
    {
      "cell_type": "markdown",
      "source": [
        "1. Write a Python program to calculate the length of a string."
      ],
      "metadata": {
        "id": "RZcVJXg4tyeU"
      }
    },
    {
      "cell_type": "code",
      "execution_count": 16,
      "metadata": {
        "colab": {
          "base_uri": "https://localhost:8080/"
        },
        "id": "iFtSg0BftkY-",
        "outputId": "aaf7cb88-1d5e-44a4-b927-bfacf6d50e6c"
      },
      "outputs": [
        {
          "output_type": "stream",
          "name": "stdout",
          "text": [
            "Input a string: kkk\n",
            "Length of the string: 3\n"
          ]
        }
      ],
      "source": [
        "def length_of_string():\n",
        "  string = input(\"Input a string: \")\n",
        "  length = len(string)\n",
        "  print(\"Length of the string:\",length)\n",
        "length_of_string()"
      ]
    },
    {
      "cell_type": "markdown",
      "source": [
        "2. Write a Python program to count the number of characters (character frequency) in a string.\n",
        "\n",
        "  Sample String : 'google.com'\n",
        "\n",
        "  Expected Result : {'g': 2, 'o': 3, 'l': 1, 'e': 1, '.': 1, 'c': 1, 'm': 1}\n"
      ],
      "metadata": {
        "id": "clZaHijIt2Jc"
      }
    },
    {
      "cell_type": "code",
      "source": [
        "def char_frequency():\n",
        "  string = input(\"Input a string: \")\n",
        "  freq = {}\n",
        "  for char in string:\n",
        "    if char in freq:\n",
        "      freq[char] += 1\n",
        "    else:\n",
        "      freq[char] = 1\n",
        "  return freq\n",
        "char_frequency()"
      ],
      "metadata": {
        "colab": {
          "base_uri": "https://localhost:8080/"
        },
        "id": "DseGLBx4t3Dz",
        "outputId": "73356c36-0e1b-47f2-99ce-11b28cab8f7b"
      },
      "execution_count": 10,
      "outputs": [
        {
          "name": "stdout",
          "output_type": "stream",
          "text": [
            "Input a string: google.com\n"
          ]
        },
        {
          "output_type": "execute_result",
          "data": {
            "text/plain": [
              "{'g': 2, 'o': 3, 'l': 1, 'e': 1, '.': 1, 'c': 1, 'm': 1}"
            ]
          },
          "metadata": {},
          "execution_count": 10
        }
      ]
    },
    {
      "cell_type": "markdown",
      "source": [
        "3. Write a Python program to get a string made of the first 2 and last 2 characters of a given string. If the string length is less than 2, return the empty string instead.\n",
        "\n",
        "  Sample String : 'w3resource'\n",
        "\n",
        "  Expected Result : 'w3ce'\n",
        "\n",
        "  Sample String : 'w3'\n",
        "\n",
        "  Expected Result : 'w3w3'\n",
        "\n",
        "  Sample String : ' w'\n",
        "  \n",
        "  Expected Result : Empty String"
      ],
      "metadata": {
        "id": "Vwwc8GmvuCpa"
      }
    },
    {
      "cell_type": "code",
      "source": [
        "def get_string():\n",
        "  string = input(\"Input a string: \")\n",
        "  if len(string) < 2:\n",
        "    return \"Empty String\"\n",
        "  else:\n",
        "    return string[:2] + string[-2:]\n",
        "get_string()"
      ],
      "metadata": {
        "colab": {
          "base_uri": "https://localhost:8080/",
          "height": 53
        },
        "id": "deSlHOP1uLoC",
        "outputId": "aba2e04b-3d5a-4a72-aa1f-69e8678acb40"
      },
      "execution_count": 3,
      "outputs": [
        {
          "name": "stdout",
          "output_type": "stream",
          "text": [
            "Input a string: w\n"
          ]
        },
        {
          "output_type": "execute_result",
          "data": {
            "text/plain": [
              "'Empty String'"
            ],
            "application/vnd.google.colaboratory.intrinsic+json": {
              "type": "string"
            }
          },
          "metadata": {},
          "execution_count": 3
        }
      ]
    },
    {
      "cell_type": "markdown",
      "source": [
        "4. Write a Python program to get a string from a given string where all occurrences of its first char have been changed to '$', except the first char itself.\n",
        "\n",
        "  Sample String : 'restart'\n",
        "\n",
        "  Expected Result : 'resta$t'\n"
      ],
      "metadata": {
        "id": "VLHPpQHwvzWF"
      }
    },
    {
      "cell_type": "code",
      "source": [
        "def change_char():\n",
        "  string = input(\"Input a string: \")\n",
        "  first_char = string[0]\n",
        "  new_string = first_char + string[1:].replace(first_char, '$')\n",
        "  return new_string\n",
        "change_char()"
      ],
      "metadata": {
        "id": "4cEBvVegv14R",
        "colab": {
          "base_uri": "https://localhost:8080/",
          "height": 53
        },
        "outputId": "73ec8db0-15f4-4411-fd22-8518cc0fe2c2"
      },
      "execution_count": 9,
      "outputs": [
        {
          "name": "stdout",
          "output_type": "stream",
          "text": [
            "Input a string: restart\n"
          ]
        },
        {
          "output_type": "execute_result",
          "data": {
            "text/plain": [
              "'resta$t'"
            ],
            "application/vnd.google.colaboratory.intrinsic+json": {
              "type": "string"
            }
          },
          "metadata": {},
          "execution_count": 9
        }
      ]
    },
    {
      "cell_type": "markdown",
      "source": [
        "5. Write a Python program to get a single string from two given strings, separated by a space and swap the first two characters of each string.\n",
        "\n",
        "  Sample String : 'abc', 'xyz'\n",
        "\n",
        "  Expected Result : 'xyc abz'\n"
      ],
      "metadata": {
        "id": "w7BB4qyLw8DQ"
      }
    },
    {
      "cell_type": "code",
      "source": [
        "def swap_string():\n",
        "  string_1 = input(\"Input string 1: \")\n",
        "  string_2 = input(\"Input string 2: \")\n",
        "  new_string = string_2[:2] + string_1[-1:] + \" \" + string_1[:2] + string_2[-1:]\n",
        "  return new_string\n",
        "swap_string()"
      ],
      "metadata": {
        "id": "WX4S5sm1xDMY",
        "colab": {
          "base_uri": "https://localhost:8080/",
          "height": 70
        },
        "outputId": "ca023bc8-cd71-49cb-9338-0c205e29d479"
      },
      "execution_count": 15,
      "outputs": [
        {
          "name": "stdout",
          "output_type": "stream",
          "text": [
            "Input string 1: abc\n",
            "Input string 2: xyz\n"
          ]
        },
        {
          "output_type": "execute_result",
          "data": {
            "text/plain": [
              "'xyc abz'"
            ],
            "application/vnd.google.colaboratory.intrinsic+json": {
              "type": "string"
            }
          },
          "metadata": {},
          "execution_count": 15
        }
      ]
    },
    {
      "cell_type": "markdown",
      "source": [
        "6. Write a Python program to add 'ing' at the end of a given string (length should be at least 3). If the given string already ends with 'ing', add 'ly'instead. If the string length of the given string is less than 3, leave it unchanged.\n",
        "\n",
        "  Sample String : 'abc'\n",
        "\n",
        "  Expected Result : 'abcing'\n",
        "\n",
        "  Sample String : 'string'\n",
        "  \n",
        "  Expected Result : 'stringly'"
      ],
      "metadata": {
        "id": "YC3xnxwaxEnY"
      }
    },
    {
      "cell_type": "code",
      "source": [
        "def add_string():\n",
        "  string = input(\"Input a string: \")\n",
        "  if len(string) < 3:\n",
        "    return string\n",
        "  elif string[-3:] == 'ing':\n",
        "    return string + 'ly'\n",
        "  else:\n",
        "    return string + 'ing'\n",
        "add_string()"
      ],
      "metadata": {
        "id": "BMa-uW0GxYLZ",
        "colab": {
          "base_uri": "https://localhost:8080/",
          "height": 53
        },
        "outputId": "3e283f05-94cf-4e36-936a-b8cfdb494f73"
      },
      "execution_count": 19,
      "outputs": [
        {
          "name": "stdout",
          "output_type": "stream",
          "text": [
            "Input a string: hi\n"
          ]
        },
        {
          "output_type": "execute_result",
          "data": {
            "text/plain": [
              "'hi'"
            ],
            "application/vnd.google.colaboratory.intrinsic+json": {
              "type": "string"
            }
          },
          "metadata": {},
          "execution_count": 19
        }
      ]
    },
    {
      "cell_type": "markdown",
      "source": [
        "7. Write a Python program to find the first appearance of the substrings 'not' and 'poor' in a given string. If 'not' follows 'poor', replace the whole 'not'...'poor' substring with 'good'. Return the resulting string.\n",
        "\n",
        "  Sample String : 'The lyrics is not that poor!'\n",
        "\n",
        "  'The lyrics is poor!'\n",
        "\n",
        "  Expected Result : 'The lyrics is good!'\n",
        "  \n",
        "  'The lyrics is poor!'"
      ],
      "metadata": {
        "id": "_2fa5kRxxZ3P"
      }
    },
    {
      "cell_type": "code",
      "source": [],
      "metadata": {
        "id": "58Ve7G6Qxorn"
      },
      "execution_count": null,
      "outputs": []
    },
    {
      "cell_type": "markdown",
      "source": [
        "8. Write a Python function that takes a list of words and return the longest word and the length of the longest one.\n",
        "\n",
        "  Sample Output:\n",
        "\n",
        "  Longest word: Exercises\n",
        "  \n",
        "  Length of the longest word: 9"
      ],
      "metadata": {
        "id": "gs_0kOrtxquW"
      }
    },
    {
      "cell_type": "code",
      "source": [],
      "metadata": {
        "id": "YmfrW2okxw-W"
      },
      "execution_count": null,
      "outputs": []
    },
    {
      "cell_type": "markdown",
      "source": [
        "9. Write a Python program to remove the nth index character from a nonempty string.\n"
      ],
      "metadata": {
        "id": "ikPao3oT7OFD"
      }
    },
    {
      "cell_type": "code",
      "source": [],
      "metadata": {
        "id": "aSNVOEPH7QX7"
      },
      "execution_count": null,
      "outputs": []
    },
    {
      "cell_type": "markdown",
      "source": [
        "10. Write a Python program to change a given string to a newly string where the first and last chars have been exchanged."
      ],
      "metadata": {
        "id": "x7iAhH4N7Tnr"
      }
    },
    {
      "cell_type": "code",
      "source": [],
      "metadata": {
        "id": "Gy-bpZ5O7Wdb"
      },
      "execution_count": null,
      "outputs": []
    },
    {
      "cell_type": "markdown",
      "source": [
        "11. Write a Python program to remove characters that have odd index values in a given string."
      ],
      "metadata": {
        "id": "mhScpgou7XZs"
      }
    },
    {
      "cell_type": "code",
      "source": [],
      "metadata": {
        "id": "TGd_fqeW7aPa"
      },
      "execution_count": null,
      "outputs": []
    },
    {
      "cell_type": "markdown",
      "source": [
        "12. Write a Python program to count the occurrences of each word in a given sentence."
      ],
      "metadata": {
        "id": "g9q3npcK7axL"
      }
    },
    {
      "cell_type": "code",
      "source": [],
      "metadata": {
        "id": "yxr0iVrd7dc7"
      },
      "execution_count": null,
      "outputs": []
    },
    {
      "cell_type": "markdown",
      "source": [
        "13. Write a Python script that takes input from the user and displays that input back in upper and lower cases."
      ],
      "metadata": {
        "id": "87fsxpSn7d47"
      }
    },
    {
      "cell_type": "code",
      "source": [],
      "metadata": {
        "id": "gWB1EeKC7gJa"
      },
      "execution_count": null,
      "outputs": []
    },
    {
      "cell_type": "markdown",
      "source": [
        "14. Write a Python program that accepts a comma-separated sequence of words as input and prints the distinct words in sorted form (alphanumerically).\n",
        "\n",
        "  Sample Words : red, white, black, red, green, black\n",
        "\n",
        "  Expected Result : black, green, red, white, red"
      ],
      "metadata": {
        "id": "mYwt1ZHi7hA6"
      }
    },
    {
      "cell_type": "code",
      "source": [],
      "metadata": {
        "id": "rNVjJ2Fm7qFq"
      },
      "execution_count": null,
      "outputs": []
    },
    {
      "cell_type": "markdown",
      "source": [
        "15. Write a Python function to create an HTML string with tags around the word(s).\n",
        "\n",
        "  Sample function and result :\n",
        "```\n",
        "  add_tags('i', 'Python') -> '<i>Python</i>'\n",
        "\n",
        "  add_tags('b', 'Python Tutorial') -> '<b>Python Tutorial </b>'\n",
        "```"
      ],
      "metadata": {
        "id": "ACnA2IJp7uQh"
      }
    },
    {
      "cell_type": "code",
      "source": [],
      "metadata": {
        "id": "V7aQFO1r7x0J"
      },
      "execution_count": null,
      "outputs": []
    },
    {
      "cell_type": "markdown",
      "source": [
        "16. Write a Python function to insert a string in the middle of a string.\n",
        "  Sample function and result :\n",
        "```\n",
        "  insert_sting_middle('[[]]<<>>', ' Python') -> [[Python]]\n",
        "  insert_sting_middle('{{}}', 'PHP') -> {{PHP}}\n",
        "```"
      ],
      "metadata": {
        "id": "B9PQheoM8ZpS"
      }
    },
    {
      "cell_type": "code",
      "source": [],
      "metadata": {
        "id": "G8dDU5LB8lop"
      },
      "execution_count": null,
      "outputs": []
    },
    {
      "cell_type": "markdown",
      "source": [
        "17. Write a Python function to get a string made of 4 copies of the last two characters of a specified string (length must be at least 2).\n",
        "\n",
        "  Sample function and result :\n",
        "```\n",
        "  insert_end('Python') -> onononon\n",
        "  insert_end('Exercises') -> eseseses\n",
        "```"
      ],
      "metadata": {
        "id": "2qsfZiXv8nD5"
      }
    },
    {
      "cell_type": "code",
      "source": [],
      "metadata": {
        "id": "ds3laqie82bI"
      },
      "execution_count": null,
      "outputs": []
    },
    {
      "cell_type": "markdown",
      "source": [
        "18. Write a Python function to get a string made of the first three characters of a specified string. If the length of the string is less than 3, return the original string.\n",
        "\n",
        "  Sample function and result:\n",
        "```\n",
        "  first_three('ipy') -> ipy\n",
        "  first_three(' python') -> pyt\n",
        "```"
      ],
      "metadata": {
        "id": "TTuSYOC489bo"
      }
    },
    {
      "cell_type": "code",
      "source": [],
      "metadata": {
        "id": "Og8D25o19IMY"
      },
      "execution_count": null,
      "outputs": []
    },
    {
      "cell_type": "markdown",
      "source": [
        "19. Write a Python program to get the last part of a string before a specified character.\n",
        "```\n",
        "https://www.w3resource.com/python-exercises\n",
        "https://www.w3resource.com/python\n"
      ],
      "metadata": {
        "id": "8FvgcwrE9Uao"
      }
    },
    {
      "cell_type": "code",
      "source": [],
      "metadata": {
        "id": "0Bjfj0279rj5"
      },
      "execution_count": null,
      "outputs": []
    },
    {
      "cell_type": "markdown",
      "source": [
        "20. Write a Python function to reverse a string if its length is a multiple of 4."
      ],
      "metadata": {
        "id": "Bwpvh7959t8A"
      }
    },
    {
      "cell_type": "code",
      "source": [],
      "metadata": {
        "id": "YrE-RoV09xBH"
      },
      "execution_count": null,
      "outputs": []
    },
    {
      "cell_type": "markdown",
      "source": [
        "21. Write a Python function to convert a given string to all uppercase if it contains at least 2 uppercase characters in the first 4 characters."
      ],
      "metadata": {
        "id": "29I8PEPHn21m"
      }
    },
    {
      "cell_type": "code",
      "source": [],
      "metadata": {
        "id": "me0JsFF5sII3"
      },
      "execution_count": null,
      "outputs": []
    },
    {
      "cell_type": "markdown",
      "source": [
        "22. Write a Python program to sort a string lexicographically.\n"
      ],
      "metadata": {
        "id": "8UAJshWzsL-d"
      }
    },
    {
      "cell_type": "code",
      "source": [
        "\n"
      ],
      "metadata": {
        "id": "q-JXPxcCsOBy"
      },
      "execution_count": null,
      "outputs": []
    },
    {
      "cell_type": "markdown",
      "source": [
        "23. Write a Python program to remove a newline in Python."
      ],
      "metadata": {
        "id": "t6irV4sf4oUu"
      }
    },
    {
      "cell_type": "code",
      "source": [],
      "metadata": {
        "id": "LV9RWRuU4rUl"
      },
      "execution_count": null,
      "outputs": []
    },
    {
      "cell_type": "markdown",
      "source": [
        "24. Write a Python program to check whether a string starts with specified characters."
      ],
      "metadata": {
        "id": "C2kGizHZ4r1l"
      }
    },
    {
      "cell_type": "code",
      "source": [],
      "metadata": {
        "id": "vVYLCMam4ujh"
      },
      "execution_count": null,
      "outputs": []
    },
    {
      "cell_type": "markdown",
      "source": [
        "25. Write a Python program to create a Caesar encryption.\n",
        "\n",
        "Note : In cryptography, a Caesar cipher, also known as Caesar's cipher, the shift cipher, Caesar's code or Caesar shift, is one of the simplest and most widely known encryption techniques. It is a type of substitution cipher in which each letter in the plaintext is replaced by a letter some fixed number of positions down the alphabet. For example, with a left shift of 3, D would be replaced by A, E would become B, and so on. The method is named after Julius Caesar, who used it in his private correspondence.\n"
      ],
      "metadata": {
        "id": "hRSXa4xW4wCV"
      }
    },
    {
      "cell_type": "code",
      "source": [],
      "metadata": {
        "id": "lO7lY4hO473Y"
      },
      "execution_count": null,
      "outputs": []
    },
    {
      "cell_type": "markdown",
      "source": [
        "26. Write a Python program to display formatted text (width=50) as output."
      ],
      "metadata": {
        "id": "d06FaaO15C2b"
      }
    },
    {
      "cell_type": "code",
      "source": [],
      "metadata": {
        "id": "_B2x7UVL5DxT"
      },
      "execution_count": null,
      "outputs": []
    },
    {
      "cell_type": "markdown",
      "source": [
        "27. Write a Python program to remove existing indentation from all of the lines in a given text."
      ],
      "metadata": {
        "id": "-v5SSNvh5FbO"
      }
    },
    {
      "cell_type": "code",
      "source": [],
      "metadata": {
        "id": "NL5IkQT25Lkp"
      },
      "execution_count": null,
      "outputs": []
    },
    {
      "cell_type": "markdown",
      "source": [
        "28. Write a Python program to add prefix text to all of the lines in a string."
      ],
      "metadata": {
        "id": "zC_7B2j95MAO"
      }
    },
    {
      "cell_type": "code",
      "source": [],
      "metadata": {
        "id": "qn2it-pJ5OYc"
      },
      "execution_count": null,
      "outputs": []
    },
    {
      "cell_type": "markdown",
      "source": [
        "29. Write a Python program to set the indentation of the first line.\n"
      ],
      "metadata": {
        "id": "86YwRWKp5O7x"
      }
    },
    {
      "cell_type": "code",
      "source": [],
      "metadata": {
        "id": "ouXrMpmB5SWY"
      },
      "execution_count": null,
      "outputs": []
    },
    {
      "cell_type": "markdown",
      "source": [
        "30. Write a Python program to print the following numbers up to 2 decimal places."
      ],
      "metadata": {
        "id": "QznE43bx5U5i"
      }
    },
    {
      "cell_type": "code",
      "source": [],
      "metadata": {
        "id": "1LAGp3_95VmG"
      },
      "execution_count": null,
      "outputs": []
    },
    {
      "cell_type": "markdown",
      "source": [
        "31. Write a Python program to print the following numbers up to 2 decimal places with a sign."
      ],
      "metadata": {
        "id": "OykH2_035WBn"
      }
    },
    {
      "cell_type": "code",
      "source": [],
      "metadata": {
        "id": "qAs_O1Po5YwN"
      },
      "execution_count": null,
      "outputs": []
    },
    {
      "cell_type": "markdown",
      "source": [
        "32. Write a Python program to print the following positive and negative numbers with no decimal places."
      ],
      "metadata": {
        "id": "pBhnnOmm5ZJn"
      }
    },
    {
      "cell_type": "code",
      "source": [],
      "metadata": {
        "id": "aIygRW175j_V"
      },
      "execution_count": null,
      "outputs": []
    },
    {
      "cell_type": "markdown",
      "source": [
        "33. Write a Python program to print the following integers with zeros to the left of the specified width.\n"
      ],
      "metadata": {
        "id": "zhlxSc2I5kYA"
      }
    },
    {
      "cell_type": "code",
      "source": [],
      "metadata": {
        "id": "-oJK-fSG5nlZ"
      },
      "execution_count": null,
      "outputs": []
    },
    {
      "cell_type": "markdown",
      "source": [
        "34. Write a Python program to print the following integers with '*' to the right of the specified width."
      ],
      "metadata": {
        "id": "27DMZuss5oMg"
      }
    },
    {
      "cell_type": "code",
      "source": [],
      "metadata": {
        "id": "uu3JggkQ5tLx"
      },
      "execution_count": null,
      "outputs": []
    },
    {
      "cell_type": "markdown",
      "source": [
        "35. Write a Python program to display a number with a comma separator."
      ],
      "metadata": {
        "id": "9Qcl5P9R5uBJ"
      }
    },
    {
      "cell_type": "code",
      "source": [],
      "metadata": {
        "id": "V8CIobov5xXP"
      },
      "execution_count": null,
      "outputs": []
    },
    {
      "cell_type": "markdown",
      "source": [
        "36. Write a Python program to format a number with a percentage."
      ],
      "metadata": {
        "id": "dY0OEU0i5yH4"
      }
    },
    {
      "cell_type": "code",
      "source": [],
      "metadata": {
        "id": "ZyYzi1eP50GF"
      },
      "execution_count": null,
      "outputs": []
    },
    {
      "cell_type": "markdown",
      "source": [
        "37. Write a Python program to display a number in left, right, and center aligned with a width of 10.\n"
      ],
      "metadata": {
        "id": "cou94VFQ50n7"
      }
    },
    {
      "cell_type": "code",
      "source": [],
      "metadata": {
        "id": "1-7mpR3Q53-A"
      },
      "execution_count": null,
      "outputs": []
    },
    {
      "cell_type": "markdown",
      "source": [
        "38. Write a Python program to count occurrences of a substring in a string."
      ],
      "metadata": {
        "id": "wEEnsnj_6Gvh"
      }
    },
    {
      "cell_type": "code",
      "source": [],
      "metadata": {
        "id": "FUlZyk5Z6Kfr"
      },
      "execution_count": null,
      "outputs": []
    },
    {
      "cell_type": "markdown",
      "source": [
        "39. Write a Python program to reverse a string.\n"
      ],
      "metadata": {
        "id": "mJ4xvL-E55K9"
      }
    },
    {
      "cell_type": "code",
      "source": [],
      "metadata": {
        "id": "uppnuzRh6GR6"
      },
      "execution_count": null,
      "outputs": []
    },
    {
      "cell_type": "markdown",
      "source": [
        "40. Write a Python program to reverse words in a string."
      ],
      "metadata": {
        "id": "8I_tt7qc6LcS"
      }
    },
    {
      "cell_type": "code",
      "source": [],
      "metadata": {
        "id": "Jehuhsaw6NuE"
      },
      "execution_count": null,
      "outputs": []
    },
    {
      "cell_type": "markdown",
      "source": [
        "41. Write a Python program to strip a set of characters from a string.\n"
      ],
      "metadata": {
        "id": "6-eeNIVO6OO6"
      }
    },
    {
      "cell_type": "code",
      "source": [],
      "metadata": {
        "id": "Jctsf5hP6Q-8"
      },
      "execution_count": null,
      "outputs": []
    },
    {
      "cell_type": "markdown",
      "source": [
        "42. Write a Python program to count repeated characters in a string.\n",
        "\n",
        "Sample string: 'thequickbrownfoxjumpsoverthelazydog'\n",
        "\n",
        "Expected output :\n",
        "\n",
        "o 4\n",
        "\n",
        "e 3\n",
        "\n",
        "u 2\n",
        "\n",
        "h 2\n",
        "\n",
        "r 2\n",
        "\n",
        "t 2"
      ],
      "metadata": {
        "id": "Ivor3K_O6Rjf"
      }
    },
    {
      "cell_type": "code",
      "source": [],
      "metadata": {
        "id": "5NU1Hn1U6dPG"
      },
      "execution_count": null,
      "outputs": []
    },
    {
      "cell_type": "markdown",
      "source": [
        "43. Write a Python program to print the square and cube symbols in the area of a rectangle and the volume of a cylinder.\n",
        "\n",
        "Sample output:\n",
        "\n",
        "The area of the rectangle is 1256.66cm2\n",
        "\n",
        "The volume of the cylinder is 1254.725cm3\n"
      ],
      "metadata": {
        "id": "iQNHpZXj6uG6"
      }
    },
    {
      "cell_type": "code",
      "source": [],
      "metadata": {
        "id": "PFRq-lMj6xra"
      },
      "execution_count": null,
      "outputs": []
    },
    {
      "cell_type": "markdown",
      "source": [
        "44. Write a Python program to print the index of a character in a string.\n",
        "\n",
        "Sample string: w3resource\n",
        "\n",
        "Expected output:\n",
        "\n",
        "Current character w position at 0\n",
        "\n",
        "Current character 3 position at 1\n",
        "\n",
        "Current character r position at 2\n",
        "\n",
        "...\n",
        "\n",
        "Current character c position at 8\n",
        "\n",
        "Current character e position at 9"
      ],
      "metadata": {
        "id": "asHIHJp561n8"
      }
    },
    {
      "cell_type": "code",
      "source": [],
      "metadata": {
        "id": "5BVOT8Mc7OgX"
      },
      "execution_count": null,
      "outputs": []
    },
    {
      "cell_type": "markdown",
      "source": [
        "45. Write a Python program to check whether a string contains all letters of the alphabet.\n"
      ],
      "metadata": {
        "id": "ZaGlZ7K97PAh"
      }
    },
    {
      "cell_type": "code",
      "source": [],
      "metadata": {
        "id": "ypctJYmT7Q8k"
      },
      "execution_count": null,
      "outputs": []
    },
    {
      "cell_type": "markdown",
      "source": [
        "46. Write a Python program to convert a given string into a list of words.\n",
        "\n",
        "Sample Output:\n",
        "\n",
        "['The', 'quick', 'brown', 'fox', 'jumps', 'over', 'the', 'lazy', 'dog.']\n",
        "\n",
        "['The', 'quick', 'brown', 'fox', 'jumps', 'over', 'the', 'lazy', 'dog.']"
      ],
      "metadata": {
        "id": "-FFljFFV7RgM"
      }
    },
    {
      "cell_type": "code",
      "source": [],
      "metadata": {
        "id": "EfPg3H_R7WVE"
      },
      "execution_count": null,
      "outputs": []
    },
    {
      "cell_type": "markdown",
      "source": [
        "47. Write a Python program to lowercase the first n characters in a string.\n"
      ],
      "metadata": {
        "id": "suoJ8NC47YQl"
      }
    },
    {
      "cell_type": "code",
      "source": [],
      "metadata": {
        "id": "Od7vC6jn7av0"
      },
      "execution_count": null,
      "outputs": []
    },
    {
      "cell_type": "markdown",
      "source": [
        "48. Write a Python program to swap commas and dots in a string.\n",
        "\n",
        "Sample string: \"32.054,23\"\n",
        "\n",
        "Expected Output: \"32,054.23\""
      ],
      "metadata": {
        "id": "EQoflcGi7bK4"
      }
    },
    {
      "cell_type": "code",
      "source": [],
      "metadata": {
        "id": "N5NN5yLb7eQK"
      },
      "execution_count": null,
      "outputs": []
    },
    {
      "cell_type": "markdown",
      "source": [
        "49. Write a Python program to count and display vowels in text.\n"
      ],
      "metadata": {
        "id": "OcwtjXrQ7epz"
      }
    },
    {
      "cell_type": "code",
      "source": [],
      "metadata": {
        "id": "12uoiTyD7hPT"
      },
      "execution_count": null,
      "outputs": []
    },
    {
      "cell_type": "markdown",
      "source": [
        "50. Write a Python program to split a string on the last occurrence of the delimiter."
      ],
      "metadata": {
        "id": "uB8hhfw77hs6"
      }
    },
    {
      "cell_type": "code",
      "source": [],
      "metadata": {
        "id": "lp2tvHLe7kwQ"
      },
      "execution_count": null,
      "outputs": []
    }
  ]
}