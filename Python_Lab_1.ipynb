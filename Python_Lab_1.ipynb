{
  "nbformat": 4,
  "nbformat_minor": 0,
  "metadata": {
    "colab": {
      "provenance": [],
      "authorship_tag": "ABX9TyNHKzZvos+nTqA/7tjIDNgz",
      "include_colab_link": true
    },
    "kernelspec": {
      "name": "python3",
      "display_name": "Python 3"
    },
    "language_info": {
      "name": "python"
    }
  },
  "cells": [
    {
      "cell_type": "markdown",
      "metadata": {
        "id": "view-in-github",
        "colab_type": "text"
      },
      "source": [
        "<a href=\"https://colab.research.google.com/github/code3ngon/Python_Lab_1/blob/main/Python_Lab_1.ipynb\" target=\"_parent\"><img src=\"https://colab.research.google.com/assets/colab-badge.svg\" alt=\"Open In Colab\"/></a>"
      ]
    },
    {
      "cell_type": "markdown",
      "source": [
        "1. Write a Python program to calculate the length of a string."
      ],
      "metadata": {
        "id": "RZcVJXg4tyeU"
      }
    },
    {
      "cell_type": "code",
      "execution_count": null,
      "metadata": {
        "colab": {
          "base_uri": "https://localhost:8080/"
        },
        "id": "iFtSg0BftkY-",
        "outputId": "c8f41c3d-263f-4d40-bbf7-a0719d0323b1"
      },
      "outputs": [
        {
          "output_type": "stream",
          "name": "stdout",
          "text": [
            "Nhap chuoi: hihi\n",
            "4\n"
          ]
        }
      ],
      "source": [
        "chuoi = input(\"Nhap chuoi: \")\n",
        "print(len(chuoi))"
      ]
    },
    {
      "cell_type": "markdown",
      "source": [
        "2. Write a Python program to count the number of characters (character frequency) in a string.\n",
        "\n",
        "  Sample String : google.com'\n",
        "\n",
        "  Expected Result : {'g': 2, 'o': 3, 'l': 1, 'e': 1, '.': 1, 'c': 1, 'm': 1}\n"
      ],
      "metadata": {
        "id": "clZaHijIt2Jc"
      }
    },
    {
      "cell_type": "code",
      "source": [
        "char = \"google.com\"\n",
        "dict = {}\n",
        "for i in char:\n",
        "    if i in dict:\n",
        "        dict[i] += 1\n",
        "    else:\n",
        "        dict[i] = 1\n",
        "print(dict)"
      ],
      "metadata": {
        "colab": {
          "base_uri": "https://localhost:8080/"
        },
        "id": "DseGLBx4t3Dz",
        "outputId": "e58fcde3-0658-4eb1-c140-52c8983d9c3d"
      },
      "execution_count": null,
      "outputs": [
        {
          "output_type": "stream",
          "name": "stdout",
          "text": [
            "{'g': 2, 'o': 3, 'l': 1, 'e': 1, '.': 1, 'c': 1, 'm': 1}\n"
          ]
        }
      ]
    },
    {
      "cell_type": "markdown",
      "source": [
        "3. Write a Python program to get a string made of the first 2 and last 2 characters of a given string. If the string length is less than 2, return the empty string instead.\n",
        "\n",
        "  Sample String : 'w3resource'\n",
        "\n",
        "  Expected Result : 'w3ce'\n",
        "\n",
        "  Sample String : 'w3'\n",
        "\n",
        "  Expected Result : 'w3w3'\n",
        "\n",
        "  Sample String : ' w'\n",
        "  \n",
        "  Expected Result : Empty String"
      ],
      "metadata": {
        "id": "Vwwc8GmvuCpa"
      }
    },
    {
      "cell_type": "code",
      "source": [
        "sample_string = input(\"Nhap chuoi: \")\n",
        "if len(sample_string) < 2:\n",
        "    print(\"Empty String\")\n",
        "else:\n",
        "    print(sample_string[:2] + sample_string[-2:])"
      ],
      "metadata": {
        "colab": {
          "base_uri": "https://localhost:8080/"
        },
        "id": "deSlHOP1uLoC",
        "outputId": "13f1ddb2-e75f-4d3a-877d-fb566629d2cd"
      },
      "execution_count": null,
      "outputs": [
        {
          "output_type": "stream",
          "name": "stdout",
          "text": [
            "Nhap chuoi: w3resource\n",
            "w3ce\n"
          ]
        }
      ]
    },
    {
      "cell_type": "markdown",
      "source": [
        "4. Write a Python program to get a string from a given string where all occurrences of its first char have been changed to '$', except the first char itself.\n",
        "\n",
        "  Sample String : 'restart'\n",
        "\n",
        "  Expected Result : 'resta$t'\n"
      ],
      "metadata": {
        "id": "VLHPpQHwvzWF"
      }
    },
    {
      "cell_type": "code",
      "source": [],
      "metadata": {
        "id": "4cEBvVegv14R"
      },
      "execution_count": null,
      "outputs": []
    },
    {
      "cell_type": "markdown",
      "source": [
        "5. Write a Python program to get a single string from two given strings, separated by a space and swap the first two characters of each string.\n",
        "\n",
        "  Sample String : 'abc', 'xyz'\n",
        "\n",
        "  Expected Result : 'xyc abz'\n"
      ],
      "metadata": {
        "id": "w7BB4qyLw8DQ"
      }
    },
    {
      "cell_type": "code",
      "source": [],
      "metadata": {
        "id": "WX4S5sm1xDMY"
      },
      "execution_count": null,
      "outputs": []
    },
    {
      "cell_type": "markdown",
      "source": [
        "6. Write a Python program to add 'ing' at the end of a given string (length should be at least 3). If the given string already ends with 'ing', add 'ly'instead. If the string length of the given string is less than 3, leave it unchanged.\n",
        "\n",
        "  Sample String : 'abc'\n",
        "\n",
        "  Expected Result : 'abcing'\n",
        "\n",
        "  Sample String : 'string'\n",
        "  \n",
        "  Expected Result : 'stringly'"
      ],
      "metadata": {
        "id": "YC3xnxwaxEnY"
      }
    },
    {
      "cell_type": "code",
      "source": [],
      "metadata": {
        "id": "BMa-uW0GxYLZ"
      },
      "execution_count": null,
      "outputs": []
    },
    {
      "cell_type": "markdown",
      "source": [
        "7. Write a Python program to find the first appearance of the substrings 'not' and 'poor' in a given string. If 'not' follows 'poor', replace the whole 'not'...'poor' substring with 'good'. Return the resulting string.\n",
        "\n",
        "  Sample String : 'The lyrics is not that poor!'\n",
        "\n",
        "  'The lyrics is poor!'\n",
        "\n",
        "  Expected Result : 'The lyrics is good!'\n",
        "  \n",
        "  'The lyrics is poor!'"
      ],
      "metadata": {
        "id": "_2fa5kRxxZ3P"
      }
    },
    {
      "cell_type": "code",
      "source": [],
      "metadata": {
        "id": "58Ve7G6Qxorn"
      },
      "execution_count": null,
      "outputs": []
    },
    {
      "cell_type": "markdown",
      "source": [
        "8. Write a Python function that takes a list of words and return the longest word and the length of the longest one.\n",
        "\n",
        "  Sample Output:\n",
        "\n",
        "  Longest word: Exercises\n",
        "  \n",
        "  Length of the longest word: 9"
      ],
      "metadata": {
        "id": "gs_0kOrtxquW"
      }
    },
    {
      "cell_type": "code",
      "source": [],
      "metadata": {
        "id": "YmfrW2okxw-W"
      },
      "execution_count": null,
      "outputs": []
    },
    {
      "cell_type": "markdown",
      "source": [
        "9. Write a Python program to remove the nth index character from a nonempty string.\n"
      ],
      "metadata": {
        "id": "ikPao3oT7OFD"
      }
    },
    {
      "cell_type": "code",
      "source": [],
      "metadata": {
        "id": "aSNVOEPH7QX7"
      },
      "execution_count": null,
      "outputs": []
    },
    {
      "cell_type": "markdown",
      "source": [
        "10. Write a Python program to change a given string to a newly string where the first and last chars have been exchanged."
      ],
      "metadata": {
        "id": "x7iAhH4N7Tnr"
      }
    },
    {
      "cell_type": "code",
      "source": [],
      "metadata": {
        "id": "Gy-bpZ5O7Wdb"
      },
      "execution_count": null,
      "outputs": []
    },
    {
      "cell_type": "markdown",
      "source": [
        "11. Write a Python program to remove characters that have odd index values in a given string."
      ],
      "metadata": {
        "id": "mhScpgou7XZs"
      }
    },
    {
      "cell_type": "code",
      "source": [],
      "metadata": {
        "id": "TGd_fqeW7aPa"
      },
      "execution_count": null,
      "outputs": []
    },
    {
      "cell_type": "markdown",
      "source": [
        "12. Write a Python program to count the occurrences of each word in a given sentence."
      ],
      "metadata": {
        "id": "g9q3npcK7axL"
      }
    },
    {
      "cell_type": "code",
      "source": [],
      "metadata": {
        "id": "yxr0iVrd7dc7"
      },
      "execution_count": null,
      "outputs": []
    },
    {
      "cell_type": "markdown",
      "source": [
        "13. Write a Python script that takes input from the user and displays that input back in upper and lower cases."
      ],
      "metadata": {
        "id": "87fsxpSn7d47"
      }
    },
    {
      "cell_type": "code",
      "source": [],
      "metadata": {
        "id": "gWB1EeKC7gJa"
      },
      "execution_count": null,
      "outputs": []
    },
    {
      "cell_type": "markdown",
      "source": [
        "14. Write a Python program that accepts a comma-separated sequence of words as input and prints the distinct words in sorted form (alphanumerically).\n",
        "\n",
        "  Sample Words : red, white, black, red, green, black\n",
        "\n",
        "  Expected Result : black, green, red, white, red"
      ],
      "metadata": {
        "id": "mYwt1ZHi7hA6"
      }
    },
    {
      "cell_type": "code",
      "source": [],
      "metadata": {
        "id": "rNVjJ2Fm7qFq"
      },
      "execution_count": null,
      "outputs": []
    },
    {
      "cell_type": "markdown",
      "source": [
        "15. Write a Python function to create an HTML string with tags around the word(s).\n",
        "\n",
        "  Sample function and result :\n",
        "```\n",
        "  add_tags('i', 'Python') -> '<i>Python</i>'\n",
        "\n",
        "  add_tags('b', 'Python Tutorial') -> '<b>Python Tutorial </b>'\n",
        "```"
      ],
      "metadata": {
        "id": "ACnA2IJp7uQh"
      }
    },
    {
      "cell_type": "code",
      "source": [],
      "metadata": {
        "id": "V7aQFO1r7x0J"
      },
      "execution_count": null,
      "outputs": []
    },
    {
      "cell_type": "markdown",
      "source": [
        "16. Write a Python function to insert a string in the middle of a string.\n",
        "  Sample function and result :\n",
        "```\n",
        "  insert_sting_middle('[[]]<<>>', ' Python') -> [[Python]]\n",
        "  insert_sting_middle('{{}}', 'PHP') -> {{PHP}}\n",
        "```"
      ],
      "metadata": {
        "id": "B9PQheoM8ZpS"
      }
    },
    {
      "cell_type": "code",
      "source": [],
      "metadata": {
        "id": "G8dDU5LB8lop"
      },
      "execution_count": null,
      "outputs": []
    },
    {
      "cell_type": "markdown",
      "source": [
        "17. Write a Python function to get a string made of 4 copies of the last two characters of a specified string (length must be at least 2).\n",
        "\n",
        "  Sample function and result :\n",
        "```\n",
        "  insert_end('Python') -> onononon\n",
        "  insert_end('Exercises') -> eseseses\n",
        "```"
      ],
      "metadata": {
        "id": "2qsfZiXv8nD5"
      }
    },
    {
      "cell_type": "code",
      "source": [],
      "metadata": {
        "id": "ds3laqie82bI"
      },
      "execution_count": null,
      "outputs": []
    },
    {
      "cell_type": "markdown",
      "source": [
        "18. Write a Python function to get a string made of the first three characters of a specified string. If the length of the string is less than 3, return the original string.\n",
        "\n",
        "  Sample function and result:\n",
        "```\n",
        "  first_three('ipy') -> ipy\n",
        "  first_three(' python') -> pyt\n",
        "```"
      ],
      "metadata": {
        "id": "TTuSYOC489bo"
      }
    },
    {
      "cell_type": "code",
      "source": [],
      "metadata": {
        "id": "Og8D25o19IMY"
      },
      "execution_count": null,
      "outputs": []
    },
    {
      "cell_type": "markdown",
      "source": [
        "19. Write a Python program to get the last part of a string before a specified character.\n",
        "```\n",
        "https://www.w3resource.com/python-exercises\n",
        "https://www.w3resource.com/python\n",
        "\n",
        "```"
      ],
      "metadata": {
        "id": "8FvgcwrE9Uao"
      }
    },
    {
      "cell_type": "code",
      "source": [],
      "metadata": {
        "id": "0Bjfj0279rj5"
      },
      "execution_count": null,
      "outputs": []
    },
    {
      "cell_type": "markdown",
      "source": [
        "20. Write a Python function to reverse a string if its length is a multiple of 4."
      ],
      "metadata": {
        "id": "Bwpvh7959t8A"
      }
    },
    {
      "cell_type": "code",
      "source": [],
      "metadata": {
        "id": "YrE-RoV09xBH"
      },
      "execution_count": null,
      "outputs": []
    },
    {
      "cell_type": "markdown",
      "source": [
        "21. Write a Python function to convert a given string to all uppercase if it contains at least 2 uppercase characters in the first 4 characters."
      ],
      "metadata": {
        "id": "29I8PEPHn21m"
      }
    },
    {
      "cell_type": "code",
      "source": [],
      "metadata": {
        "id": "me0JsFF5sII3"
      },
      "execution_count": null,
      "outputs": []
    },
    {
      "cell_type": "markdown",
      "source": [
        "22. Write a Python program to sort a string lexicographically.\n"
      ],
      "metadata": {
        "id": "8UAJshWzsL-d"
      }
    },
    {
      "cell_type": "code",
      "source": [
        "\n"
      ],
      "metadata": {
        "id": "q-JXPxcCsOBy"
      },
      "execution_count": null,
      "outputs": []
    }
  ]
}