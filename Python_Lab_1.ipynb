{
  "nbformat": 4,
  "nbformat_minor": 0,
  "metadata": {
    "colab": {
      "provenance": [],
      "authorship_tag": "ABX9TyMyjZAe9cTuVjYjyFdsewaF",
      "include_colab_link": true
    },
    "kernelspec": {
      "name": "python3",
      "display_name": "Python 3"
    },
    "language_info": {
      "name": "python"
    }
  },
  "cells": [
    {
      "cell_type": "markdown",
      "metadata": {
        "id": "view-in-github",
        "colab_type": "text"
      },
      "source": [
        "<a href=\"https://colab.research.google.com/github/code3ngon/Python_Lab_1/blob/main/Python_Lab_1.ipynb\" target=\"_parent\"><img src=\"https://colab.research.google.com/assets/colab-badge.svg\" alt=\"Open In Colab\"/></a>"
      ]
    },
    {
      "cell_type": "markdown",
      "source": [
        "1. Write a Python program to calculate the length of a string."
      ],
      "metadata": {
        "id": "RZcVJXg4tyeU"
      }
    },
    {
      "cell_type": "code",
      "execution_count": null,
      "metadata": {
        "colab": {
          "base_uri": "https://localhost:8080/"
        },
        "id": "iFtSg0BftkY-",
        "outputId": "aaf7cb88-1d5e-44a4-b927-bfacf6d50e6c"
      },
      "outputs": [
        {
          "output_type": "stream",
          "name": "stdout",
          "text": [
            "Input a string: kkk\n",
            "Length of the string: 3\n"
          ]
        }
      ],
      "source": [
        "def length_of_string():\n",
        "  string = input(\"Input a string: \")\n",
        "  length = len(string)\n",
        "  print(\"Length of the string:\",length)\n",
        "length_of_string()"
      ]
    },
    {
      "cell_type": "markdown",
      "source": [
        "2. Write a Python program to count the number of characters (character frequency) in a string.\n",
        "\n",
        "  Sample String : 'google.com'\n",
        "\n",
        "  Expected Result : {'g': 2, 'o': 3, 'l': 1, 'e': 1, '.': 1, 'c': 1, 'm': 1}\n"
      ],
      "metadata": {
        "id": "clZaHijIt2Jc"
      }
    },
    {
      "cell_type": "code",
      "source": [
        "def char_frequency():\n",
        "  string = input(\"Input a string: \")\n",
        "  freq = {}\n",
        "  for char in string:\n",
        "    if char in freq:\n",
        "      freq[char] += 1\n",
        "    else:\n",
        "      freq[char] = 1\n",
        "  return freq\n",
        "char_frequency()"
      ],
      "metadata": {
        "colab": {
          "base_uri": "https://localhost:8080/"
        },
        "id": "DseGLBx4t3Dz",
        "outputId": "73356c36-0e1b-47f2-99ce-11b28cab8f7b"
      },
      "execution_count": null,
      "outputs": [
        {
          "name": "stdout",
          "output_type": "stream",
          "text": [
            "Input a string: google.com\n"
          ]
        },
        {
          "output_type": "execute_result",
          "data": {
            "text/plain": [
              "{'g': 2, 'o': 3, 'l': 1, 'e': 1, '.': 1, 'c': 1, 'm': 1}"
            ]
          },
          "metadata": {},
          "execution_count": 10
        }
      ]
    },
    {
      "cell_type": "markdown",
      "source": [
        "3. Write a Python program to get a string made of the first 2 and last 2 characters of a given string. If the string length is less than 2, return the empty string instead.\n",
        "\n",
        "  Sample String : 'w3resource'\n",
        "\n",
        "  Expected Result : 'w3ce'\n",
        "\n",
        "  Sample String : 'w3'\n",
        "\n",
        "  Expected Result : 'w3w3'\n",
        "\n",
        "  Sample String : ' w'\n",
        "  \n",
        "  Expected Result : Empty String"
      ],
      "metadata": {
        "id": "Vwwc8GmvuCpa"
      }
    },
    {
      "cell_type": "code",
      "source": [
        "def get_string():\n",
        "  string = input(\"Input a string: \")\n",
        "  if len(string) < 2:\n",
        "    return \"Empty String\"\n",
        "  else:\n",
        "    return string[:2] + string[-2:]\n",
        "get_string()"
      ],
      "metadata": {
        "colab": {
          "base_uri": "https://localhost:8080/",
          "height": 53
        },
        "id": "deSlHOP1uLoC",
        "outputId": "aba2e04b-3d5a-4a72-aa1f-69e8678acb40"
      },
      "execution_count": null,
      "outputs": [
        {
          "name": "stdout",
          "output_type": "stream",
          "text": [
            "Input a string: w\n"
          ]
        },
        {
          "output_type": "execute_result",
          "data": {
            "text/plain": [
              "'Empty String'"
            ],
            "application/vnd.google.colaboratory.intrinsic+json": {
              "type": "string"
            }
          },
          "metadata": {},
          "execution_count": 3
        }
      ]
    },
    {
      "cell_type": "markdown",
      "source": [
        "4. Write a Python program to get a string from a given string where all occurrences of its first char have been changed to '$', except the first char itself.\n",
        "\n",
        "  Sample String : 'restart'\n",
        "\n",
        "  Expected Result : 'resta$t'\n"
      ],
      "metadata": {
        "id": "VLHPpQHwvzWF"
      }
    },
    {
      "cell_type": "code",
      "source": [
        "def change_char():\n",
        "  string = input(\"Input a string: \")\n",
        "  first_char = string[0]\n",
        "  new_string = first_char + string[1:].replace(first_char, '$')\n",
        "  return new_string\n",
        "change_char()"
      ],
      "metadata": {
        "id": "4cEBvVegv14R",
        "colab": {
          "base_uri": "https://localhost:8080/",
          "height": 53
        },
        "outputId": "73ec8db0-15f4-4411-fd22-8518cc0fe2c2"
      },
      "execution_count": null,
      "outputs": [
        {
          "name": "stdout",
          "output_type": "stream",
          "text": [
            "Input a string: restart\n"
          ]
        },
        {
          "output_type": "execute_result",
          "data": {
            "text/plain": [
              "'resta$t'"
            ],
            "application/vnd.google.colaboratory.intrinsic+json": {
              "type": "string"
            }
          },
          "metadata": {},
          "execution_count": 9
        }
      ]
    },
    {
      "cell_type": "markdown",
      "source": [
        "5. Write a Python program to get a single string from two given strings, separated by a space and swap the first two characters of each string.\n",
        "\n",
        "  Sample String : 'abc', 'xyz'\n",
        "\n",
        "  Expected Result : 'xyc abz'\n"
      ],
      "metadata": {
        "id": "w7BB4qyLw8DQ"
      }
    },
    {
      "cell_type": "code",
      "source": [
        "def swap_string():\n",
        "  string_1 = input(\"Input string 1: \")\n",
        "  string_2 = input(\"Input string 2: \")\n",
        "  new_string = string_2[:2] + string_1[-1:] + \" \" + string_1[:2] + string_2[-1:]\n",
        "  return new_string\n",
        "swap_string()"
      ],
      "metadata": {
        "id": "WX4S5sm1xDMY",
        "colab": {
          "base_uri": "https://localhost:8080/",
          "height": 70
        },
        "outputId": "ca023bc8-cd71-49cb-9338-0c205e29d479"
      },
      "execution_count": null,
      "outputs": [
        {
          "name": "stdout",
          "output_type": "stream",
          "text": [
            "Input string 1: abc\n",
            "Input string 2: xyz\n"
          ]
        },
        {
          "output_type": "execute_result",
          "data": {
            "text/plain": [
              "'xyc abz'"
            ],
            "application/vnd.google.colaboratory.intrinsic+json": {
              "type": "string"
            }
          },
          "metadata": {},
          "execution_count": 15
        }
      ]
    },
    {
      "cell_type": "markdown",
      "source": [
        "6. Write a Python program to add 'ing' at the end of a given string (length should be at least 3). If the given string already ends with 'ing', add 'ly'instead. If the string length of the given string is less than 3, leave it unchanged.\n",
        "\n",
        "  Sample String : 'abc'\n",
        "\n",
        "  Expected Result : 'abcing'\n",
        "\n",
        "  Sample String : 'string'\n",
        "  \n",
        "  Expected Result : 'stringly'"
      ],
      "metadata": {
        "id": "YC3xnxwaxEnY"
      }
    },
    {
      "cell_type": "code",
      "source": [
        "def add_string():\n",
        "  string = input(\"Input a string: \")\n",
        "  if len(string) < 3:\n",
        "    return string\n",
        "  elif string[-3:] == 'ing':\n",
        "    return string + 'ly'\n",
        "  else:\n",
        "    return string + 'ing'\n",
        "add_string()"
      ],
      "metadata": {
        "id": "BMa-uW0GxYLZ",
        "colab": {
          "base_uri": "https://localhost:8080/",
          "height": 53
        },
        "outputId": "3e283f05-94cf-4e36-936a-b8cfdb494f73"
      },
      "execution_count": null,
      "outputs": [
        {
          "name": "stdout",
          "output_type": "stream",
          "text": [
            "Input a string: hi\n"
          ]
        },
        {
          "output_type": "execute_result",
          "data": {
            "text/plain": [
              "'hi'"
            ],
            "application/vnd.google.colaboratory.intrinsic+json": {
              "type": "string"
            }
          },
          "metadata": {},
          "execution_count": 19
        }
      ]
    },
    {
      "cell_type": "markdown",
      "source": [
        "7. Write a Python program to find the first appearance of the substrings 'not' and 'poor' in a given string. If 'not' follows 'poor', replace the whole 'not'...'poor' substring with 'good'. Return the resulting string.\n",
        "\n",
        "  Sample String : 'The lyrics is not that poor!'\n",
        "\n",
        "  'The lyrics is poor!'\n",
        "\n",
        "  Expected Result : 'The lyrics is good!'\n",
        "  \n",
        "  'The lyrics is poor!'"
      ],
      "metadata": {
        "id": "_2fa5kRxxZ3P"
      }
    },
    {
      "cell_type": "code",
      "source": [
        "def replace_string():\n",
        "    string = input(\"Input a string: \")\n",
        "    not_index = string.find('not')\n",
        "    poor_index = string.find('poor')\n",
        "\n",
        "    if not_index != -1 and poor_index != -1 and not_index < poor_index:\n",
        "        before = string[:not_index]\n",
        "        after = string[poor_index + 4:]\n",
        "        new_string = before + 'good' + after\n",
        "        return new_string\n",
        "    else:\n",
        "        return string\n",
        "\n",
        "replace_string()"
      ],
      "metadata": {
        "colab": {
          "base_uri": "https://localhost:8080/",
          "height": 53
        },
        "id": "oo6K1iv2f1Ko",
        "outputId": "66018592-a658-449a-a07c-8ce7e26e052f"
      },
      "execution_count": 7,
      "outputs": [
        {
          "name": "stdout",
          "output_type": "stream",
          "text": [
            "Input a string: The lyrics is poor!\n"
          ]
        },
        {
          "output_type": "execute_result",
          "data": {
            "text/plain": [
              "'The lyrics is poor!'"
            ],
            "application/vnd.google.colaboratory.intrinsic+json": {
              "type": "string"
            }
          },
          "metadata": {},
          "execution_count": 7
        }
      ]
    },
    {
      "cell_type": "markdown",
      "source": [
        "8. Write a Python function that takes a list of words and return the longest word and the length of the longest one.\n",
        "\n",
        "  Sample Output:\n",
        "\n",
        "  Longest word: Exercises\n",
        "  \n",
        "  Length of the longest word: 9"
      ],
      "metadata": {
        "id": "gs_0kOrtxquW"
      }
    },
    {
      "cell_type": "code",
      "source": [
        "def longest_word(word_list):\n",
        "    longest_word = max(word_list, key=len)\n",
        "    print(\"Longest word:\", longest_word)\n",
        "    print(\"Length of the longest word:\", len(longest_word))\n",
        "\n",
        "input_string = input(\"Enter a list separated by commas: \")\n",
        "words = [word.strip() for word in input_string.split(',')]\n",
        "longest_word(words)"
      ],
      "metadata": {
        "id": "YmfrW2okxw-W",
        "colab": {
          "base_uri": "https://localhost:8080/"
        },
        "outputId": "21256210-ab03-4a1a-d7a9-3255f62e70c0"
      },
      "execution_count": 10,
      "outputs": [
        {
          "output_type": "stream",
          "name": "stdout",
          "text": [
            "Enter a list separated by commas: Exercises, hihi, hoho\n",
            "Longest word: Exercises\n",
            "Length of the longest word: 9\n"
          ]
        }
      ]
    },
    {
      "cell_type": "markdown",
      "source": [
        "9. Write a Python program to remove the nth index character from a nonempty string.\n"
      ],
      "metadata": {
        "id": "ikPao3oT7OFD"
      }
    },
    {
      "cell_type": "code",
      "source": [
        "def remove_char():\n",
        "  if i < 0 or i > len(string):\n",
        "    return \"Invalid index\"\n",
        "  else:\n",
        "    new_string = string[:i] + string[i+1:]\n",
        "    return new_string\n",
        "string = input(\"Input a string: \")\n",
        "i = int(input(\"Input the index of the character to remove: \"))\n",
        "remove_char()"
      ],
      "metadata": {
        "id": "aSNVOEPH7QX7",
        "colab": {
          "base_uri": "https://localhost:8080/",
          "height": 70
        },
        "outputId": "27a48aa6-3cad-4f19-c563-b55116e729fb"
      },
      "execution_count": 11,
      "outputs": [
        {
          "name": "stdout",
          "output_type": "stream",
          "text": [
            "Input a string: Hadilao\n",
            "Input the index of the character to remove: 3\n"
          ]
        },
        {
          "output_type": "execute_result",
          "data": {
            "text/plain": [
              "'Hadlao'"
            ],
            "application/vnd.google.colaboratory.intrinsic+json": {
              "type": "string"
            }
          },
          "metadata": {},
          "execution_count": 11
        }
      ]
    },
    {
      "cell_type": "markdown",
      "source": [
        "10. Write a Python program to change a given string to a newly string where the first and last chars have been exchanged."
      ],
      "metadata": {
        "id": "x7iAhH4N7Tnr"
      }
    },
    {
      "cell_type": "code",
      "source": [
        "def swap(s):\n",
        "    if len(s) < 2:\n",
        "        return s\n",
        "    last_char = s[-1]\n",
        "    middle_part = s[1:-1]\n",
        "    first_char = s[0]\n",
        "    new_string = last_char + middle_part + first_char\n",
        "    return new_string\n",
        "\n",
        "input_string = input(\"Input a string: \")\n",
        "print(\"Swap string:\", swap(input_string))\n"
      ],
      "metadata": {
        "id": "Gy-bpZ5O7Wdb",
        "colab": {
          "base_uri": "https://localhost:8080/"
        },
        "outputId": "8ed0c6ef-bda4-4c35-dcc4-bb8e3a83b65d"
      },
      "execution_count": 12,
      "outputs": [
        {
          "output_type": "stream",
          "name": "stdout",
          "text": [
            "Input a string: Naruto\n",
            "Swap string: oarutN\n"
          ]
        }
      ]
    },
    {
      "cell_type": "markdown",
      "source": [
        "11. Write a Python program to remove characters that have odd index values in a given string."
      ],
      "metadata": {
        "id": "mhScpgou7XZs"
      }
    },
    {
      "cell_type": "code",
      "source": [
        "def remove_odd_index_chars(text):\n",
        "    new_text = \"\"\n",
        "    for i in range(len(text)):\n",
        "        if i % 2 == 0:\n",
        "            new_text += text[i]\n",
        "    return new_text\n",
        "input_text = input(\"Input: \")\n",
        "\n",
        "result = remove_odd_index_chars(input_text)\n",
        "print(\"Result:\", result)\n"
      ],
      "metadata": {
        "id": "TGd_fqeW7aPa",
        "colab": {
          "base_uri": "https://localhost:8080/"
        },
        "outputId": "55a6a247-a95e-4941-fca0-d89c73c47d29"
      },
      "execution_count": 21,
      "outputs": [
        {
          "output_type": "stream",
          "name": "stdout",
          "text": [
            "Input: Ohiyo\n",
            "Result: Oio\n"
          ]
        }
      ]
    },
    {
      "cell_type": "markdown",
      "source": [
        "12. Write a Python program to count the occurrences of each word in a given sentence."
      ],
      "metadata": {
        "id": "g9q3npcK7axL"
      }
    },
    {
      "cell_type": "code",
      "source": [
        "def count_word_occurrences(sentence):\n",
        "    words = sentence.split()\n",
        "    word_count = {}\n",
        "    for word in words:\n",
        "        if word in word_count:\n",
        "            word_count[word] += 1\n",
        "        else:\n",
        "            word_count[word] = 1\n",
        "\n",
        "    return word_count\n",
        "input_sentence = input(\"Input a sentence: \")\n",
        "\n",
        "result = count_word_occurrences(input_sentence)\n",
        "\n",
        "print(\"Frequency:\")\n",
        "for word, count in result.items():\n",
        "    print(f\"'{word}': {count}\")\n",
        "\n",
        "\n"
      ],
      "metadata": {
        "colab": {
          "base_uri": "https://localhost:8080/"
        },
        "id": "cw3qiIxyrvi7",
        "outputId": "c8d168fb-4c97-44d0-97c2-6a97ac575cfb"
      },
      "execution_count": 26,
      "outputs": [
        {
          "output_type": "stream",
          "name": "stdout",
          "text": [
            "Input a sentence: She is beautiful with beautiful dress\n",
            "Frequency:\n",
            "'She': 1\n",
            "'is': 1\n",
            "'beautiful': 2\n",
            "'with': 1\n",
            "'dress': 1\n"
          ]
        }
      ]
    },
    {
      "cell_type": "markdown",
      "source": [
        "13. Write a Python script that takes input from the user and displays that input back in upper and lower cases."
      ],
      "metadata": {
        "id": "87fsxpSn7d47"
      }
    },
    {
      "cell_type": "code",
      "source": [
        "user_input = input(\"Input: \")\n",
        "print(\"Lower:\", user_input.lower())\n",
        "print(\"Upper:\", user_input.upper())\n"
      ],
      "metadata": {
        "id": "gWB1EeKC7gJa",
        "colab": {
          "base_uri": "https://localhost:8080/"
        },
        "outputId": "051f1b0f-adda-4ecf-9bc9-4feec4efe6aa"
      },
      "execution_count": 27,
      "outputs": [
        {
          "output_type": "stream",
          "name": "stdout",
          "text": [
            "Input: Haha\n",
            "Lower: haha\n",
            "Upper: HAHA\n"
          ]
        }
      ]
    },
    {
      "cell_type": "markdown",
      "source": [
        "14. Write a Python program that accepts a comma-separated sequence of words as input and prints the distinct words in sorted form (alphanumerically).\n",
        "\n",
        "  Sample Words : red, white, black, red, green, black\n",
        "\n",
        "  Expected Result : black, green, red, white, red"
      ],
      "metadata": {
        "id": "mYwt1ZHi7hA6"
      }
    },
    {
      "cell_type": "code",
      "source": [
        "def distinct_sorted_words():\n",
        "    words_input = input(\"Input: \")\n",
        "    words = words_input.split(',')\n",
        "\n",
        "    words = [word.strip() for word in words]\n",
        "    distinct_words = sorted(set(words))\n",
        "\n",
        "    print(\"Result: \", ', '.join(distinct_words))\n",
        "\n",
        "distinct_sorted_words()"
      ],
      "metadata": {
        "id": "rNVjJ2Fm7qFq",
        "colab": {
          "base_uri": "https://localhost:8080/"
        },
        "outputId": "05b1ef1f-eed4-4aab-c6a5-dda00c08b78a"
      },
      "execution_count": 28,
      "outputs": [
        {
          "output_type": "stream",
          "name": "stdout",
          "text": [
            "Input: red, white, black, red, green, black\n",
            "Result:  black, green, red, white\n"
          ]
        }
      ]
    },
    {
      "cell_type": "markdown",
      "source": [
        "15. Write a Python function to create an HTML string with tags around the word(s).\n",
        "\n",
        "  Sample function and result :\n",
        "```\n",
        "  add_tags('i', 'Python') -> '<i>Python</i>'\n",
        "\n",
        "  add_tags('b', 'Python Tutorial') -> '<b>Python Tutorial </b>'\n",
        "```"
      ],
      "metadata": {
        "id": "ACnA2IJp7uQh"
      }
    },
    {
      "cell_type": "code",
      "source": [
        "def add_tags(tag, word):\n",
        "    return f'<{tag}>{word}</{tag}>'\n",
        "print(add_tags('i', 'Python'))\n",
        "print(add_tags('b', 'Python Tutorial'))"
      ],
      "metadata": {
        "id": "V7aQFO1r7x0J",
        "colab": {
          "base_uri": "https://localhost:8080/"
        },
        "outputId": "f48d81d2-5b3c-4b2e-c620-115e4a0ea624"
      },
      "execution_count": 29,
      "outputs": [
        {
          "output_type": "stream",
          "name": "stdout",
          "text": [
            "<i>Python</i>\n",
            "<b>Python Tutorial</b>\n"
          ]
        }
      ]
    },
    {
      "cell_type": "markdown",
      "source": [
        "16. Write a Python function to insert a string in the middle of a string.\n",
        "  Sample function and result :\n",
        "```\n",
        "  insert_sting_middle('[[]]<<>>', ' Python') -> [[Python]]\n",
        "  insert_sting_middle('{{}}', 'PHP') -> {{PHP}}\n",
        "```"
      ],
      "metadata": {
        "id": "B9PQheoM8ZpS"
      }
    },
    {
      "cell_type": "code",
      "source": [
        "def insert_string_middle(original_string, insert_string):\n",
        "    middle_index = len(original_string) // 2\n",
        "    new_string = original_string[:middle_index] + insert_string + original_string[middle_index:]\n",
        "    return new_string\n",
        "\n",
        "print(insert_string_middle('[[]]<<>>', ' Python'))\n",
        "print(insert_string_middle('{{}}', 'PHP'))\n"
      ],
      "metadata": {
        "id": "G8dDU5LB8lop",
        "colab": {
          "base_uri": "https://localhost:8080/"
        },
        "outputId": "fcdb8c25-2421-4e66-e495-f625d16d1d2b"
      },
      "execution_count": 30,
      "outputs": [
        {
          "output_type": "stream",
          "name": "stdout",
          "text": [
            "[[]] Python<<>>\n",
            "{{PHP}}\n"
          ]
        }
      ]
    },
    {
      "cell_type": "markdown",
      "source": [
        "17. Write a Python function to get a string made of 4 copies of the last two characters of a specified string (length must be at least 2).\n",
        "\n",
        "  Sample function and result :\n",
        "```\n",
        "  insert_end('Python') -> onononon\n",
        "  insert_end('Exercises') -> eseseses\n",
        "```"
      ],
      "metadata": {
        "id": "2qsfZiXv8nD5"
      }
    },
    {
      "cell_type": "code",
      "source": [
        "def insert_end(input_string):\n",
        "    if len(input_string) < 2:\n",
        "        return \"Chuỗi phải có ít nhất 2 ký tự.\"\n",
        "    last_two_chars = input_string[-2:]\n",
        "    result = last_two_chars * 4\n",
        "\n",
        "    return result\n",
        "\n",
        "print(insert_end('Python'))\n",
        "print(insert_end('Exercises'))\n"
      ],
      "metadata": {
        "id": "ds3laqie82bI",
        "colab": {
          "base_uri": "https://localhost:8080/"
        },
        "outputId": "ee5fb24b-24e1-4e70-af2d-a7e709524787"
      },
      "execution_count": 8,
      "outputs": [
        {
          "output_type": "stream",
          "name": "stdout",
          "text": [
            "onononon\n",
            "eseseses\n"
          ]
        }
      ]
    },
    {
      "cell_type": "markdown",
      "source": [
        "18. Write a Python function to get a string made of the first three characters of a specified string. If the length of the string is less than 3, return the original string.\n",
        "\n",
        "  Sample function and result:\n",
        "```\n",
        "  first_three('ipy') -> ipy\n",
        "  first_three(' python') -> pyt\n",
        "```"
      ],
      "metadata": {
        "id": "TTuSYOC489bo"
      }
    },
    {
      "cell_type": "code",
      "source": [
        "def first_three(input_string):\n",
        "    if len(input_string) < 3:\n",
        "        return input_string\n",
        "\n",
        "    return input_string[:3]\n",
        "\n",
        "print(first_three('ipy'))\n",
        "print(first_three(' python'))\n"
      ],
      "metadata": {
        "id": "Og8D25o19IMY",
        "colab": {
          "base_uri": "https://localhost:8080/"
        },
        "outputId": "d8d6ec5c-e04b-4207-e8f9-5499049fa966"
      },
      "execution_count": 9,
      "outputs": [
        {
          "output_type": "stream",
          "name": "stdout",
          "text": [
            "ipy\n",
            " py\n"
          ]
        }
      ]
    },
    {
      "cell_type": "markdown",
      "source": [
        "19. Write a Python program to get the last part of a string before a specified character.\n",
        "```\n",
        "https://www.w3resource.com/python-exercises\n",
        "https://www.w3resource.com/python\n"
      ],
      "metadata": {
        "id": "8FvgcwrE9Uao"
      }
    },
    {
      "cell_type": "code",
      "source": [
        "def get_last_part_before_char(input_string, char):\n",
        "    position = input_string.rfind(char)\n",
        "\n",
        "    if position == -1:\n",
        "        return \"Ký tự không tồn tại trong chuỗi.\"\n",
        "\n",
        "    return input_string[:position]\n",
        "print(get_last_part_before_char('hello world!', ' '))\n",
        "print(get_last_part_before_char('hi', '@'))\n"
      ],
      "metadata": {
        "id": "0Bjfj0279rj5",
        "colab": {
          "base_uri": "https://localhost:8080/"
        },
        "outputId": "b696d8e7-bfeb-4c4e-bdae-86682949c82e"
      },
      "execution_count": 15,
      "outputs": [
        {
          "output_type": "stream",
          "name": "stdout",
          "text": [
            "hello\n",
            "Ký tự không tồn tại trong chuỗi.\n"
          ]
        }
      ]
    },
    {
      "cell_type": "markdown",
      "source": [
        "20. Write a Python function to reverse a string if its length is a multiple of 4."
      ],
      "metadata": {
        "id": "Bwpvh7959t8A"
      }
    },
    {
      "cell_type": "code",
      "source": [
        "def reverse_if_multiple_of_4(input_string):\n",
        "    if len(input_string) % 4 == 0:\n",
        "        return input_string[::-1]\n",
        "    return input_string\n",
        "print(reverse_if_multiple_of_4('hello'))"
      ],
      "metadata": {
        "id": "YrE-RoV09xBH",
        "colab": {
          "base_uri": "https://localhost:8080/"
        },
        "outputId": "9ced0630-e3b4-4133-a0bc-7826b815312d"
      },
      "execution_count": 13,
      "outputs": [
        {
          "output_type": "stream",
          "name": "stdout",
          "text": [
            "hello\n"
          ]
        }
      ]
    },
    {
      "cell_type": "markdown",
      "source": [
        "21. Write a Python function to convert a given string to all uppercase if it contains at least 2 uppercase characters in the first 4 characters."
      ],
      "metadata": {
        "id": "29I8PEPHn21m"
      }
    },
    {
      "cell_type": "code",
      "source": [
        "def convert_to_uppercase(input_string):\n",
        "    if sum(1 for char in input_string[:4] if char.isupper()) >= 2:\n",
        "        return input_string.upper()\n",
        "    return input_string\n",
        "\n",
        "print(convert_to_uppercase('PyThon'))\n"
      ],
      "metadata": {
        "id": "me0JsFF5sII3",
        "colab": {
          "base_uri": "https://localhost:8080/"
        },
        "outputId": "85c5d9c0-f3af-4a55-88bd-b272b97b5ead"
      },
      "execution_count": 18,
      "outputs": [
        {
          "output_type": "stream",
          "name": "stdout",
          "text": [
            "PYTHON\n"
          ]
        }
      ]
    },
    {
      "cell_type": "markdown",
      "source": [
        "22. Write a Python program to sort a string lexicographically.\n"
      ],
      "metadata": {
        "id": "8UAJshWzsL-d"
      }
    },
    {
      "cell_type": "code",
      "source": [
        "def sort_string_lexicographically(input_string):\n",
        "    return ''.join(sorted(input_string))\n",
        "print(sort_string_lexicographically('hello'))"
      ],
      "metadata": {
        "id": "q-JXPxcCsOBy",
        "colab": {
          "base_uri": "https://localhost:8080/"
        },
        "outputId": "fa55fdc5-5eee-4935-bef0-cfbbb017ac3a"
      },
      "execution_count": 20,
      "outputs": [
        {
          "output_type": "stream",
          "name": "stdout",
          "text": [
            "ehllo\n"
          ]
        }
      ]
    },
    {
      "cell_type": "markdown",
      "source": [
        "23. Write a Python program to remove a newline in Python."
      ],
      "metadata": {
        "id": "t6irV4sf4oUu"
      }
    },
    {
      "cell_type": "code",
      "source": [
        "def remove_newline(input_string):\n",
        "    return input_string.replace('\\n', '')\n",
        "\n",
        "print(remove_newline(\"Hello\\nWorld\\n\"))"
      ],
      "metadata": {
        "id": "LV9RWRuU4rUl",
        "colab": {
          "base_uri": "https://localhost:8080/"
        },
        "outputId": "bd7940f2-1961-492d-ff08-f76a58d1ff9d"
      },
      "execution_count": 21,
      "outputs": [
        {
          "output_type": "stream",
          "name": "stdout",
          "text": [
            "HelloWorld\n"
          ]
        }
      ]
    },
    {
      "cell_type": "markdown",
      "source": [
        "24. Write a Python program to check whether a string starts with specified characters."
      ],
      "metadata": {
        "id": "C2kGizHZ4r1l"
      }
    },
    {
      "cell_type": "code",
      "source": [
        "def check_string_start(input_string, prefix):\n",
        "    return input_string.startswith(prefix)\n",
        "print(check_string_start('Hello World', 'Hi'))\n"
      ],
      "metadata": {
        "id": "vVYLCMam4ujh",
        "colab": {
          "base_uri": "https://localhost:8080/"
        },
        "outputId": "213f4542-cea9-4aac-e42a-a4919a762fe7"
      },
      "execution_count": 23,
      "outputs": [
        {
          "output_type": "stream",
          "name": "stdout",
          "text": [
            "False\n"
          ]
        }
      ]
    },
    {
      "cell_type": "markdown",
      "source": [
        "25. Write a Python program to create a Caesar encryption.\n",
        "\n",
        "Note : In cryptography, a Caesar cipher, also known as Caesar's cipher, the shift cipher, Caesar's code or Caesar shift, is one of the simplest and most widely known encryption techniques. It is a type of substitution cipher in which each letter in the plaintext is replaced by a letter some fixed number of positions down the alphabet. For example, with a left shift of 3, D would be replaced by A, E would become B, and so on. The method is named after Julius Caesar, who used it in his private correspondence.\n"
      ],
      "metadata": {
        "id": "hRSXa4xW4wCV"
      }
    },
    {
      "cell_type": "code",
      "source": [
        "def caesar_encrypt(plain_text, shift):\n",
        "    encrypted_text = ''\n",
        "    for char in plain_text:\n",
        "        if char.isalpha():\n",
        "            offset = 65 if char.isupper() else 97\n",
        "            encrypted_text += chr((ord(char) - offset + shift) % 26 + offset)\n",
        "        else:\n",
        "            encrypted_text += char\n",
        "    return encrypted_text\n",
        "print(caesar_encrypt('Hello World!', 5))"
      ],
      "metadata": {
        "id": "lO7lY4hO473Y",
        "colab": {
          "base_uri": "https://localhost:8080/"
        },
        "outputId": "fb26198f-9530-44c8-ef96-62f83a400c8e"
      },
      "execution_count": 25,
      "outputs": [
        {
          "output_type": "stream",
          "name": "stdout",
          "text": [
            "Mjqqt Btwqi!\n"
          ]
        }
      ]
    },
    {
      "cell_type": "markdown",
      "source": [
        "26. Write a Python program to display formatted text (width=50) as output."
      ],
      "metadata": {
        "id": "d06FaaO15C2b"
      }
    },
    {
      "cell_type": "code",
      "source": [
        "def display_formatted_text(text):\n",
        "    print(f\"{text:50}\")\n",
        "\n",
        "display_formatted_text(\"This is an example of formatted text.\")\n"
      ],
      "metadata": {
        "id": "_B2x7UVL5DxT",
        "colab": {
          "base_uri": "https://localhost:8080/"
        },
        "outputId": "e2452648-722a-45e7-bf9a-ce3a85def594"
      },
      "execution_count": 26,
      "outputs": [
        {
          "output_type": "stream",
          "name": "stdout",
          "text": [
            "This is an example of formatted text.             \n"
          ]
        }
      ]
    },
    {
      "cell_type": "markdown",
      "source": [
        "27. Write a Python program to remove existing indentation from all of the lines in a given text."
      ],
      "metadata": {
        "id": "-v5SSNvh5FbO"
      }
    },
    {
      "cell_type": "code",
      "source": [
        "def remove_indentation(text):\n",
        "    return '\\n'.join([line.lstrip() for line in text.split('\\n')])\n",
        "\n",
        "text = \"\"\"\n",
        "    Go home and sleep.\n",
        "    Code so fun.\n",
        "        Let's go.\n",
        "\"\"\"\n",
        "\n",
        "print(remove_indentation(text))\n"
      ],
      "metadata": {
        "id": "NL5IkQT25Lkp",
        "colab": {
          "base_uri": "https://localhost:8080/"
        },
        "outputId": "4ec57f9b-cb9f-414e-8bdd-b5218456de18"
      },
      "execution_count": 28,
      "outputs": [
        {
          "output_type": "stream",
          "name": "stdout",
          "text": [
            "\n",
            "Go home and sleep.\n",
            "Code so fun.\n",
            "Let's go.\n",
            "\n"
          ]
        }
      ]
    },
    {
      "cell_type": "markdown",
      "source": [
        "28. Write a Python program to add prefix text to all of the lines in a string."
      ],
      "metadata": {
        "id": "zC_7B2j95MAO"
      }
    },
    {
      "cell_type": "code",
      "source": [
        "def add_prefix_to_lines(text, prefix):\n",
        "    return '\\n'.join([prefix + line for line in text.split('\\n')])\n",
        "\n",
        "text = \"\"\"Hoho.\n",
        "Sleep.\n",
        "Run now.\"\"\"\n",
        "\n",
        "print(add_prefix_to_lines(text, \"Prefix: \"))"
      ],
      "metadata": {
        "id": "qn2it-pJ5OYc",
        "colab": {
          "base_uri": "https://localhost:8080/"
        },
        "outputId": "e8e37b91-9c20-485e-b7dd-93e05814d255"
      },
      "execution_count": 30,
      "outputs": [
        {
          "output_type": "stream",
          "name": "stdout",
          "text": [
            "Prefix: Hoho.\n",
            "Prefix: Sleep.\n",
            "Prefix: Run now.\n"
          ]
        }
      ]
    },
    {
      "cell_type": "markdown",
      "source": [
        "29. Write a Python program to set the indentation of the first line.\n"
      ],
      "metadata": {
        "id": "86YwRWKp5O7x"
      }
    },
    {
      "cell_type": "code",
      "source": [
        "def set_indentation_first_line(text, indent):\n",
        "    lines = text.split('\\n')\n",
        "    lines[0] = ' ' * indent + lines[0]\n",
        "    return '\\n'.join(lines)\n",
        "\n",
        "text = \"\"\"Tired.\n",
        "Lazy.\"\"\"\n",
        "\n",
        "print(set_indentation_first_line(text, 5))"
      ],
      "metadata": {
        "id": "ouXrMpmB5SWY",
        "colab": {
          "base_uri": "https://localhost:8080/"
        },
        "outputId": "c0430e76-46b5-4a10-e0b0-602678fd3d3c"
      },
      "execution_count": 32,
      "outputs": [
        {
          "output_type": "stream",
          "name": "stdout",
          "text": [
            "     Tired.\n",
            "Lazy.\n"
          ]
        }
      ]
    },
    {
      "cell_type": "markdown",
      "source": [
        "30. Write a Python program to print the following numbers up to 2 decimal places."
      ],
      "metadata": {
        "id": "QznE43bx5U5i"
      }
    },
    {
      "cell_type": "code",
      "source": [
        "def print_numbers_up_to_two_decimal_places():\n",
        "    numbers = [1.234, 567.8910, 123.456]\n",
        "    for number in numbers:\n",
        "        print(f\"{number:.2f}\")\n",
        "\n",
        "print_numbers_up_to_two_decimal_places()"
      ],
      "metadata": {
        "id": "1LAGp3_95VmG",
        "colab": {
          "base_uri": "https://localhost:8080/"
        },
        "outputId": "d52098e5-6e33-4a48-d38d-68ad8a55f750"
      },
      "execution_count": 36,
      "outputs": [
        {
          "output_type": "stream",
          "name": "stdout",
          "text": [
            "1.23\n",
            "567.89\n",
            "123.46\n"
          ]
        }
      ]
    },
    {
      "cell_type": "markdown",
      "source": [
        "31. Write a Python program to print the following numbers up to 2 decimal places with a sign."
      ],
      "metadata": {
        "id": "OykH2_035WBn"
      }
    },
    {
      "cell_type": "code",
      "source": [
        "def print_numbers_with_sign():\n",
        "    numbers = [1.234, -56.789, 123.456]\n",
        "    for number in numbers:\n",
        "        print(f\"{number:+.2f}\")\n",
        "\n",
        "print_numbers_with_sign()"
      ],
      "metadata": {
        "id": "qAs_O1Po5YwN",
        "colab": {
          "base_uri": "https://localhost:8080/"
        },
        "outputId": "d758e641-89ee-4b3c-a87b-8848c24c9066"
      },
      "execution_count": 37,
      "outputs": [
        {
          "output_type": "stream",
          "name": "stdout",
          "text": [
            "+1.23\n",
            "-56.79\n",
            "+123.46\n"
          ]
        }
      ]
    },
    {
      "cell_type": "markdown",
      "source": [
        "32. Write a Python program to print the following positive and negative numbers with no decimal places."
      ],
      "metadata": {
        "id": "pBhnnOmm5ZJn"
      }
    },
    {
      "cell_type": "code",
      "source": [
        "def print_numbers_no_decimal():\n",
        "    numbers = [1.234, -56.789, 123.456]\n",
        "    for number in numbers:\n",
        "        print(f\"{number:.0f}\")\n",
        "\n",
        "print_numbers_no_decimal()"
      ],
      "metadata": {
        "id": "aIygRW175j_V",
        "colab": {
          "base_uri": "https://localhost:8080/"
        },
        "outputId": "4623a60b-79d3-4cbe-c0c4-4d730d51d09f"
      },
      "execution_count": 38,
      "outputs": [
        {
          "output_type": "stream",
          "name": "stdout",
          "text": [
            "1\n",
            "-57\n",
            "123\n"
          ]
        }
      ]
    },
    {
      "cell_type": "markdown",
      "source": [
        "33. Write a Python program to print the following integers with zeros to the left of the specified width.\n"
      ],
      "metadata": {
        "id": "zhlxSc2I5kYA"
      }
    },
    {
      "cell_type": "code",
      "source": [
        "def print_integers_with_zeros():\n",
        "    numbers = [5, 34, 123, 7]\n",
        "    for number in numbers:\n",
        "        print(f\"{number:05d}\")\n",
        "\n",
        "print_integers_with_zeros()"
      ],
      "metadata": {
        "id": "-oJK-fSG5nlZ",
        "colab": {
          "base_uri": "https://localhost:8080/"
        },
        "outputId": "ca6d8ab9-8c14-4be0-cecc-1b056177ba24"
      },
      "execution_count": 39,
      "outputs": [
        {
          "output_type": "stream",
          "name": "stdout",
          "text": [
            "00005\n",
            "00034\n",
            "00123\n",
            "00007\n"
          ]
        }
      ]
    },
    {
      "cell_type": "markdown",
      "source": [
        "34. Write a Python program to print the following integers with '*' to the right of the specified width."
      ],
      "metadata": {
        "id": "27DMZuss5oMg"
      }
    },
    {
      "cell_type": "code",
      "source": [
        "def print_integers_with_asterisks():\n",
        "    numbers = [5, 34, 123, 7]\n",
        "    for number in numbers:\n",
        "        print(f\"{number:*<10}\")\n",
        "print_integers_with_asterisks()"
      ],
      "metadata": {
        "id": "uu3JggkQ5tLx",
        "colab": {
          "base_uri": "https://localhost:8080/"
        },
        "outputId": "3d18ad3c-3a80-4152-86d1-29655295c0cd"
      },
      "execution_count": 41,
      "outputs": [
        {
          "output_type": "stream",
          "name": "stdout",
          "text": [
            "5*********\n",
            "34********\n",
            "123*******\n",
            "7*********\n"
          ]
        }
      ]
    },
    {
      "cell_type": "markdown",
      "source": [
        "35. Write a Python program to display a number with a comma separator."
      ],
      "metadata": {
        "id": "9Qcl5P9R5uBJ"
      }
    },
    {
      "cell_type": "code",
      "source": [
        "def display_number_with_comma():\n",
        "    numbers = [1000, 5000000, 123456789]\n",
        "    for number in numbers:\n",
        "        print(f\"{number:,}\")\n",
        "display_number_with_comma()"
      ],
      "metadata": {
        "id": "V8CIobov5xXP",
        "colab": {
          "base_uri": "https://localhost:8080/"
        },
        "outputId": "2e48de21-962a-407e-b309-03c30dc37705"
      },
      "execution_count": 43,
      "outputs": [
        {
          "output_type": "stream",
          "name": "stdout",
          "text": [
            "1,000\n",
            "5,000,000\n",
            "123,456,789\n"
          ]
        }
      ]
    },
    {
      "cell_type": "markdown",
      "source": [
        "36. Write a Python program to format a number with a percentage."
      ],
      "metadata": {
        "id": "dY0OEU0i5yH4"
      }
    },
    {
      "cell_type": "code",
      "source": [
        "def format_number_as_percentage():\n",
        "    numbers = [0.25, 0.75, 0.1234]\n",
        "    for number in numbers:\n",
        "        print(f\"{number:.2%}\")\n",
        "\n",
        "format_number_as_percentage()"
      ],
      "metadata": {
        "id": "ZyYzi1eP50GF",
        "colab": {
          "base_uri": "https://localhost:8080/"
        },
        "outputId": "73fd0e70-07aa-4d52-ad4a-da7d89d2d6b3"
      },
      "execution_count": 44,
      "outputs": [
        {
          "output_type": "stream",
          "name": "stdout",
          "text": [
            "25.00%\n",
            "75.00%\n",
            "12.34%\n"
          ]
        }
      ]
    },
    {
      "cell_type": "markdown",
      "source": [
        "37. Write a Python program to display a number in left, right, and center aligned with a width of 10.\n"
      ],
      "metadata": {
        "id": "cou94VFQ50n7"
      }
    },
    {
      "cell_type": "code",
      "source": [
        "def display_number_aligned():\n",
        "    number = 123\n",
        "    print(f\"{number:<10}\")\n",
        "    print(f\"{number:>10}\")\n",
        "    print(f\"{number:^10}\")\n",
        "\n",
        "display_number_aligned()"
      ],
      "metadata": {
        "id": "1-7mpR3Q53-A",
        "colab": {
          "base_uri": "https://localhost:8080/"
        },
        "outputId": "9fbdf146-1436-4e2b-ec48-2cc7ede2f65c"
      },
      "execution_count": 45,
      "outputs": [
        {
          "output_type": "stream",
          "name": "stdout",
          "text": [
            "123       \n",
            "       123\n",
            "   123    \n"
          ]
        }
      ]
    },
    {
      "cell_type": "markdown",
      "source": [
        "38. Write a Python program to count occurrences of a substring in a string."
      ],
      "metadata": {
        "id": "wEEnsnj_6Gvh"
      }
    },
    {
      "cell_type": "code",
      "source": [
        "def count_substring_occurrences(main_string, substring):\n",
        "    return main_string.count(substring)\n",
        "\n",
        "main_string = input(\"Nhập chuỗi chính: \")\n",
        "substring = input(\"Nhập chuỗi con: \")\n",
        "\n",
        "result = count_substring_occurrences(main_string, substring)\n",
        "print(f\"Số lần xuất hiện của '{substring}' trong chuỗi là: {result}\")\n"
      ],
      "metadata": {
        "id": "FUlZyk5Z6Kfr",
        "colab": {
          "base_uri": "https://localhost:8080/"
        },
        "outputId": "7fc0ff40-f55b-4b2f-d774-76a943965667"
      },
      "execution_count": 6,
      "outputs": [
        {
          "output_type": "stream",
          "name": "stdout",
          "text": [
            "Nhập chuỗi chính: 1 con vit xoe ra 2 con than lan con\n",
            "Nhập chuỗi con: con\n",
            "Số lần xuất hiện của 'con' trong chuỗi là: 3\n"
          ]
        }
      ]
    },
    {
      "cell_type": "markdown",
      "source": [
        "39. Write a Python program to reverse a string.\n"
      ],
      "metadata": {
        "id": "mJ4xvL-E55K9"
      }
    },
    {
      "cell_type": "code",
      "source": [
        "def reverse_string(text):\n",
        "    return text[::-1]\n",
        "input_text = input(\"Nhập một chuỗi: \")\n",
        "result = reverse_string(input_text)\n",
        "print(\"Chuỗi sau khi đảo ngược:\", result)\n"
      ],
      "metadata": {
        "id": "uppnuzRh6GR6",
        "colab": {
          "base_uri": "https://localhost:8080/"
        },
        "outputId": "f7f13e13-2f38-4d60-81f7-5f2599dca1ac"
      },
      "execution_count": 5,
      "outputs": [
        {
          "output_type": "stream",
          "name": "stdout",
          "text": [
            "Nhập một chuỗi: Viet Nam number 1\n",
            "Chuỗi sau khi đảo ngược: 1 rebmun maN teiV\n"
          ]
        }
      ]
    },
    {
      "cell_type": "markdown",
      "source": [
        "40. Write a Python program to reverse words in a string."
      ],
      "metadata": {
        "id": "8I_tt7qc6LcS"
      }
    },
    {
      "cell_type": "code",
      "source": [
        "def reverse_words_in_string(text):\n",
        "    words = text.split()\n",
        "    reversed_words = words[::-1]\n",
        "    reversed_text = ' '.join(reversed_words)\n",
        "\n",
        "    return reversed_text\n",
        "input_text = input(\"Nhập một chuỗi: \")\n",
        "result = reverse_words_in_string(input_text)\n",
        "print(\"Chuỗi sau khi đảo ngược các từ:\", result)\n"
      ],
      "metadata": {
        "id": "Jehuhsaw6NuE",
        "colab": {
          "base_uri": "https://localhost:8080/"
        },
        "outputId": "aa9f2eb8-1b13-4e0c-cb55-b0046d853958"
      },
      "execution_count": 4,
      "outputs": [
        {
          "output_type": "stream",
          "name": "stdout",
          "text": [
            "Nhập một chuỗi: My ap thue Viet Nam\n",
            "Chuỗi sau khi đảo ngược các từ: Nam Viet thue ap My\n"
          ]
        }
      ]
    },
    {
      "cell_type": "markdown",
      "source": [
        "41. Write a Python program to strip a set of characters from a string.\n"
      ],
      "metadata": {
        "id": "6-eeNIVO6OO6"
      }
    },
    {
      "cell_type": "code",
      "source": [
        "def strip_characters(text, chars_to_remove):\n",
        "    return text.strip(chars_to_remove)\n",
        "input_text = input(\"Nhập một chuỗi: \")\n",
        "chars_to_remove = input(\"Nhập các ký tự cần loại bỏ: \")\n",
        "\n",
        "result = strip_characters(input_text, chars_to_remove)\n",
        "print(\"Chuỗi sau khi loại bỏ các ký tự:\", result)\n"
      ],
      "metadata": {
        "id": "Jctsf5hP6Q-8",
        "colab": {
          "base_uri": "https://localhost:8080/"
        },
        "outputId": "b997c3e0-e491-410a-c219-d319103a86b5"
      },
      "execution_count": 2,
      "outputs": [
        {
          "output_type": "stream",
          "name": "stdout",
          "text": [
            "Nhập một chuỗi: My ap thue Viet Nam\n",
            "Nhập các ký tự cần loại bỏ: My\n",
            "Chuỗi sau khi loại bỏ các ký tự:  ap thue Viet Nam\n"
          ]
        }
      ]
    },
    {
      "cell_type": "markdown",
      "source": [
        "42. Write a Python program to count repeated characters in a string.\n",
        "\n",
        "Sample string: 'thequickbrownfoxjumpsoverthelazydog'\n",
        "\n",
        "Expected output :\n",
        "\n",
        "o 4\n",
        "\n",
        "e 3\n",
        "\n",
        "u 2\n",
        "\n",
        "h 2\n",
        "\n",
        "r 2\n",
        "\n",
        "t 2"
      ],
      "metadata": {
        "id": "Ivor3K_O6Rjf"
      }
    },
    {
      "cell_type": "code",
      "source": [
        "from collections import Counter\n",
        "\n",
        "def count_repeated_characters(text):\n",
        "    char_count = Counter(text)\n",
        "    for char, count in char_count.items():\n",
        "        if count > 1:\n",
        "            print(f\"{char} {count}\")\n",
        "\n",
        "sample_string = 'thequickbrownfoxjumpsoverthelazydog'\n",
        "\n",
        "count_repeated_characters(sample_string)\n"
      ],
      "metadata": {
        "id": "5NU1Hn1U6dPG",
        "colab": {
          "base_uri": "https://localhost:8080/"
        },
        "outputId": "a8389b8e-ab5d-4ce4-d851-d79d108f0f6b"
      },
      "execution_count": 32,
      "outputs": [
        {
          "output_type": "stream",
          "name": "stdout",
          "text": [
            "t 2\n",
            "h 2\n",
            "e 3\n",
            "u 2\n",
            "r 2\n",
            "o 4\n"
          ]
        }
      ]
    },
    {
      "cell_type": "markdown",
      "source": [
        "43. Write a Python program to print the square and cube symbols in the area of a rectangle and the volume of a cylinder.\n",
        "\n",
        "Sample output:\n",
        "\n",
        "The area of the rectangle is 1256.66cm2\n",
        "\n",
        "The volume of the cylinder is 1254.725cm3\n"
      ],
      "metadata": {
        "id": "iQNHpZXj6uG6"
      }
    },
    {
      "cell_type": "code",
      "source": [
        "import math\n",
        "\n",
        "def calculate_area_and_volume():\n",
        "    length = float(input(\"Nhập chiều dài của hình chữ nhật (cm): \"))\n",
        "    width = float(input(\"Nhập chiều rộng của hình chữ nhật (cm): \"))\n",
        "    area = length * width\n",
        "    print(f\"Diện tích hình chữ nhật {area:.2f}cm²\")  #\n",
        "\n",
        "    radius = float(input(\"Nhập bán kính của hình trụ (cm): \"))\n",
        "    height = float(input(\"Nhập chiều cao của hình trụ (cm): \"))\n",
        "\n",
        "    volume = math.pi * radius**2 * height\n",
        "    print(f\"Thể tích hình trụ {volume:.3f}cm³\")  # In kết quả với 3 chữ số sau dấu phẩy\n",
        "\n",
        "calculate_area_and_volume()\n"
      ],
      "metadata": {
        "id": "PFRq-lMj6xra",
        "colab": {
          "base_uri": "https://localhost:8080/"
        },
        "outputId": "25472b19-7380-4d6e-ab9a-d03ea84a0e5d"
      },
      "execution_count": 31,
      "outputs": [
        {
          "output_type": "stream",
          "name": "stdout",
          "text": [
            "Nhập chiều dài của hình chữ nhật (cm): 25\n",
            "Nhập chiều rộng của hình chữ nhật (cm): 5\n",
            "Diện tích hình chữ nhật 125.00cm²\n",
            "Nhập bán kính của hình trụ (cm): 6\n",
            "Nhập chiều cao của hình trụ (cm): 7\n",
            "Thể tích hình trụ 791.681cm³\n"
          ]
        }
      ]
    },
    {
      "cell_type": "markdown",
      "source": [
        "44. Write a Python program to print the index of a character in a string.\n",
        "\n",
        "Sample string: w3resource\n",
        "\n",
        "Expected output:\n",
        "\n",
        "Current character w position at 0\n",
        "\n",
        "Current character 3 position at 1\n",
        "\n",
        "Current character r position at 2\n",
        "\n",
        "...\n",
        "\n",
        "Current character c position at 8\n",
        "\n",
        "Current character e position at 9"
      ],
      "metadata": {
        "id": "asHIHJp561n8"
      }
    },
    {
      "cell_type": "code",
      "source": [
        "def print_char_index(text):\n",
        "    for index, char in enumerate(text):\n",
        "        print(f\"Current character {char} position at {index}\")\n",
        "sample_string = \"w3resource\"\n",
        "\n",
        "print_char_index(sample_string)\n"
      ],
      "metadata": {
        "id": "5BVOT8Mc7OgX",
        "colab": {
          "base_uri": "https://localhost:8080/"
        },
        "outputId": "66031062-2fc9-471a-8bd7-e54c76577cd4"
      },
      "execution_count": 22,
      "outputs": [
        {
          "output_type": "stream",
          "name": "stdout",
          "text": [
            "Current character w position at 0\n",
            "Current character 3 position at 1\n",
            "Current character r position at 2\n",
            "Current character e position at 3\n",
            "Current character s position at 4\n",
            "Current character o position at 5\n",
            "Current character u position at 6\n",
            "Current character r position at 7\n",
            "Current character c position at 8\n",
            "Current character e position at 9\n"
          ]
        }
      ]
    },
    {
      "cell_type": "markdown",
      "source": [
        "45. Write a Python program to check whether a string contains all letters of the alphabet.\n"
      ],
      "metadata": {
        "id": "ZaGlZ7K97PAh"
      }
    },
    {
      "cell_type": "code",
      "source": [
        "import string\n",
        "\n",
        "def contains_alphabets(text):\n",
        "    text = text.lower()\n",
        "    for letter in string.ascii_lowercase:\n",
        "        if letter not in text:\n",
        "            return False\n",
        "\n",
        "    return True\n",
        "\n",
        "input_text = input(\"Input a text: \")\n",
        "\n",
        "if contains_alphabets(input_text):\n",
        "    print(\"Text contains all alphabets.\")\n",
        "else:\n",
        "    print(\"Text no contains\")\n"
      ],
      "metadata": {
        "id": "ypctJYmT7Q8k",
        "colab": {
          "base_uri": "https://localhost:8080/"
        },
        "outputId": "a3d9cbe9-6d32-4a71-f2d5-e187118813d4"
      },
      "execution_count": 20,
      "outputs": [
        {
          "output_type": "stream",
          "name": "stdout",
          "text": [
            "Input a text: The quick brown fox jumps over the lazy dog\n",
            "Text contains all alphabets.\n"
          ]
        }
      ]
    },
    {
      "cell_type": "markdown",
      "source": [
        "46. Write a Python program to convert a given string into a list of words.\n",
        "\n",
        "Sample Output:\n",
        "\n",
        "['The', 'quick', 'brown', 'fox', 'jumps', 'over', 'the', 'lazy', 'dog.']\n",
        "\n",
        "['The', 'quick', 'brown', 'fox', 'jumps', 'over', 'the', 'lazy', 'dog.']"
      ],
      "metadata": {
        "id": "-FFljFFV7RgM"
      }
    },
    {
      "cell_type": "code",
      "source": [
        "def string_to_list(text):\n",
        "    word_list = text.split()\n",
        "    return word_list\n",
        "input_text = input(\"Input a text: \")\n",
        "\n",
        "# Gọi hàm và in kết quả\n",
        "result = string_to_list(input_text)\n",
        "print(\"List:\", result)"
      ],
      "metadata": {
        "id": "EfPg3H_R7WVE",
        "colab": {
          "base_uri": "https://localhost:8080/"
        },
        "outputId": "b938afda-2659-4f54-9d79-f292d7c3a00d"
      },
      "execution_count": 19,
      "outputs": [
        {
          "output_type": "stream",
          "name": "stdout",
          "text": [
            "Input a text: The quick brown fox jumps over the lazy dog\n",
            "List: ['The', 'quick', 'brown', 'fox', 'jumps', 'over', 'the', 'lazy', 'dog']\n"
          ]
        }
      ]
    },
    {
      "cell_type": "markdown",
      "source": [
        "47. Write a Python program to lowercase the first n characters in a string.\n"
      ],
      "metadata": {
        "id": "suoJ8NC47YQl"
      }
    },
    {
      "cell_type": "code",
      "source": [
        "def lowercase(text, n):\n",
        "    first_part = text[:n].lower()\n",
        "    rest_part = text[n:]\n",
        "    new_text = first_part + rest_part\n",
        "    return new_text\n",
        "\n",
        "input_text = input(\"Input a string: \")\n",
        "n = int(input(\"Convert number: \"))\n",
        "\n",
        "result = lowercase(input_text, n)\n",
        "print(\"Result:\", result)\n"
      ],
      "metadata": {
        "id": "Od7vC6jn7av0",
        "colab": {
          "base_uri": "https://localhost:8080/"
        },
        "outputId": "438a52c3-dd2e-49a4-bf22-38303d2b6210"
      },
      "execution_count": 17,
      "outputs": [
        {
          "output_type": "stream",
          "name": "stdout",
          "text": [
            "Input a string: HELLO MAY fen\n",
            "Convert number: 5\n",
            "Result: hello MAY fen\n"
          ]
        }
      ]
    },
    {
      "cell_type": "markdown",
      "source": [
        "48. Write a Python program to swap commas and dots in a string.\n",
        "\n",
        "Sample string: \"32.054,23\"\n",
        "\n",
        "Expected Output: \"32,054.23\""
      ],
      "metadata": {
        "id": "EQoflcGi7bK4"
      }
    },
    {
      "cell_type": "code",
      "source": [
        "def swap_commas_dots(text):\n",
        "    new_text = \"\"\n",
        "    for char in text:\n",
        "        if char == ',':\n",
        "            new_text += '.'\n",
        "        elif char == '.':\n",
        "            new_text += ','\n",
        "        else:\n",
        "            new_text += char\n",
        "    return new_text\n",
        "\n",
        "input_text = input(\"Input a string: \")\n",
        "result = swap_commas_dots(input_text)\n",
        "print(\"Result:\", result)\n"
      ],
      "metadata": {
        "id": "N5NN5yLb7eQK",
        "colab": {
          "base_uri": "https://localhost:8080/"
        },
        "outputId": "d93e9538-02b5-43e1-e303-263ff27e3efc"
      },
      "execution_count": 16,
      "outputs": [
        {
          "output_type": "stream",
          "name": "stdout",
          "text": [
            "Input a string: 32.054,23\n",
            "Result: 32,054.23\n"
          ]
        }
      ]
    },
    {
      "cell_type": "markdown",
      "source": [
        "49. Write a Python program to count and display vowels in text.\n"
      ],
      "metadata": {
        "id": "OcwtjXrQ7epz"
      }
    },
    {
      "cell_type": "code",
      "source": [
        "def count_vowels(text):\n",
        "    vowels = \"aeiouAEIOU\"\n",
        "    count = 0\n",
        "    for char in text:\n",
        "        if char in vowels:\n",
        "            count += 1\n",
        "    return count\n",
        "\n",
        "input_text = input(\"Input a sentence: \")\n",
        "vowel_count = count_vowels(input_text)\n",
        "print(\"vowels:\", vowel_count)\n"
      ],
      "metadata": {
        "id": "12uoiTyD7hPT",
        "colab": {
          "base_uri": "https://localhost:8080/"
        },
        "outputId": "c019ac77-26a9-49d2-91d3-fed8390b3371"
      },
      "execution_count": 15,
      "outputs": [
        {
          "output_type": "stream",
          "name": "stdout",
          "text": [
            "Input a sentence: Ohiyo senpai\n",
            "vowels: 6\n"
          ]
        }
      ]
    },
    {
      "cell_type": "markdown",
      "source": [
        "50. Write a Python program to split a string on the last occurrence of the delimiter."
      ],
      "metadata": {
        "id": "uB8hhfw77hs6"
      }
    },
    {
      "cell_type": "code",
      "source": [
        "def split_last(s, delimiter):\n",
        "    position = s.rfind(delimiter)\n",
        "    if position == -1:\n",
        "        return s, ''\n",
        "    string_1 = s[:position]\n",
        "    string_2 = s[position + 1:]\n",
        "    return string_1, string_2\n",
        "\n",
        "input_string = input(\"Input a string: \")\n",
        "delimiter = input(\"Input a delimiter: \")\n",
        "\n",
        "result1, result2 = split_last(input_string, delimiter)\n",
        "print(\"String:\", result1)\n",
        "print(\"String after split:\", result2)"
      ],
      "metadata": {
        "id": "lp2tvHLe7kwQ",
        "colab": {
          "base_uri": "https://localhost:8080/"
        },
        "outputId": "d34bb36e-1de5-41a2-9e86-01631703a6be"
      },
      "execution_count": 14,
      "outputs": [
        {
          "output_type": "stream",
          "name": "stdout",
          "text": [
            "Input a string: hello,hi,konichiwa\n",
            "Input a delimiter: ,\n",
            "String: hello,hi\n",
            "String after split: konichiwa\n"
          ]
        }
      ]
    }
  ]
}